{
 "cells": [
  {
   "cell_type": "markdown",
   "id": "ca047e54-8315-49ba-bc12-9f7d14936219",
   "metadata": {},
   "source": [
    "# AIG100 – Project 2: Regression and Classification Methods"
   ]
  },
  {
   "cell_type": "markdown",
   "id": "8a843b7c-bd94-4840-bbd5-0bb49852d82d",
   "metadata": {},
   "source": [
    "## Overview\n",
    "This project is to explore applications of regression and classification methods in solving realworld problems using machine learning. You will select datasets and apply appropriate regression and classification methods to predict outcomes and classify data points, respectively.\n",
    "Be reminded that this may look the same as the labs you have completed but this is more comprehensive, and expectations are higher. Moreover, please use a different dataset from your labs. If you wish to use the same dataset, then choose a different model to solve your problem.\n",
    "The aim here is not to redo what you have already implemented! You are free to use any tools/platforms for this project.\n",
    "\n",
    "## Objectives\n",
    "- To understand and apply regression methods to predict numerical outcomes.\n",
    "- To utilize classification methods to categorize data into predefined labels.\n",
    "- To evaluate and compare the performance of different regression and classification\n",
    "models.\n",
    "- To interpret and communicate the results of the analysis effectively."
   ]
  },
  {
   "cell_type": "markdown",
   "id": "9a2e746e-dc5d-4448-bd1f-08d3b39e706a",
   "metadata": {},
   "source": [
    "### 1. Dataset Selection and Objective Definition."
   ]
  },
  {
   "cell_type": "markdown",
   "id": "84bf6592-9a7c-4f82-9e6f-259d8bc2e744",
   "metadata": {},
   "source": [
    "#### a. Choose a dataset for each task: one for regression and another for classification.\n",
    "- **Regression Dataset**: Wine Quality (Red) Dataset from the UCI Repository (UC Irvine Machine Learning Repository)\n",
    "- **Classification Dataset**: Mushroom Dataset from the UCI Repository (UC Irvine Machine Learning Repository)"
   ]
  },
  {
   "cell_type": "code",
   "execution_count": 5,
   "id": "d6a4ab80-24ae-445a-8a85-b62b3b2ecd95",
   "metadata": {},
   "outputs": [
    {
     "data": {
      "text/html": [
       "<div>\n",
       "<style scoped>\n",
       "    .dataframe tbody tr th:only-of-type {\n",
       "        vertical-align: middle;\n",
       "    }\n",
       "\n",
       "    .dataframe tbody tr th {\n",
       "        vertical-align: top;\n",
       "    }\n",
       "\n",
       "    .dataframe thead th {\n",
       "        text-align: right;\n",
       "    }\n",
       "</style>\n",
       "<table border=\"1\" class=\"dataframe\">\n",
       "  <thead>\n",
       "    <tr style=\"text-align: right;\">\n",
       "      <th></th>\n",
       "      <th>fixed acidity</th>\n",
       "      <th>volatile acidity</th>\n",
       "      <th>citric acid</th>\n",
       "      <th>residual sugar</th>\n",
       "      <th>chlorides</th>\n",
       "      <th>free sulfur dioxide</th>\n",
       "      <th>total sulfur dioxide</th>\n",
       "      <th>density</th>\n",
       "      <th>pH</th>\n",
       "      <th>sulphates</th>\n",
       "      <th>alcohol</th>\n",
       "      <th>quality</th>\n",
       "    </tr>\n",
       "  </thead>\n",
       "  <tbody>\n",
       "    <tr>\n",
       "      <th>0</th>\n",
       "      <td>7.4</td>\n",
       "      <td>0.70</td>\n",
       "      <td>0.0</td>\n",
       "      <td>1.9</td>\n",
       "      <td>0.076</td>\n",
       "      <td>11.0</td>\n",
       "      <td>34.0</td>\n",
       "      <td>0.9978</td>\n",
       "      <td>3.51</td>\n",
       "      <td>0.56</td>\n",
       "      <td>9.4</td>\n",
       "      <td>5</td>\n",
       "    </tr>\n",
       "    <tr>\n",
       "      <th>1</th>\n",
       "      <td>7.8</td>\n",
       "      <td>0.88</td>\n",
       "      <td>0.0</td>\n",
       "      <td>2.6</td>\n",
       "      <td>0.098</td>\n",
       "      <td>25.0</td>\n",
       "      <td>67.0</td>\n",
       "      <td>0.9968</td>\n",
       "      <td>3.20</td>\n",
       "      <td>0.68</td>\n",
       "      <td>9.8</td>\n",
       "      <td>5</td>\n",
       "    </tr>\n",
       "  </tbody>\n",
       "</table>\n",
       "</div>"
      ],
      "text/plain": [
       "   fixed acidity  volatile acidity  citric acid  residual sugar  chlorides  \\\n",
       "0            7.4              0.70          0.0             1.9      0.076   \n",
       "1            7.8              0.88          0.0             2.6      0.098   \n",
       "\n",
       "   free sulfur dioxide  total sulfur dioxide  density    pH  sulphates  \\\n",
       "0                 11.0                  34.0   0.9978  3.51       0.56   \n",
       "1                 25.0                  67.0   0.9968  3.20       0.68   \n",
       "\n",
       "   alcohol  quality  \n",
       "0      9.4        5  \n",
       "1      9.8        5  "
      ]
     },
     "execution_count": 5,
     "metadata": {},
     "output_type": "execute_result"
    }
   ],
   "source": [
    "import pandas as pd\n",
    "\n",
    "wine = pd.read_csv(\"./winequality-red.csv\", delimiter=\";\")\n",
    "wine.head(2)"
   ]
  },
  {
   "cell_type": "code",
   "execution_count": 6,
   "id": "df8c29a8-dd9b-4ca4-9be0-876aecbea266",
   "metadata": {},
   "outputs": [
    {
     "data": {
      "text/html": [
       "<div>\n",
       "<style scoped>\n",
       "    .dataframe tbody tr th:only-of-type {\n",
       "        vertical-align: middle;\n",
       "    }\n",
       "\n",
       "    .dataframe tbody tr th {\n",
       "        vertical-align: top;\n",
       "    }\n",
       "\n",
       "    .dataframe thead th {\n",
       "        text-align: right;\n",
       "    }\n",
       "</style>\n",
       "<table border=\"1\" class=\"dataframe\">\n",
       "  <thead>\n",
       "    <tr style=\"text-align: right;\">\n",
       "      <th></th>\n",
       "      <th>class</th>\n",
       "      <th>cap_shape</th>\n",
       "      <th>cap_surface</th>\n",
       "      <th>cap_color</th>\n",
       "      <th>bruises</th>\n",
       "      <th>odor</th>\n",
       "      <th>gill_attachment</th>\n",
       "      <th>gill_spacing</th>\n",
       "      <th>gill_size</th>\n",
       "      <th>gill_color</th>\n",
       "      <th>...</th>\n",
       "      <th>stalk_surface_below_ring</th>\n",
       "      <th>stalk_color_above_ring</th>\n",
       "      <th>stalk_color_below_ring</th>\n",
       "      <th>veil_type</th>\n",
       "      <th>veil_color</th>\n",
       "      <th>ring_number</th>\n",
       "      <th>ring_type</th>\n",
       "      <th>spore_print_color</th>\n",
       "      <th>population</th>\n",
       "      <th>habitat</th>\n",
       "    </tr>\n",
       "  </thead>\n",
       "  <tbody>\n",
       "    <tr>\n",
       "      <th>0</th>\n",
       "      <td>p</td>\n",
       "      <td>x</td>\n",
       "      <td>s</td>\n",
       "      <td>n</td>\n",
       "      <td>t</td>\n",
       "      <td>p</td>\n",
       "      <td>f</td>\n",
       "      <td>c</td>\n",
       "      <td>n</td>\n",
       "      <td>k</td>\n",
       "      <td>...</td>\n",
       "      <td>s</td>\n",
       "      <td>w</td>\n",
       "      <td>w</td>\n",
       "      <td>p</td>\n",
       "      <td>w</td>\n",
       "      <td>o</td>\n",
       "      <td>p</td>\n",
       "      <td>k</td>\n",
       "      <td>s</td>\n",
       "      <td>u</td>\n",
       "    </tr>\n",
       "    <tr>\n",
       "      <th>1</th>\n",
       "      <td>e</td>\n",
       "      <td>x</td>\n",
       "      <td>s</td>\n",
       "      <td>y</td>\n",
       "      <td>t</td>\n",
       "      <td>a</td>\n",
       "      <td>f</td>\n",
       "      <td>c</td>\n",
       "      <td>b</td>\n",
       "      <td>k</td>\n",
       "      <td>...</td>\n",
       "      <td>s</td>\n",
       "      <td>w</td>\n",
       "      <td>w</td>\n",
       "      <td>p</td>\n",
       "      <td>w</td>\n",
       "      <td>o</td>\n",
       "      <td>p</td>\n",
       "      <td>n</td>\n",
       "      <td>n</td>\n",
       "      <td>g</td>\n",
       "    </tr>\n",
       "  </tbody>\n",
       "</table>\n",
       "<p>2 rows × 23 columns</p>\n",
       "</div>"
      ],
      "text/plain": [
       "  class cap_shape cap_surface cap_color bruises odor gill_attachment  \\\n",
       "0     p         x           s         n       t    p               f   \n",
       "1     e         x           s         y       t    a               f   \n",
       "\n",
       "  gill_spacing gill_size gill_color  ... stalk_surface_below_ring  \\\n",
       "0            c         n          k  ...                        s   \n",
       "1            c         b          k  ...                        s   \n",
       "\n",
       "  stalk_color_above_ring stalk_color_below_ring veil_type veil_color  \\\n",
       "0                      w                      w         p          w   \n",
       "1                      w                      w         p          w   \n",
       "\n",
       "  ring_number ring_type spore_print_color population habitat  \n",
       "0           o         p                 k          s       u  \n",
       "1           o         p                 n          n       g  \n",
       "\n",
       "[2 rows x 23 columns]"
      ]
     },
     "execution_count": 6,
     "metadata": {},
     "output_type": "execute_result"
    }
   ],
   "source": [
    "import pandas as pd\n",
    "\n",
    "column_names = [\n",
    "   \"class\", \"cap_shape\", \"cap_surface\", \"cap_color\", \"bruises\", \"odor\", \n",
    "    \"gill_attachment\", \"gill_spacing\", \"gill_size\", \"gill_color\", \"stalk_shape\", \n",
    "    \"stalk_root\", \"stalk_surface_above_ring\", \"stalk_surface_below_ring\", \n",
    "    \"stalk_color_above_ring\", \"stalk_color_below_ring\", \"veil_type\", \n",
    "    \"veil_color\", \"ring_number\", \"ring_type\", \"spore_print_color\", \n",
    "    \"population\", \"habitat\"\n",
    "]\n",
    "\n",
    "mushroom = pd.read_csv(\"./agaricus-lepiota.data\", header=None, names=column_names)\n",
    "mushroom.head(2)"
   ]
  },
  {
   "cell_type": "markdown",
   "id": "6fd39abd-de5d-4d02-99e7-24bf0a0c6764",
   "metadata": {},
   "source": [
    "Additional Variable Information\n",
    "\r\n",
    "    1 . cap-shape:                bell=b,conical=c,convex=x,flat=f, knobbed=k,sunken=s\r\n",
    "     2. cap-surface:              fibrous=f,grooves=g,scaly=y,smooth=s\r\n",
    "     3. cap-color:                brown=n,buff=b,cinnamon=c,gray=g,green=r, pink=p,purple=u,red=e,white=w,yellow=y\r\n",
    "     4. bruises?:                 bruises=t,no=f\r\n",
    "     5. odor:                     almond=a,anise=l,creosote=c,fishy=y,foul=f, musty=m,none=n,pungent=p,spicy=s\r\n",
    "     6. gill-attachment:          attached=a,descending=d,free=f,notched=n\r\n",
    "     7. gill-spacing:             close=c,crowded=w,distant=d\r\n",
    "     8. gill-size:                broad=b,narrow=n\r\n",
    "     9. gill-color:               black=k,brown=n,buff=b,chocolate=h,gray=g, green=r,orange=o,pink=p,purple=u,red=e, white=w,yellow=y\r\n",
    "    10. stalk-shape:              enlarging=e,tapering=t\r\n",
    "    11. stalk-root:               bulbous=b,club=c,cup=u,equal=e, rhizomorphs=z,rooted=r,missing=?\r\n",
    "    12. stalk-surface-above-ring: fibrous=f,scaly=y,silky=k,smooth=s\r\n",
    "    13. stalk-surface-below-ring: fibrous=f,scaly=y,silky=k,smooth=s\r\n",
    "    14. stalk-color-above-ring:   brown=n,buff=b,cinnamon=c,gray=g,orange=o, pink=p,red=e,white=w,yellow=y\r\n",
    "    15. stalk-color-below-ring:   brown=n,buff=b,cinnamon=c,gray=g,orange=o, pink=p,red=e,white=w,yellow=y\r\n",
    "    16. veil-type:                partial=p,universal=u\r\n",
    "    17. veil-color:               brown=n,orange=o,white=w,yellow=y\r\n",
    "    18. ring-number:              none=n,one=o,two=t\r\n",
    "    19. ring-type:                cobwebby=c,evanescent=e,flaring=f,large=l, none=n,pendant=p,sheathing=s,zone=z\r\n",
    "    20. spore-print-color:        black=k,brown=n,buff=b,chocolate=h,green=r, orange=o,purple=u,white=w,yellow=y\r\n",
    "    21. population:               abundant=a,clustered=c,numerous=n, scattered=s,several=v,solitary=y\r\n",
    "    22. habitat:                  grasses=g,leaves=l,meadows=m,paths=p, \n",
    "    \n",
    "Class Labels\n",
    "\r\n",
    "edible=e, poisonous=purban=u,waste=w,woods=d"
   ]
  },
  {
   "cell_type": "markdown",
   "id": "0b2342fe-7122-493a-8e43-7da9a7cf30c6",
   "metadata": {},
   "source": [
    "#### b. Define clear objectives for what you aim to predict or classify."
   ]
  },
  {
   "cell_type": "markdown",
   "id": "9ee00a1b-e99c-4b07-8654-8bc177f426df",
   "metadata": {},
   "source": [
    "<br>"
   ]
  },
  {
   "cell_type": "markdown",
   "id": "7a528f85-9e46-43ac-b398-f1e6b8eccf5a",
   "metadata": {},
   "source": [
    "1. **Regression Dataset: Wine Quality (Red) Dataset**"
   ]
  },
  {
   "cell_type": "markdown",
   "id": "8a79da46-ef1b-4e9c-898f-e30c187db7fe",
   "metadata": {},
   "source": [
    "**Objective:** The goal of using the Wine Quality dataset is to predict the quality of red wine based on various physicochemical properties, such as acidity, sugar content, alcohol level, and pH. By building a regression model, we aim to understand how these features impact wine quality ratings and accurately predict the quality score for new samples. This can help winemakers optimize their processes and identify key characteristics that contribute to higher quality wines."
   ]
  },
  {
   "cell_type": "markdown",
   "id": "c9f86ec4-73eb-4e45-ab2e-37772b95322f",
   "metadata": {},
   "source": [
    "**Independent Variables:**\n",
    "- fixed acidity\n",
    "- volatile acidity\n",
    "- citric acid\n",
    "- residual sugar\n",
    "- chlorides\n",
    "- free sulfur dioxide\n",
    "- total sulfur dioxide\n",
    "- density\n",
    "- pH\n",
    "- sulphates\n",
    "- alcohol\n",
    "- Dependent Variable:"
   ]
  },
  {
   "cell_type": "markdown",
   "id": "2dd54bc2-14ab-4f0a-b6a8-5119dfd65814",
   "metadata": {},
   "source": [
    "**Dependent (Target) Variable:**\n",
    "quality (wine quality score, typically on a scale from 0 to 10)"
   ]
  },
  {
   "cell_type": "markdown",
   "id": "796cf498-6aeb-486b-98f2-f71f1da1049c",
   "metadata": {},
   "source": [
    "<br>"
   ]
  },
  {
   "cell_type": "markdown",
   "id": "ffe243ec-784b-4cd4-8f8a-4887070e982c",
   "metadata": {},
   "source": [
    "\n",
    "2. **Classification Dataset: Mushroom Dataset**"
   ]
  },
  {
   "cell_type": "markdown",
   "id": "d83e27cc-0a87-4ed3-8762-4de871da5af3",
   "metadata": {},
   "source": [
    "**Objective:** The objective of using the Mushroom dataset is to classify mushrooms as either edible or poisonous based on various attributes such as cap shape, gill color, odor, and habitat. By developing a classification model, we aim to create a tool that can reliably distinguish between edible and poisonous mushrooms, which could help foragers and researchers quickly identify safe mushrooms in the wild and reduce the risk of accidental poisoning."
   ]
  },
  {
   "cell_type": "markdown",
   "id": "ca5315a0-88fe-449b-a28a-3f7027d990cd",
   "metadata": {},
   "source": [
    "**Independent Variables:**\n",
    "\n",
    "- cap_shape\r\n",
    "- cap_surface\r\n",
    "- cap_color\r\n",
    "- bruises\r\n",
    "- odor\r\n",
    "- gill_attachment\r\n",
    "- gill_spacing\r\n",
    "- gill_size\r\n",
    "- gill_color\r\n",
    "- stalk_shape\r\n",
    "- stalk_root\r\n",
    "- stalk_surface_above_ring\r\n",
    "- stalk_surface_below_ring\r\n",
    "- stalk_color_above_ring\r\n",
    "- stalk_color_below_ring\r\n",
    "- veil_type\r\n",
    "- veil_color\r\n",
    "- ring_number\r\n",
    "- ring_type\r\n",
    "- spore_print_color\r\n",
    "- population\r\n",
    "- habitatat"
   ]
  },
  {
   "cell_type": "markdown",
   "id": "45a2668c-99c9-42f5-b4c6-6896b9445286",
   "metadata": {},
   "source": [
    "**Dependent (Target) Variables:**\n",
    "- class (e-edible, p-poisonous)"
   ]
  },
  {
   "cell_type": "markdown",
   "id": "359877d9-9d17-4675-b8af-a33f1eaa8e64",
   "metadata": {},
   "source": [
    "<br>"
   ]
  },
  {
   "cell_type": "markdown",
   "id": "09ae17b2-d5bf-45f4-8947-3d324b26942d",
   "metadata": {},
   "source": [
    "### 2. Data Preprocessing"
   ]
  },
  {
   "cell_type": "markdown",
   "id": "72b32b74-c931-406e-8840-3fd4384186a7",
   "metadata": {},
   "source": [
    "#### a. Clean the data, handling missing values and outliers."
   ]
  },
  {
   "cell_type": "markdown",
   "id": "18e4b64b-d2db-448a-a696-005f7408a7e2",
   "metadata": {},
   "source": [
    "**Wine Dataset**"
   ]
  },
  {
   "cell_type": "code",
   "execution_count": 23,
   "id": "4541816f-7a38-4b25-b0bf-46298cbd04b8",
   "metadata": {},
   "outputs": [
    {
     "name": "stdout",
     "output_type": "stream",
     "text": [
      "Wine Dataset Missing Values:\n",
      " fixed acidity           0\n",
      "volatile acidity        0\n",
      "citric acid             0\n",
      "residual sugar          0\n",
      "chlorides               0\n",
      "free sulfur dioxide     0\n",
      "total sulfur dioxide    0\n",
      "density                 0\n",
      "pH                      0\n",
      "sulphates               0\n",
      "alcohol                 0\n",
      "quality                 0\n",
      "dtype: int64\n"
     ]
    }
   ],
   "source": [
    "# Step 1: Check for missing values in the Wine dataset\n",
    "print(\"Wine Dataset Missing Values:\\n\", wine.isnull().sum())"
   ]
  },
  {
   "cell_type": "markdown",
   "id": "36e368fc-f7db-47cb-b284-6ea7c9c48939",
   "metadata": {},
   "source": [
    "- There are no missing values in the wine dataset"
   ]
  },
  {
   "cell_type": "code",
   "execution_count": 25,
   "id": "bfe2254e-5b74-456a-9245-b1d451e52ac9",
   "metadata": {},
   "outputs": [
    {
     "data": {
      "image/png": "[encoded data removed]",
      "text/plain": [
       "<Figure size 1800x1600 with 11 Axes>"
      ]
     },
     "metadata": {},
     "output_type": "display_data"
    }
   ],
   "source": [
    "# Step 2: Outlier Detection using boxplots\n",
    "import seaborn as sns\n",
    "import matplotlib.pyplot as plt\n",
    "\n",
    "features = wine.columns[:-1]\n",
    "\n",
    "plt.figure(figsize=(18, 16))\n",
    "\n",
    "for i, feature in enumerate(features, 1):\n",
    "    plt.subplot(4, 3, i)  # 4 rows, 3 columns\n",
    "    sns.boxplot(x=wine[feature], color=\"orange\")\n",
    "    plt.title(f'Boxplot of {feature}')\n",
    "    plt.xlabel(\"Values\")\n",
    "\n",
    "plt.tight_layout()\n",
    "plt.show()\n"
   ]
  },
  {
   "cell_type": "code",
   "execution_count": 26,
   "id": "9d8ca5c4-907b-419f-8c68-9dc6374ed56f",
   "metadata": {},
   "outputs": [],
   "source": [
    "# Replace outliers with the ceiling and floor based on the IQR for the Wine Quality dataset\n",
    "\n",
    "# Function to cap the outliers at the IQR limits\n",
    "def cap_outliers(df, column):\n",
    "    Q1 = df[column].quantile(0.25)\n",
    "    Q3 = df[column].quantile(0.75)\n",
    "    IQR = Q3 - Q1\n",
    "    lower_bound = Q1 - 1.5 * IQR\n",
    "    upper_bound = Q3 + 1.5 * IQR\n",
    "    df[column] = df[column].apply(lambda x: max(min(x, upper_bound), lower_bound))\n",
    "\n",
    "# Apply the capping function to each feature in the Wine Quality dataset (excluding the target variable 'quality')\n",
    "for column in wine.columns[:-1]:  # Exclude 'quality'\n",
    "    cap_outliers(wine, column)\n"
   ]
  },
  {
   "cell_type": "code",
   "execution_count": 27,
   "id": "4bd06cfe-2784-410c-abef-7bb53437f2fe",
   "metadata": {},
   "outputs": [
    {
     "data": {
      "image/png": "[encoded data removed]",
      "text/plain": [
       "<Figure size 1800x1600 with 11 Axes>"
      ]
     },
     "metadata": {},
     "output_type": "display_data"
    }
   ],
   "source": [
    "plt.figure(figsize=(18, 16))\n",
    "\n",
    "for i, feature in enumerate(features, 1):\n",
    "    plt.subplot(4, 3, i)  # 4 rows, 3 columns\n",
    "    sns.boxplot(x=wine[feature], color=\"orange\")\n",
    "    plt.title(f'Boxplot of {feature}')\n",
    "    plt.xlabel(\"Values\")\n",
    "\n",
    "plt.tight_layout()\n",
    "plt.show()"
   ]
  },
  {
   "cell_type": "markdown",
   "id": "b297d6a5-b7d6-4100-943f-524cbac8ccd9",
   "metadata": {},
   "source": [
    "<br>"
   ]
  },
  {
   "cell_type": "markdown",
   "id": "b43e76d6-9f6f-43f3-8282-a5d178b0b256",
   "metadata": {},
   "source": [
    "**Mushroom Dataset**"
   ]
  },
  {
   "cell_type": "code",
   "execution_count": 30,
   "id": "4421af37-cc69-44e6-a420-a2863061ba12",
   "metadata": {},
   "outputs": [
    {
     "name": "stdout",
     "output_type": "stream",
     "text": [
      "Mushroom Dataset Missing Values:\n",
      " class                       0\n",
      "cap_shape                   0\n",
      "cap_surface                 0\n",
      "cap_color                   0\n",
      "bruises                     0\n",
      "odor                        0\n",
      "gill_attachment             0\n",
      "gill_spacing                0\n",
      "gill_size                   0\n",
      "gill_color                  0\n",
      "stalk_shape                 0\n",
      "stalk_root                  0\n",
      "stalk_surface_above_ring    0\n",
      "stalk_surface_below_ring    0\n",
      "stalk_color_above_ring      0\n",
      "stalk_color_below_ring      0\n",
      "veil_type                   0\n",
      "veil_color                  0\n",
      "ring_number                 0\n",
      "ring_type                   0\n",
      "spore_print_color           0\n",
      "population                  0\n",
      "habitat                     0\n",
      "dtype: int64\n"
     ]
    }
   ],
   "source": [
    "# Step 1: Check for missing values in the Mushroom dataset\n",
    "print(\"Mushroom Dataset Missing Values:\\n\", mushroom.isnull().sum())"
   ]
  },
  {
   "cell_type": "code",
   "execution_count": 31,
   "id": "22164700-c919-4890-92ff-38ce577a619e",
   "metadata": {},
   "outputs": [
    {
     "data": {
      "image/png": "[encoded data removed]",
      "text/plain": [
       "<Figure size 1800x2500 with 23 Axes>"
      ]
     },
     "metadata": {},
     "output_type": "display_data"
    }
   ],
   "source": [
    "# Step 2: Check for imbalances with histogram\n",
    "\n",
    "# Plot histograms for each feature in the Mushroom dataset before one-hot encoding\n",
    "plt.figure(figsize=(18, 25))\n",
    "\n",
    "# Plot each feature in a separate subplot\n",
    "for i, column in enumerate(mushroom.columns, 1):\n",
    "    plt.subplot(8, 3, i)\n",
    "    mushroom[column].value_counts().plot(kind='bar', color=\"orange\")\n",
    "    plt.title(column)\n",
    "    plt.xlabel(\"Values\")\n",
    "    plt.ylabel(\"Frequency\")\n",
    "\n",
    "plt.tight_layout()\n",
    "plt.show()\n"
   ]
  },
  {
   "cell_type": "markdown",
   "id": "73fdb012-be92-4afa-95fd-8df3bdd36372",
   "metadata": {},
   "source": [
    "- Class for P and E is close to having equal balance, so no sampling required"
   ]
  },
  {
   "cell_type": "markdown",
   "id": "10ccb51a-25a8-4c08-a736-9008baac0e13",
   "metadata": {},
   "source": [
    "- Rare Categories like odor will be kept for decision trees can handle it"
   ]
  },
  {
   "cell_type": "markdown",
   "id": "a37d5133-2694-4870-90d5-da68c49fc50c",
   "metadata": {},
   "source": [
    "    - cap_shape: Categories 's' (32) and 'c' (4) are rare.\n",
    "    - cap_surface: Category 'g' (4) is rare.\n",
    "    - cap_color: Categories 'c' (44), 'u' (16), and 'r' (16) are rare.\n",
    "    - odor: Category 'm' (36) is rare.\n",
    "    - gill_color: Categories 'e' (96), 'y' (86), 'o' (64), and 'r' (24) are rare.\n",
    "    - stalk_surface_above_ring: Category 'y' (24) is rare.\n",
    "    - stalk_color_above_ring: Categories 'e' (96), 'c' (36), and 'y' (8) are rare.\n",
    "    - stalk_color_below_ring: Categories 'e' (96), 'c' (36), and 'y' (24) are rare.\n",
    "    - veil_color: Categories 'n' (96), 'o' (96), and 'y' (8) are rare.\n",
    "    - ring_number: Category 'n' (36) is rare.\n",
    "    - ring_type: Categories 'f' (48) and 'n' (36) are rare.\n",
    "    - spore_print_color: Categories 'r' (72), 'u' (48), 'o' (48), 'y' (48), and 'b' (48) are rare."
   ]
  },
  {
   "cell_type": "markdown",
   "id": "29277c55-c773-40af-884a-128a5b5cdb3b",
   "metadata": {},
   "source": [
    "- Viel Type has only one type so it can be dropped"
   ]
  },
  {
   "cell_type": "code",
   "execution_count": 36,
   "id": "75197c80-f8ff-4dc6-be47-cb8a38c16f73",
   "metadata": {},
   "outputs": [
    {
     "data": {
      "text/plain": [
       "(8124, 23)"
      ]
     },
     "execution_count": 36,
     "metadata": {},
     "output_type": "execute_result"
    }
   ],
   "source": [
    "mushroom.shape"
   ]
  },
  {
   "cell_type": "code",
   "execution_count": 37,
   "id": "67fb3605-c4d7-4308-9785-d89b4fcca323",
   "metadata": {},
   "outputs": [],
   "source": [
    "mushroom = mushroom.drop(columns=['veil_type'])"
   ]
  },
  {
   "cell_type": "code",
   "execution_count": 38,
   "id": "770fb588-4dd4-401e-88fc-c54683d7d01b",
   "metadata": {},
   "outputs": [
    {
     "data": {
      "text/plain": [
       "(8124, 22)"
      ]
     },
     "execution_count": 38,
     "metadata": {},
     "output_type": "execute_result"
    }
   ],
   "source": [
    "mushroom.shape"
   ]
  },
  {
   "cell_type": "markdown",
   "id": "7fe24f0f-8770-478b-b753-b7b32de379bf",
   "metadata": {},
   "source": [
    "<br>"
   ]
  },
  {
   "cell_type": "markdown",
   "id": "904fcd50-7779-4771-bb2a-f0a069c6224a",
   "metadata": {},
   "source": [
    "#### b. Perform any necessary transformations to prepare the data for modeling."
   ]
  },
  {
   "cell_type": "markdown",
   "id": "5099072c-1652-40e3-86c4-0b8810fda2de",
   "metadata": {},
   "source": [
    "#### Regression Model: Wine Data Preprocessing"
   ]
  },
  {
   "cell_type": "code",
   "execution_count": 42,
   "id": "97995c93-a45f-4cd1-9005-0fe288316e1f",
   "metadata": {},
   "outputs": [],
   "source": [
    "import pandas as pd\n",
    "from sklearn.preprocessing import StandardScaler\n",
    "\n",
    "# Separate features and target\n",
    "X_wine = wine.drop(columns='quality')\n",
    "y_wine = wine['quality']\n",
    "\n",
    "# Standardize the features\n",
    "scaler = StandardScaler()\n",
    "X_wine_scaled = scaler.fit_transform(X_wine)\n",
    "\n",
    "# Convert to DataFrame for easier handling in modeling\n",
    "X_wine_scaled_df = pd.DataFrame(X_wine_scaled, columns=X_wine.columns)\n",
    "wine_preprocessed = pd.concat([X_wine_scaled_df, y_wine.reset_index(drop=True)], axis=1)"
   ]
  },
  {
   "cell_type": "code",
   "execution_count": 43,
   "id": "76b86e82-4e96-4023-b45a-285f5eec048a",
   "metadata": {},
   "outputs": [
    {
     "data": {
      "text/html": [
       "<div>\n",
       "<style scoped>\n",
       "    .dataframe tbody tr th:only-of-type {\n",
       "        vertical-align: middle;\n",
       "    }\n",
       "\n",
       "    .dataframe tbody tr th {\n",
       "        vertical-align: top;\n",
       "    }\n",
       "\n",
       "    .dataframe thead th {\n",
       "        text-align: right;\n",
       "    }\n",
       "</style>\n",
       "<table border=\"1\" class=\"dataframe\">\n",
       "  <thead>\n",
       "    <tr style=\"text-align: right;\">\n",
       "      <th></th>\n",
       "      <th>fixed acidity</th>\n",
       "      <th>volatile acidity</th>\n",
       "      <th>citric acid</th>\n",
       "      <th>residual sugar</th>\n",
       "      <th>chlorides</th>\n",
       "      <th>free sulfur dioxide</th>\n",
       "      <th>total sulfur dioxide</th>\n",
       "      <th>density</th>\n",
       "      <th>pH</th>\n",
       "      <th>sulphates</th>\n",
       "      <th>alcohol</th>\n",
       "    </tr>\n",
       "  </thead>\n",
       "  <tbody>\n",
       "    <tr>\n",
       "      <th>0</th>\n",
       "      <td>-0.538197</td>\n",
       "      <td>0.997591</td>\n",
       "      <td>-1.39254</td>\n",
       "      <td>-0.693182</td>\n",
       "      <td>-0.291550</td>\n",
       "      <td>-0.476813</td>\n",
       "      <td>-0.385806</td>\n",
       "      <td>0.585705</td>\n",
       "      <td>1.332717</td>\n",
       "      <td>-0.655496</td>\n",
       "      <td>-0.966950</td>\n",
       "    </tr>\n",
       "    <tr>\n",
       "      <th>1</th>\n",
       "      <td>-0.296555</td>\n",
       "      <td>2.032132</td>\n",
       "      <td>-1.39254</td>\n",
       "      <td>0.455672</td>\n",
       "      <td>0.943237</td>\n",
       "      <td>0.946759</td>\n",
       "      <td>0.700988</td>\n",
       "      <td>0.031853</td>\n",
       "      <td>-0.736650</td>\n",
       "      <td>0.220142</td>\n",
       "      <td>-0.587615</td>\n",
       "    </tr>\n",
       "  </tbody>\n",
       "</table>\n",
       "</div>"
      ],
      "text/plain": [
       "   fixed acidity  volatile acidity  citric acid  residual sugar  chlorides  \\\n",
       "0      -0.538197          0.997591     -1.39254       -0.693182  -0.291550   \n",
       "1      -0.296555          2.032132     -1.39254        0.455672   0.943237   \n",
       "\n",
       "   free sulfur dioxide  total sulfur dioxide   density        pH  sulphates  \\\n",
       "0            -0.476813             -0.385806  0.585705  1.332717  -0.655496   \n",
       "1             0.946759              0.700988  0.031853 -0.736650   0.220142   \n",
       "\n",
       "    alcohol  \n",
       "0 -0.966950  \n",
       "1 -0.587615  "
      ]
     },
     "execution_count": 43,
     "metadata": {},
     "output_type": "execute_result"
    }
   ],
   "source": [
    "X_wine_scaled_df.head(2)"
   ]
  },
  {
   "cell_type": "code",
   "execution_count": 44,
   "id": "bff4a9ac-48be-4667-b882-d27ca124a59f",
   "metadata": {},
   "outputs": [
    {
     "data": {
      "text/html": [
       "<div>\n",
       "<style scoped>\n",
       "    .dataframe tbody tr th:only-of-type {\n",
       "        vertical-align: middle;\n",
       "    }\n",
       "\n",
       "    .dataframe tbody tr th {\n",
       "        vertical-align: top;\n",
       "    }\n",
       "\n",
       "    .dataframe thead th {\n",
       "        text-align: right;\n",
       "    }\n",
       "</style>\n",
       "<table border=\"1\" class=\"dataframe\">\n",
       "  <thead>\n",
       "    <tr style=\"text-align: right;\">\n",
       "      <th></th>\n",
       "      <th>fixed acidity</th>\n",
       "      <th>volatile acidity</th>\n",
       "      <th>citric acid</th>\n",
       "      <th>residual sugar</th>\n",
       "      <th>chlorides</th>\n",
       "      <th>free sulfur dioxide</th>\n",
       "      <th>total sulfur dioxide</th>\n",
       "      <th>density</th>\n",
       "      <th>pH</th>\n",
       "      <th>sulphates</th>\n",
       "      <th>alcohol</th>\n",
       "      <th>quality</th>\n",
       "    </tr>\n",
       "  </thead>\n",
       "  <tbody>\n",
       "    <tr>\n",
       "      <th>0</th>\n",
       "      <td>-0.538197</td>\n",
       "      <td>0.997591</td>\n",
       "      <td>-1.39254</td>\n",
       "      <td>-0.693182</td>\n",
       "      <td>-0.291550</td>\n",
       "      <td>-0.476813</td>\n",
       "      <td>-0.385806</td>\n",
       "      <td>0.585705</td>\n",
       "      <td>1.332717</td>\n",
       "      <td>-0.655496</td>\n",
       "      <td>-0.966950</td>\n",
       "      <td>5</td>\n",
       "    </tr>\n",
       "    <tr>\n",
       "      <th>1</th>\n",
       "      <td>-0.296555</td>\n",
       "      <td>2.032132</td>\n",
       "      <td>-1.39254</td>\n",
       "      <td>0.455672</td>\n",
       "      <td>0.943237</td>\n",
       "      <td>0.946759</td>\n",
       "      <td>0.700988</td>\n",
       "      <td>0.031853</td>\n",
       "      <td>-0.736650</td>\n",
       "      <td>0.220142</td>\n",
       "      <td>-0.587615</td>\n",
       "      <td>5</td>\n",
       "    </tr>\n",
       "  </tbody>\n",
       "</table>\n",
       "</div>"
      ],
      "text/plain": [
       "   fixed acidity  volatile acidity  citric acid  residual sugar  chlorides  \\\n",
       "0      -0.538197          0.997591     -1.39254       -0.693182  -0.291550   \n",
       "1      -0.296555          2.032132     -1.39254        0.455672   0.943237   \n",
       "\n",
       "   free sulfur dioxide  total sulfur dioxide   density        pH  sulphates  \\\n",
       "0            -0.476813             -0.385806  0.585705  1.332717  -0.655496   \n",
       "1             0.946759              0.700988  0.031853 -0.736650   0.220142   \n",
       "\n",
       "    alcohol  quality  \n",
       "0 -0.966950        5  \n",
       "1 -0.587615        5  "
      ]
     },
     "execution_count": 44,
     "metadata": {},
     "output_type": "execute_result"
    }
   ],
   "source": [
    "wine_preprocessed.head(2)"
   ]
  },
  {
   "cell_type": "code",
   "execution_count": 67,
   "id": "89b5f215-805a-4c0f-ad91-e6c0319036cf",
   "metadata": {},
   "outputs": [
    {
     "data": {
      "text/plain": [
       "((1279, 11), (320, 11), (1279,), (320,))"
      ]
     },
     "execution_count": 67,
     "metadata": {},
     "output_type": "execute_result"
    }
   ],
   "source": [
    "from sklearn.model_selection import train_test_split\n",
    "\n",
    "# Split data into training and testing\n",
    "X_wine_train, X_wine_test, y_wine_train, y_wine_test = train_test_split(X_wine_scaled_df, y_wine, test_size=0.2, random_state=42)\n",
    "(X_wine_train.shape, X_wine_test.shape, y_wine_train.shape, y_wine_test.shape)"
   ]
  },
  {
   "cell_type": "markdown",
   "id": "dc8fb253-8218-48e3-a138-7fba26c54d1d",
   "metadata": {},
   "source": [
    "#### Classification Model: Mushroom Data Preprocessing"
   ]
  },
  {
   "cell_type": "code",
   "execution_count": 61,
   "id": "e9135c08-9e50-4e3f-89be-9f01dc87693a",
   "metadata": {},
   "outputs": [],
   "source": [
    "# Separate features and target variable\n",
    "X_mushroom = mushroom.drop(columns=['class'])\n",
    "y_mushroom = mushroom['class'].map({'p': 1, 'e': 0})  # Map 'class' column to 1 and 0\n",
    "\n",
    "# Perform one-hot encoding on the feature set only\n",
    "X_mushroom_encoded = pd.get_dummies(X_mushroom, dtype=int)"
   ]
  },
  {
   "cell_type": "code",
   "execution_count": 63,
   "id": "71593237-4acd-4e42-b39e-5976eac289c1",
   "metadata": {},
   "outputs": [
    {
     "data": {
      "text/html": [
       "<div>\n",
       "<style scoped>\n",
       "    .dataframe tbody tr th:only-of-type {\n",
       "        vertical-align: middle;\n",
       "    }\n",
       "\n",
       "    .dataframe tbody tr th {\n",
       "        vertical-align: top;\n",
       "    }\n",
       "\n",
       "    .dataframe thead th {\n",
       "        text-align: right;\n",
       "    }\n",
       "</style>\n",
       "<table border=\"1\" class=\"dataframe\">\n",
       "  <thead>\n",
       "    <tr style=\"text-align: right;\">\n",
       "      <th></th>\n",
       "      <th>cap_shape_b</th>\n",
       "      <th>cap_shape_c</th>\n",
       "      <th>cap_shape_f</th>\n",
       "      <th>cap_shape_k</th>\n",
       "      <th>cap_shape_s</th>\n",
       "      <th>cap_shape_x</th>\n",
       "      <th>cap_surface_f</th>\n",
       "      <th>cap_surface_g</th>\n",
       "      <th>cap_surface_s</th>\n",
       "      <th>cap_surface_y</th>\n",
       "      <th>...</th>\n",
       "      <th>population_s</th>\n",
       "      <th>population_v</th>\n",
       "      <th>population_y</th>\n",
       "      <th>habitat_d</th>\n",
       "      <th>habitat_g</th>\n",
       "      <th>habitat_l</th>\n",
       "      <th>habitat_m</th>\n",
       "      <th>habitat_p</th>\n",
       "      <th>habitat_u</th>\n",
       "      <th>habitat_w</th>\n",
       "    </tr>\n",
       "  </thead>\n",
       "  <tbody>\n",
       "    <tr>\n",
       "      <th>0</th>\n",
       "      <td>0</td>\n",
       "      <td>0</td>\n",
       "      <td>0</td>\n",
       "      <td>0</td>\n",
       "      <td>0</td>\n",
       "      <td>1</td>\n",
       "      <td>0</td>\n",
       "      <td>0</td>\n",
       "      <td>1</td>\n",
       "      <td>0</td>\n",
       "      <td>...</td>\n",
       "      <td>1</td>\n",
       "      <td>0</td>\n",
       "      <td>0</td>\n",
       "      <td>0</td>\n",
       "      <td>0</td>\n",
       "      <td>0</td>\n",
       "      <td>0</td>\n",
       "      <td>0</td>\n",
       "      <td>1</td>\n",
       "      <td>0</td>\n",
       "    </tr>\n",
       "    <tr>\n",
       "      <th>1</th>\n",
       "      <td>0</td>\n",
       "      <td>0</td>\n",
       "      <td>0</td>\n",
       "      <td>0</td>\n",
       "      <td>0</td>\n",
       "      <td>1</td>\n",
       "      <td>0</td>\n",
       "      <td>0</td>\n",
       "      <td>1</td>\n",
       "      <td>0</td>\n",
       "      <td>...</td>\n",
       "      <td>0</td>\n",
       "      <td>0</td>\n",
       "      <td>0</td>\n",
       "      <td>0</td>\n",
       "      <td>1</td>\n",
       "      <td>0</td>\n",
       "      <td>0</td>\n",
       "      <td>0</td>\n",
       "      <td>0</td>\n",
       "      <td>0</td>\n",
       "    </tr>\n",
       "  </tbody>\n",
       "</table>\n",
       "<p>2 rows × 116 columns</p>\n",
       "</div>"
      ],
      "text/plain": [
       "   cap_shape_b  cap_shape_c  cap_shape_f  cap_shape_k  cap_shape_s  \\\n",
       "0            0            0            0            0            0   \n",
       "1            0            0            0            0            0   \n",
       "\n",
       "   cap_shape_x  cap_surface_f  cap_surface_g  cap_surface_s  cap_surface_y  \\\n",
       "0            1              0              0              1              0   \n",
       "1            1              0              0              1              0   \n",
       "\n",
       "   ...  population_s  population_v  population_y  habitat_d  habitat_g  \\\n",
       "0  ...             1             0             0          0          0   \n",
       "1  ...             0             0             0          0          1   \n",
       "\n",
       "   habitat_l  habitat_m  habitat_p  habitat_u  habitat_w  \n",
       "0          0          0          0          1          0  \n",
       "1          0          0          0          0          0  \n",
       "\n",
       "[2 rows x 116 columns]"
      ]
     },
     "execution_count": 63,
     "metadata": {},
     "output_type": "execute_result"
    }
   ],
   "source": [
    "X_mushroom_encoded.head(2)"
   ]
  },
  {
   "cell_type": "code",
   "execution_count": 69,
   "id": "cea34f38-53c6-4537-87ba-82b31e34567f",
   "metadata": {},
   "outputs": [
    {
     "data": {
      "text/plain": [
       "((6499, 116), (1625, 116), (6499,), (1625,))"
      ]
     },
     "execution_count": 69,
     "metadata": {},
     "output_type": "execute_result"
    }
   ],
   "source": [
    "from sklearn.model_selection import train_test_split\n",
    "\n",
    "# Split data into training and testing\n",
    "X_mushroom_train, X_mushroom_test, y_mushroom_train, y_mushroom_test = train_test_split(X_mushroom_encoded, y_mushroom, test_size=0.2, random_state=42)\n",
    "(X_mushroom_train.shape, X_mushroom_test.shape, y_mushroom_train.shape, y_mushroom_test.shape)"
   ]
  },
  {
   "cell_type": "markdown",
   "id": "57373611-cfe0-4c26-b92c-efeba3a3227e",
   "metadata": {},
   "source": [
    "<br> <br>"
   ]
  },
  {
   "cell_type": "markdown",
   "id": "e372eb70-99b6-4bb3-8ec9-77245184804c",
   "metadata": {},
   "source": [
    "### 3. Model Implementation"
   ]
  },
  {
   "cell_type": "markdown",
   "id": "3d40cb07-593e-4be4-8523-01e423e6f794",
   "metadata": {},
   "source": [
    "#### a. For regression: Apply at least two different regression techniques (e.g., linear regression, decision trees)."
   ]
  },
  {
   "cell_type": "markdown",
   "id": "4f29fe81-c52c-4241-b1af-b7daf0d1f3a8",
   "metadata": {},
   "source": [
    "#### - a.1 linear regression"
   ]
  },
  {
   "cell_type": "code",
   "execution_count": 88,
   "id": "924f6b24-a124-488b-b498-88abd6b454d9",
   "metadata": {},
   "outputs": [
    {
     "data": {
      "text/html": [
       "<style>#sk-container-id-1 {\n",
       "  /* Definition of color scheme common for light and dark mode */\n",
       "  --sklearn-color-text: black;\n",
       "  --sklearn-color-line: gray;\n",
       "  /* Definition of color scheme for unfitted estimators */\n",
       "  --sklearn-color-unfitted-level-0: #fff5e6;\n",
       "  --sklearn-color-unfitted-level-1: #f6e4d2;\n",
       "  --sklearn-color-unfitted-level-2: #ffe0b3;\n",
       "  --sklearn-color-unfitted-level-3: chocolate;\n",
       "  /* Definition of color scheme for fitted estimators */\n",
       "  --sklearn-color-fitted-level-0: #f0f8ff;\n",
       "  --sklearn-color-fitted-level-1: #d4ebff;\n",
       "  --sklearn-color-fitted-level-2: #b3dbfd;\n",
       "  --sklearn-color-fitted-level-3: cornflowerblue;\n",
       "\n",
       "  /* Specific color for light theme */\n",
       "  --sklearn-color-text-on-default-background: var(--sg-text-color, var(--theme-code-foreground, var(--jp-content-font-color1, black)));\n",
       "  --sklearn-color-background: var(--sg-background-color, var(--theme-background, var(--jp-layout-color0, white)));\n",
       "  --sklearn-color-border-box: var(--sg-text-color, var(--theme-code-foreground, var(--jp-content-font-color1, black)));\n",
       "  --sklearn-color-icon: #696969;\n",
       "\n",
       "  @media (prefers-color-scheme: dark) {\n",
       "    /* Redefinition of color scheme for dark theme */\n",
       "    --sklearn-color-text-on-default-background: var(--sg-text-color, var(--theme-code-foreground, var(--jp-content-font-color1, white)));\n",
       "    --sklearn-color-background: var(--sg-background-color, var(--theme-background, var(--jp-layout-color0, #111)));\n",
       "    --sklearn-color-border-box: var(--sg-text-color, var(--theme-code-foreground, var(--jp-content-font-color1, white)));\n",
       "    --sklearn-color-icon: #878787;\n",
       "  }\n",
       "}\n",
       "\n",
       "#sk-container-id-1 {\n",
       "  color: var(--sklearn-color-text);\n",
       "}\n",
       "\n",
       "#sk-container-id-1 pre {\n",
       "  padding: 0;\n",
       "}\n",
       "\n",
       "#sk-container-id-1 input.sk-hidden--visually {\n",
       "  border: 0;\n",
       "  clip: rect(1px 1px 1px 1px);\n",
       "  clip: rect(1px, 1px, 1px, 1px);\n",
       "  height: 1px;\n",
       "  margin: -1px;\n",
       "  overflow: hidden;\n",
       "  padding: 0;\n",
       "  position: absolute;\n",
       "  width: 1px;\n",
       "}\n",
       "\n",
       "#sk-container-id-1 div.sk-dashed-wrapped {\n",
       "  border: 1px dashed var(--sklearn-color-line);\n",
       "  margin: 0 0.4em 0.5em 0.4em;\n",
       "  box-sizing: border-box;\n",
       "  padding-bottom: 0.4em;\n",
       "  background-color: var(--sklearn-color-background);\n",
       "}\n",
       "\n",
       "#sk-container-id-1 div.sk-container {\n",
       "  /* jupyter's `normalize.less` sets `[hidden] { display: none; }`\n",
       "     but bootstrap.min.css set `[hidden] { display: none !important; }`\n",
       "     so we also need the `!important` here to be able to override the\n",
       "     default hidden behavior on the sphinx rendered scikit-learn.org.\n",
       "     See: https://github.com/scikit-learn/scikit-learn/issues/21755 */\n",
       "  display: inline-block !important;\n",
       "  position: relative;\n",
       "}\n",
       "\n",
       "#sk-container-id-1 div.sk-text-repr-fallback {\n",
       "  display: none;\n",
       "}\n",
       "\n",
       "div.sk-parallel-item,\n",
       "div.sk-serial,\n",
       "div.sk-item {\n",
       "  /* draw centered vertical line to link estimators */\n",
       "  background-image: linear-gradient(var(--sklearn-color-text-on-default-background), var(--sklearn-color-text-on-default-background));\n",
       "  background-size: 2px 100%;\n",
       "  background-repeat: no-repeat;\n",
       "  background-position: center center;\n",
       "}\n",
       "\n",
       "/* Parallel-specific style estimator block */\n",
       "\n",
       "#sk-container-id-1 div.sk-parallel-item::after {\n",
       "  content: \"\";\n",
       "  width: 100%;\n",
       "  border-bottom: 2px solid var(--sklearn-color-text-on-default-background);\n",
       "  flex-grow: 1;\n",
       "}\n",
       "\n",
       "#sk-container-id-1 div.sk-parallel {\n",
       "  display: flex;\n",
       "  align-items: stretch;\n",
       "  justify-content: center;\n",
       "  background-color: var(--sklearn-color-background);\n",
       "  position: relative;\n",
       "}\n",
       "\n",
       "#sk-container-id-1 div.sk-parallel-item {\n",
       "  display: flex;\n",
       "  flex-direction: column;\n",
       "}\n",
       "\n",
       "#sk-container-id-1 div.sk-parallel-item:first-child::after {\n",
       "  align-self: flex-end;\n",
       "  width: 50%;\n",
       "}\n",
       "\n",
       "#sk-container-id-1 div.sk-parallel-item:last-child::after {\n",
       "  align-self: flex-start;\n",
       "  width: 50%;\n",
       "}\n",
       "\n",
       "#sk-container-id-1 div.sk-parallel-item:only-child::after {\n",
       "  width: 0;\n",
       "}\n",
       "\n",
       "/* Serial-specific style estimator block */\n",
       "\n",
       "#sk-container-id-1 div.sk-serial {\n",
       "  display: flex;\n",
       "  flex-direction: column;\n",
       "  align-items: center;\n",
       "  background-color: var(--sklearn-color-background);\n",
       "  padding-right: 1em;\n",
       "  padding-left: 1em;\n",
       "}\n",
       "\n",
       "\n",
       "/* Toggleable style: style used for estimator/Pipeline/ColumnTransformer box that is\n",
       "clickable and can be expanded/collapsed.\n",
       "- Pipeline and ColumnTransformer use this feature and define the default style\n",
       "- Estimators will overwrite some part of the style using the `sk-estimator` class\n",
       "*/\n",
       "\n",
       "/* Pipeline and ColumnTransformer style (default) */\n",
       "\n",
       "#sk-container-id-1 div.sk-toggleable {\n",
       "  /* Default theme specific background. It is overwritten whether we have a\n",
       "  specific estimator or a Pipeline/ColumnTransformer */\n",
       "  background-color: var(--sklearn-color-background);\n",
       "}\n",
       "\n",
       "/* Toggleable label */\n",
       "#sk-container-id-1 label.sk-toggleable__label {\n",
       "  cursor: pointer;\n",
       "  display: block;\n",
       "  width: 100%;\n",
       "  margin-bottom: 0;\n",
       "  padding: 0.5em;\n",
       "  box-sizing: border-box;\n",
       "  text-align: center;\n",
       "}\n",
       "\n",
       "#sk-container-id-1 label.sk-toggleable__label-arrow:before {\n",
       "  /* Arrow on the left of the label */\n",
       "  content: \"▸\";\n",
       "  float: left;\n",
       "  margin-right: 0.25em;\n",
       "  color: var(--sklearn-color-icon);\n",
       "}\n",
       "\n",
       "#sk-container-id-1 label.sk-toggleable__label-arrow:hover:before {\n",
       "  color: var(--sklearn-color-text);\n",
       "}\n",
       "\n",
       "/* Toggleable content - dropdown */\n",
       "\n",
       "#sk-container-id-1 div.sk-toggleable__content {\n",
       "  max-height: 0;\n",
       "  max-width: 0;\n",
       "  overflow: hidden;\n",
       "  text-align: left;\n",
       "  /* unfitted */\n",
       "  background-color: var(--sklearn-color-unfitted-level-0);\n",
       "}\n",
       "\n",
       "#sk-container-id-1 div.sk-toggleable__content.fitted {\n",
       "  /* fitted */\n",
       "  background-color: var(--sklearn-color-fitted-level-0);\n",
       "}\n",
       "\n",
       "#sk-container-id-1 div.sk-toggleable__content pre {\n",
       "  margin: 0.2em;\n",
       "  border-radius: 0.25em;\n",
       "  color: var(--sklearn-color-text);\n",
       "  /* unfitted */\n",
       "  background-color: var(--sklearn-color-unfitted-level-0);\n",
       "}\n",
       "\n",
       "#sk-container-id-1 div.sk-toggleable__content.fitted pre {\n",
       "  /* unfitted */\n",
       "  background-color: var(--sklearn-color-fitted-level-0);\n",
       "}\n",
       "\n",
       "#sk-container-id-1 input.sk-toggleable__control:checked~div.sk-toggleable__content {\n",
       "  /* Expand drop-down */\n",
       "  max-height: 200px;\n",
       "  max-width: 100%;\n",
       "  overflow: auto;\n",
       "}\n",
       "\n",
       "#sk-container-id-1 input.sk-toggleable__control:checked~label.sk-toggleable__label-arrow:before {\n",
       "  content: \"▾\";\n",
       "}\n",
       "\n",
       "/* Pipeline/ColumnTransformer-specific style */\n",
       "\n",
       "#sk-container-id-1 div.sk-label input.sk-toggleable__control:checked~label.sk-toggleable__label {\n",
       "  color: var(--sklearn-color-text);\n",
       "  background-color: var(--sklearn-color-unfitted-level-2);\n",
       "}\n",
       "\n",
       "#sk-container-id-1 div.sk-label.fitted input.sk-toggleable__control:checked~label.sk-toggleable__label {\n",
       "  background-color: var(--sklearn-color-fitted-level-2);\n",
       "}\n",
       "\n",
       "/* Estimator-specific style */\n",
       "\n",
       "/* Colorize estimator box */\n",
       "#sk-container-id-1 div.sk-estimator input.sk-toggleable__control:checked~label.sk-toggleable__label {\n",
       "  /* unfitted */\n",
       "  background-color: var(--sklearn-color-unfitted-level-2);\n",
       "}\n",
       "\n",
       "#sk-container-id-1 div.sk-estimator.fitted input.sk-toggleable__control:checked~label.sk-toggleable__label {\n",
       "  /* fitted */\n",
       "  background-color: var(--sklearn-color-fitted-level-2);\n",
       "}\n",
       "\n",
       "#sk-container-id-1 div.sk-label label.sk-toggleable__label,\n",
       "#sk-container-id-1 div.sk-label label {\n",
       "  /* The background is the default theme color */\n",
       "  color: var(--sklearn-color-text-on-default-background);\n",
       "}\n",
       "\n",
       "/* On hover, darken the color of the background */\n",
       "#sk-container-id-1 div.sk-label:hover label.sk-toggleable__label {\n",
       "  color: var(--sklearn-color-text);\n",
       "  background-color: var(--sklearn-color-unfitted-level-2);\n",
       "}\n",
       "\n",
       "/* Label box, darken color on hover, fitted */\n",
       "#sk-container-id-1 div.sk-label.fitted:hover label.sk-toggleable__label.fitted {\n",
       "  color: var(--sklearn-color-text);\n",
       "  background-color: var(--sklearn-color-fitted-level-2);\n",
       "}\n",
       "\n",
       "/* Estimator label */\n",
       "\n",
       "#sk-container-id-1 div.sk-label label {\n",
       "  font-family: monospace;\n",
       "  font-weight: bold;\n",
       "  display: inline-block;\n",
       "  line-height: 1.2em;\n",
       "}\n",
       "\n",
       "#sk-container-id-1 div.sk-label-container {\n",
       "  text-align: center;\n",
       "}\n",
       "\n",
       "/* Estimator-specific */\n",
       "#sk-container-id-1 div.sk-estimator {\n",
       "  font-family: monospace;\n",
       "  border: 1px dotted var(--sklearn-color-border-box);\n",
       "  border-radius: 0.25em;\n",
       "  box-sizing: border-box;\n",
       "  margin-bottom: 0.5em;\n",
       "  /* unfitted */\n",
       "  background-color: var(--sklearn-color-unfitted-level-0);\n",
       "}\n",
       "\n",
       "#sk-container-id-1 div.sk-estimator.fitted {\n",
       "  /* fitted */\n",
       "  background-color: var(--sklearn-color-fitted-level-0);\n",
       "}\n",
       "\n",
       "/* on hover */\n",
       "#sk-container-id-1 div.sk-estimator:hover {\n",
       "  /* unfitted */\n",
       "  background-color: var(--sklearn-color-unfitted-level-2);\n",
       "}\n",
       "\n",
       "#sk-container-id-1 div.sk-estimator.fitted:hover {\n",
       "  /* fitted */\n",
       "  background-color: var(--sklearn-color-fitted-level-2);\n",
       "}\n",
       "\n",
       "/* Specification for estimator info (e.g. \"i\" and \"?\") */\n",
       "\n",
       "/* Common style for \"i\" and \"?\" */\n",
       "\n",
       ".sk-estimator-doc-link,\n",
       "a:link.sk-estimator-doc-link,\n",
       "a:visited.sk-estimator-doc-link {\n",
       "  float: right;\n",
       "  font-size: smaller;\n",
       "  line-height: 1em;\n",
       "  font-family: monospace;\n",
       "  background-color: var(--sklearn-color-background);\n",
       "  border-radius: 1em;\n",
       "  height: 1em;\n",
       "  width: 1em;\n",
       "  text-decoration: none !important;\n",
       "  margin-left: 1ex;\n",
       "  /* unfitted */\n",
       "  border: var(--sklearn-color-unfitted-level-1) 1pt solid;\n",
       "  color: var(--sklearn-color-unfitted-level-1);\n",
       "}\n",
       "\n",
       ".sk-estimator-doc-link.fitted,\n",
       "a:link.sk-estimator-doc-link.fitted,\n",
       "a:visited.sk-estimator-doc-link.fitted {\n",
       "  /* fitted */\n",
       "  border: var(--sklearn-color-fitted-level-1) 1pt solid;\n",
       "  color: var(--sklearn-color-fitted-level-1);\n",
       "}\n",
       "\n",
       "/* On hover */\n",
       "div.sk-estimator:hover .sk-estimator-doc-link:hover,\n",
       ".sk-estimator-doc-link:hover,\n",
       "div.sk-label-container:hover .sk-estimator-doc-link:hover,\n",
       ".sk-estimator-doc-link:hover {\n",
       "  /* unfitted */\n",
       "  background-color: var(--sklearn-color-unfitted-level-3);\n",
       "  color: var(--sklearn-color-background);\n",
       "  text-decoration: none;\n",
       "}\n",
       "\n",
       "div.sk-estimator.fitted:hover .sk-estimator-doc-link.fitted:hover,\n",
       ".sk-estimator-doc-link.fitted:hover,\n",
       "div.sk-label-container:hover .sk-estimator-doc-link.fitted:hover,\n",
       ".sk-estimator-doc-link.fitted:hover {\n",
       "  /* fitted */\n",
       "  background-color: var(--sklearn-color-fitted-level-3);\n",
       "  color: var(--sklearn-color-background);\n",
       "  text-decoration: none;\n",
       "}\n",
       "\n",
       "/* Span, style for the box shown on hovering the info icon */\n",
       ".sk-estimator-doc-link span {\n",
       "  display: none;\n",
       "  z-index: 9999;\n",
       "  position: relative;\n",
       "  font-weight: normal;\n",
       "  right: .2ex;\n",
       "  padding: .5ex;\n",
       "  margin: .5ex;\n",
       "  width: min-content;\n",
       "  min-width: 20ex;\n",
       "  max-width: 50ex;\n",
       "  color: var(--sklearn-color-text);\n",
       "  box-shadow: 2pt 2pt 4pt #999;\n",
       "  /* unfitted */\n",
       "  background: var(--sklearn-color-unfitted-level-0);\n",
       "  border: .5pt solid var(--sklearn-color-unfitted-level-3);\n",
       "}\n",
       "\n",
       ".sk-estimator-doc-link.fitted span {\n",
       "  /* fitted */\n",
       "  background: var(--sklearn-color-fitted-level-0);\n",
       "  border: var(--sklearn-color-fitted-level-3);\n",
       "}\n",
       "\n",
       ".sk-estimator-doc-link:hover span {\n",
       "  display: block;\n",
       "}\n",
       "\n",
       "/* \"?\"-specific style due to the `<a>` HTML tag */\n",
       "\n",
       "#sk-container-id-1 a.estimator_doc_link {\n",
       "  float: right;\n",
       "  font-size: 1rem;\n",
       "  line-height: 1em;\n",
       "  font-family: monospace;\n",
       "  background-color: var(--sklearn-color-background);\n",
       "  border-radius: 1rem;\n",
       "  height: 1rem;\n",
       "  width: 1rem;\n",
       "  text-decoration: none;\n",
       "  /* unfitted */\n",
       "  color: var(--sklearn-color-unfitted-level-1);\n",
       "  border: var(--sklearn-color-unfitted-level-1) 1pt solid;\n",
       "}\n",
       "\n",
       "#sk-container-id-1 a.estimator_doc_link.fitted {\n",
       "  /* fitted */\n",
       "  border: var(--sklearn-color-fitted-level-1) 1pt solid;\n",
       "  color: var(--sklearn-color-fitted-level-1);\n",
       "}\n",
       "\n",
       "/* On hover */\n",
       "#sk-container-id-1 a.estimator_doc_link:hover {\n",
       "  /* unfitted */\n",
       "  background-color: var(--sklearn-color-unfitted-level-3);\n",
       "  color: var(--sklearn-color-background);\n",
       "  text-decoration: none;\n",
       "}\n",
       "\n",
       "#sk-container-id-1 a.estimator_doc_link.fitted:hover {\n",
       "  /* fitted */\n",
       "  background-color: var(--sklearn-color-fitted-level-3);\n",
       "}\n",
       "</style><div id=\"sk-container-id-1\" class=\"sk-top-container\"><div class=\"sk-text-repr-fallback\"><pre>LinearRegression()</pre><b>In a Jupyter environment, please rerun this cell to show the HTML representation or trust the notebook. <br />On GitHub, the HTML representation is unable to render, please try loading this page with nbviewer.org.</b></div><div class=\"sk-container\" hidden><div class=\"sk-item\"><div class=\"sk-estimator fitted sk-toggleable\"><input class=\"sk-toggleable__control sk-hidden--visually\" id=\"sk-estimator-id-1\" type=\"checkbox\" checked><label for=\"sk-estimator-id-1\" class=\"sk-toggleable__label fitted sk-toggleable__label-arrow fitted\">&nbsp;&nbsp;LinearRegression<a class=\"sk-estimator-doc-link fitted\" rel=\"noreferrer\" target=\"_blank\" href=\"https://scikit-learn.org/1.4/modules/generated/sklearn.linear_model.LinearRegression.html\">?<span>Documentation for LinearRegression</span></a><span class=\"sk-estimator-doc-link fitted\">i<span>Fitted</span></span></label><div class=\"sk-toggleable__content fitted\"><pre>LinearRegression()</pre></div> </div></div></div></div>"
      ],
      "text/plain": [
       "LinearRegression()"
      ]
     },
     "execution_count": 88,
     "metadata": {},
     "output_type": "execute_result"
    }
   ],
   "source": [
    "from sklearn.linear_model import LinearRegression\n",
    "\n",
    "# Initialize the Linear Regression model\n",
    "linear_regressor = LinearRegression()\n",
    "\n",
    "# Train the model on the Wine Quality training data\n",
    "linear_regressor.fit(X_wine_train, y_wine_train)"
   ]
  },
  {
   "cell_type": "code",
   "execution_count": 92,
   "id": "0b24273f-ad0d-4220-a0fd-93fa19d975ee",
   "metadata": {},
   "outputs": [
    {
     "data": {
      "text/plain": [
       "array([5.34396955, 5.01411083, 5.7833199 , 5.40777537, 5.68187482,\n",
       "       5.20073915, 5.09705167, 5.06263425, 5.75789441, 5.67968924,\n",
       "       6.07507579, 5.23868652, 5.56452309, 5.22662576, 5.39771254,\n",
       "       6.42434438, 5.12578129, 5.5828783 , 6.61420504, 5.40027526,\n",
       "       5.33262902, 5.17790417, 5.92306065, 6.36906989, 5.36644242,\n",
       "       5.44090699, 6.37014164, 5.32699688, 5.19818894, 6.28191444,\n",
       "       5.22033992, 5.397087  , 5.72816381, 5.34440242, 5.48383343,\n",
       "       4.99495041, 6.17946955, 5.73928734, 5.63625758, 6.09068554,\n",
       "       5.48603057, 5.23937805, 6.20808646, 5.20778336, 5.93189823,\n",
       "       5.94505481, 6.51061644, 5.61082208, 5.11102113, 5.56716836,\n",
       "       5.22736157, 5.53933021, 5.57790927, 6.47064593, 4.91019438,\n",
       "       4.95604998, 6.05274733, 5.38021806, 5.81329546, 5.21407674,\n",
       "       5.6060987 , 5.97923011, 5.18736305, 5.25880553, 6.5274881 ,\n",
       "       5.33602167, 6.30875147, 5.29375136, 6.43894537, 5.2965546 ,\n",
       "       6.38842895, 4.74948394, 5.80155452, 5.78269744, 6.16516136,\n",
       "       5.30519796, 6.69904278, 5.87781473, 6.09711804, 6.48833777,\n",
       "       5.25987512, 6.49272379, 5.46352007, 5.65827059, 5.77771653,\n",
       "       6.49909227, 5.24801001, 5.89711983, 6.37933325, 5.21100839,\n",
       "       6.11755176, 5.76166735, 5.7962298 , 5.91480561, 5.1017323 ,\n",
       "       5.69931608, 5.1269861 , 5.71553513, 5.02060601, 5.5093129 ,\n",
       "       5.05638776, 5.11134052, 5.83577341, 5.7364042 , 5.46750799,\n",
       "       6.14135178, 5.73750337, 5.45313341, 6.05321502, 5.49801103,\n",
       "       6.55988623, 5.22434868, 6.19982303, 4.79507686, 5.82394652,\n",
       "       6.00649915, 6.16392516, 5.47240208, 4.96048805, 5.82134362,\n",
       "       6.17632996, 5.35856905, 5.82880711, 5.35975929, 5.41393866,\n",
       "       5.23622315, 6.27820979, 5.71204431, 5.50637545, 5.7935543 ,\n",
       "       5.80155452, 5.11664631, 5.00394294, 6.29927296, 5.56716836,\n",
       "       5.08612607, 5.02275013, 5.33513307, 5.08416096, 5.66729125,\n",
       "       6.04079923, 6.11408363, 6.26790828, 5.44449788, 5.92994644,\n",
       "       5.31136604, 6.04485988, 5.32173907, 5.96145227, 5.09945624,\n",
       "       5.68526421, 6.16324455, 5.11170435, 5.6554972 , 5.80155452,\n",
       "       6.16339957, 5.24463281, 5.91052064, 5.43747827, 5.9538753 ,\n",
       "       6.30702633, 5.71339733, 6.11780624, 4.95426403, 5.3809206 ,\n",
       "       5.59182119, 4.72066817, 5.18468168, 5.08541189, 4.97106293,\n",
       "       5.14839567, 5.03847939, 6.28366334, 5.46395791, 6.2141424 ,\n",
       "       5.89627216, 6.19248073, 5.32818767, 5.28190992, 5.03712533,\n",
       "       4.67359173, 6.33711208, 5.59438695, 6.48854996, 5.17144284,\n",
       "       6.31523579, 5.40735976, 5.76775124, 6.74884493, 5.46395791,\n",
       "       5.41642863, 6.0850514 , 5.53429808, 6.48616259, 5.7865574 ,\n",
       "       5.27995534, 4.87178862, 5.35551317, 5.54743841, 6.14135178,\n",
       "       5.38341033, 5.63220963, 5.41002611, 4.97766107, 6.71371921,\n",
       "       5.59927817, 4.78021296, 5.7467438 , 5.73433627, 6.07349367,\n",
       "       6.08240457, 5.41028657, 5.76922682, 6.57943003, 6.32221691,\n",
       "       5.76548914, 5.47311639, 5.17689725, 5.77279212, 5.2896879 ,\n",
       "       5.07458481, 6.2897505 , 6.32961423, 6.01284386, 5.20019116,\n",
       "       4.79089061, 5.17893328, 6.47209682, 5.44962051, 5.32203064,\n",
       "       5.65092403, 5.03022543, 6.24707665, 5.95184018, 6.01084575,\n",
       "       6.14135178, 5.34501598, 5.77771653, 4.93313693, 5.02936279,\n",
       "       5.68672809, 4.96025016, 5.85406618, 6.11203049, 5.74087488,\n",
       "       5.57143661, 5.95854931, 5.33494307, 6.66457408, 5.10206145,\n",
       "       5.76421439, 5.57516487, 5.36816452, 5.57350269, 5.31969787,\n",
       "       5.11785392, 5.48430401, 5.86413597, 5.69168482, 6.70885302,\n",
       "       6.1953583 , 6.05393376, 5.32818767, 6.4613836 , 5.96567124,\n",
       "       6.33920699, 5.1473171 , 4.87134483, 5.89259138, 6.25163601,\n",
       "       5.09517214, 5.88854941, 5.36792996, 5.15596267, 5.27994702,\n",
       "       5.39062043, 5.61680769, 6.24860834, 6.32771091, 5.29531025,\n",
       "       6.55436416, 5.00472623, 5.39324956, 5.48713604, 5.33393789,\n",
       "       5.81772376, 4.91206143, 6.11408363, 5.08796526, 5.9006901 ,\n",
       "       5.53477958, 6.60480645, 5.59885158, 5.56488851, 4.94658116,\n",
       "       6.36403626, 5.09150976, 6.26702317, 6.2786317 , 6.44340404,\n",
       "       5.43179057, 5.10161143, 6.27505834, 5.30594743, 5.2357724 ,\n",
       "       5.29976498, 5.88066091, 5.9456217 , 6.23571407, 6.59115356,\n",
       "       5.52036964, 5.51149271, 5.4737468 , 5.60819511, 5.34440242,\n",
       "       5.68442632, 5.14443094, 5.2121438 , 6.24602316, 5.18956932])"
      ]
     },
     "execution_count": 92,
     "metadata": {},
     "output_type": "execute_result"
    }
   ],
   "source": [
    "# Make predictions on the test data\n",
    "y_wine_pred = linear_regressor.predict(X_wine_test)\n",
    "y_wine_pred"
   ]
  },
  {
   "cell_type": "markdown",
   "id": "10bd79b8-a606-4643-8963-47d5de953aaf",
   "metadata": {},
   "source": [
    "#### - a.2 Decision Trees"
   ]
  },
  {
   "cell_type": "code",
   "execution_count": 94,
   "id": "3c5336f5-264f-44a2-b0b1-5a80226cfa86",
   "metadata": {},
   "outputs": [
    {
     "data": {
      "text/html": [
       "<style>#sk-container-id-2 {\n",
       "  /* Definition of color scheme common for light and dark mode */\n",
       "  --sklearn-color-text: black;\n",
       "  --sklearn-color-line: gray;\n",
       "  /* Definition of color scheme for unfitted estimators */\n",
       "  --sklearn-color-unfitted-level-0: #fff5e6;\n",
       "  --sklearn-color-unfitted-level-1: #f6e4d2;\n",
       "  --sklearn-color-unfitted-level-2: #ffe0b3;\n",
       "  --sklearn-color-unfitted-level-3: chocolate;\n",
       "  /* Definition of color scheme for fitted estimators */\n",
       "  --sklearn-color-fitted-level-0: #f0f8ff;\n",
       "  --sklearn-color-fitted-level-1: #d4ebff;\n",
       "  --sklearn-color-fitted-level-2: #b3dbfd;\n",
       "  --sklearn-color-fitted-level-3: cornflowerblue;\n",
       "\n",
       "  /* Specific color for light theme */\n",
       "  --sklearn-color-text-on-default-background: var(--sg-text-color, var(--theme-code-foreground, var(--jp-content-font-color1, black)));\n",
       "  --sklearn-color-background: var(--sg-background-color, var(--theme-background, var(--jp-layout-color0, white)));\n",
       "  --sklearn-color-border-box: var(--sg-text-color, var(--theme-code-foreground, var(--jp-content-font-color1, black)));\n",
       "  --sklearn-color-icon: #696969;\n",
       "\n",
       "  @media (prefers-color-scheme: dark) {\n",
       "    /* Redefinition of color scheme for dark theme */\n",
       "    --sklearn-color-text-on-default-background: var(--sg-text-color, var(--theme-code-foreground, var(--jp-content-font-color1, white)));\n",
       "    --sklearn-color-background: var(--sg-background-color, var(--theme-background, var(--jp-layout-color0, #111)));\n",
       "    --sklearn-color-border-box: var(--sg-text-color, var(--theme-code-foreground, var(--jp-content-font-color1, white)));\n",
       "    --sklearn-color-icon: #878787;\n",
       "  }\n",
       "}\n",
       "\n",
       "#sk-container-id-2 {\n",
       "  color: var(--sklearn-color-text);\n",
       "}\n",
       "\n",
       "#sk-container-id-2 pre {\n",
       "  padding: 0;\n",
       "}\n",
       "\n",
       "#sk-container-id-2 input.sk-hidden--visually {\n",
       "  border: 0;\n",
       "  clip: rect(1px 1px 1px 1px);\n",
       "  clip: rect(1px, 1px, 1px, 1px);\n",
       "  height: 1px;\n",
       "  margin: -1px;\n",
       "  overflow: hidden;\n",
       "  padding: 0;\n",
       "  position: absolute;\n",
       "  width: 1px;\n",
       "}\n",
       "\n",
       "#sk-container-id-2 div.sk-dashed-wrapped {\n",
       "  border: 1px dashed var(--sklearn-color-line);\n",
       "  margin: 0 0.4em 0.5em 0.4em;\n",
       "  box-sizing: border-box;\n",
       "  padding-bottom: 0.4em;\n",
       "  background-color: var(--sklearn-color-background);\n",
       "}\n",
       "\n",
       "#sk-container-id-2 div.sk-container {\n",
       "  /* jupyter's `normalize.less` sets `[hidden] { display: none; }`\n",
       "     but bootstrap.min.css set `[hidden] { display: none !important; }`\n",
       "     so we also need the `!important` here to be able to override the\n",
       "     default hidden behavior on the sphinx rendered scikit-learn.org.\n",
       "     See: https://github.com/scikit-learn/scikit-learn/issues/21755 */\n",
       "  display: inline-block !important;\n",
       "  position: relative;\n",
       "}\n",
       "\n",
       "#sk-container-id-2 div.sk-text-repr-fallback {\n",
       "  display: none;\n",
       "}\n",
       "\n",
       "div.sk-parallel-item,\n",
       "div.sk-serial,\n",
       "div.sk-item {\n",
       "  /* draw centered vertical line to link estimators */\n",
       "  background-image: linear-gradient(var(--sklearn-color-text-on-default-background), var(--sklearn-color-text-on-default-background));\n",
       "  background-size: 2px 100%;\n",
       "  background-repeat: no-repeat;\n",
       "  background-position: center center;\n",
       "}\n",
       "\n",
       "/* Parallel-specific style estimator block */\n",
       "\n",
       "#sk-container-id-2 div.sk-parallel-item::after {\n",
       "  content: \"\";\n",
       "  width: 100%;\n",
       "  border-bottom: 2px solid var(--sklearn-color-text-on-default-background);\n",
       "  flex-grow: 1;\n",
       "}\n",
       "\n",
       "#sk-container-id-2 div.sk-parallel {\n",
       "  display: flex;\n",
       "  align-items: stretch;\n",
       "  justify-content: center;\n",
       "  background-color: var(--sklearn-color-background);\n",
       "  position: relative;\n",
       "}\n",
       "\n",
       "#sk-container-id-2 div.sk-parallel-item {\n",
       "  display: flex;\n",
       "  flex-direction: column;\n",
       "}\n",
       "\n",
       "#sk-container-id-2 div.sk-parallel-item:first-child::after {\n",
       "  align-self: flex-end;\n",
       "  width: 50%;\n",
       "}\n",
       "\n",
       "#sk-container-id-2 div.sk-parallel-item:last-child::after {\n",
       "  align-self: flex-start;\n",
       "  width: 50%;\n",
       "}\n",
       "\n",
       "#sk-container-id-2 div.sk-parallel-item:only-child::after {\n",
       "  width: 0;\n",
       "}\n",
       "\n",
       "/* Serial-specific style estimator block */\n",
       "\n",
       "#sk-container-id-2 div.sk-serial {\n",
       "  display: flex;\n",
       "  flex-direction: column;\n",
       "  align-items: center;\n",
       "  background-color: var(--sklearn-color-background);\n",
       "  padding-right: 1em;\n",
       "  padding-left: 1em;\n",
       "}\n",
       "\n",
       "\n",
       "/* Toggleable style: style used for estimator/Pipeline/ColumnTransformer box that is\n",
       "clickable and can be expanded/collapsed.\n",
       "- Pipeline and ColumnTransformer use this feature and define the default style\n",
       "- Estimators will overwrite some part of the style using the `sk-estimator` class\n",
       "*/\n",
       "\n",
       "/* Pipeline and ColumnTransformer style (default) */\n",
       "\n",
       "#sk-container-id-2 div.sk-toggleable {\n",
       "  /* Default theme specific background. It is overwritten whether we have a\n",
       "  specific estimator or a Pipeline/ColumnTransformer */\n",
       "  background-color: var(--sklearn-color-background);\n",
       "}\n",
       "\n",
       "/* Toggleable label */\n",
       "#sk-container-id-2 label.sk-toggleable__label {\n",
       "  cursor: pointer;\n",
       "  display: block;\n",
       "  width: 100%;\n",
       "  margin-bottom: 0;\n",
       "  padding: 0.5em;\n",
       "  box-sizing: border-box;\n",
       "  text-align: center;\n",
       "}\n",
       "\n",
       "#sk-container-id-2 label.sk-toggleable__label-arrow:before {\n",
       "  /* Arrow on the left of the label */\n",
       "  content: \"▸\";\n",
       "  float: left;\n",
       "  margin-right: 0.25em;\n",
       "  color: var(--sklearn-color-icon);\n",
       "}\n",
       "\n",
       "#sk-container-id-2 label.sk-toggleable__label-arrow:hover:before {\n",
       "  color: var(--sklearn-color-text);\n",
       "}\n",
       "\n",
       "/* Toggleable content - dropdown */\n",
       "\n",
       "#sk-container-id-2 div.sk-toggleable__content {\n",
       "  max-height: 0;\n",
       "  max-width: 0;\n",
       "  overflow: hidden;\n",
       "  text-align: left;\n",
       "  /* unfitted */\n",
       "  background-color: var(--sklearn-color-unfitted-level-0);\n",
       "}\n",
       "\n",
       "#sk-container-id-2 div.sk-toggleable__content.fitted {\n",
       "  /* fitted */\n",
       "  background-color: var(--sklearn-color-fitted-level-0);\n",
       "}\n",
       "\n",
       "#sk-container-id-2 div.sk-toggleable__content pre {\n",
       "  margin: 0.2em;\n",
       "  border-radius: 0.25em;\n",
       "  color: var(--sklearn-color-text);\n",
       "  /* unfitted */\n",
       "  background-color: var(--sklearn-color-unfitted-level-0);\n",
       "}\n",
       "\n",
       "#sk-container-id-2 div.sk-toggleable__content.fitted pre {\n",
       "  /* unfitted */\n",
       "  background-color: var(--sklearn-color-fitted-level-0);\n",
       "}\n",
       "\n",
       "#sk-container-id-2 input.sk-toggleable__control:checked~div.sk-toggleable__content {\n",
       "  /* Expand drop-down */\n",
       "  max-height: 200px;\n",
       "  max-width: 100%;\n",
       "  overflow: auto;\n",
       "}\n",
       "\n",
       "#sk-container-id-2 input.sk-toggleable__control:checked~label.sk-toggleable__label-arrow:before {\n",
       "  content: \"▾\";\n",
       "}\n",
       "\n",
       "/* Pipeline/ColumnTransformer-specific style */\n",
       "\n",
       "#sk-container-id-2 div.sk-label input.sk-toggleable__control:checked~label.sk-toggleable__label {\n",
       "  color: var(--sklearn-color-text);\n",
       "  background-color: var(--sklearn-color-unfitted-level-2);\n",
       "}\n",
       "\n",
       "#sk-container-id-2 div.sk-label.fitted input.sk-toggleable__control:checked~label.sk-toggleable__label {\n",
       "  background-color: var(--sklearn-color-fitted-level-2);\n",
       "}\n",
       "\n",
       "/* Estimator-specific style */\n",
       "\n",
       "/* Colorize estimator box */\n",
       "#sk-container-id-2 div.sk-estimator input.sk-toggleable__control:checked~label.sk-toggleable__label {\n",
       "  /* unfitted */\n",
       "  background-color: var(--sklearn-color-unfitted-level-2);\n",
       "}\n",
       "\n",
       "#sk-container-id-2 div.sk-estimator.fitted input.sk-toggleable__control:checked~label.sk-toggleable__label {\n",
       "  /* fitted */\n",
       "  background-color: var(--sklearn-color-fitted-level-2);\n",
       "}\n",
       "\n",
       "#sk-container-id-2 div.sk-label label.sk-toggleable__label,\n",
       "#sk-container-id-2 div.sk-label label {\n",
       "  /* The background is the default theme color */\n",
       "  color: var(--sklearn-color-text-on-default-background);\n",
       "}\n",
       "\n",
       "/* On hover, darken the color of the background */\n",
       "#sk-container-id-2 div.sk-label:hover label.sk-toggleable__label {\n",
       "  color: var(--sklearn-color-text);\n",
       "  background-color: var(--sklearn-color-unfitted-level-2);\n",
       "}\n",
       "\n",
       "/* Label box, darken color on hover, fitted */\n",
       "#sk-container-id-2 div.sk-label.fitted:hover label.sk-toggleable__label.fitted {\n",
       "  color: var(--sklearn-color-text);\n",
       "  background-color: var(--sklearn-color-fitted-level-2);\n",
       "}\n",
       "\n",
       "/* Estimator label */\n",
       "\n",
       "#sk-container-id-2 div.sk-label label {\n",
       "  font-family: monospace;\n",
       "  font-weight: bold;\n",
       "  display: inline-block;\n",
       "  line-height: 1.2em;\n",
       "}\n",
       "\n",
       "#sk-container-id-2 div.sk-label-container {\n",
       "  text-align: center;\n",
       "}\n",
       "\n",
       "/* Estimator-specific */\n",
       "#sk-container-id-2 div.sk-estimator {\n",
       "  font-family: monospace;\n",
       "  border: 1px dotted var(--sklearn-color-border-box);\n",
       "  border-radius: 0.25em;\n",
       "  box-sizing: border-box;\n",
       "  margin-bottom: 0.5em;\n",
       "  /* unfitted */\n",
       "  background-color: var(--sklearn-color-unfitted-level-0);\n",
       "}\n",
       "\n",
       "#sk-container-id-2 div.sk-estimator.fitted {\n",
       "  /* fitted */\n",
       "  background-color: var(--sklearn-color-fitted-level-0);\n",
       "}\n",
       "\n",
       "/* on hover */\n",
       "#sk-container-id-2 div.sk-estimator:hover {\n",
       "  /* unfitted */\n",
       "  background-color: var(--sklearn-color-unfitted-level-2);\n",
       "}\n",
       "\n",
       "#sk-container-id-2 div.sk-estimator.fitted:hover {\n",
       "  /* fitted */\n",
       "  background-color: var(--sklearn-color-fitted-level-2);\n",
       "}\n",
       "\n",
       "/* Specification for estimator info (e.g. \"i\" and \"?\") */\n",
       "\n",
       "/* Common style for \"i\" and \"?\" */\n",
       "\n",
       ".sk-estimator-doc-link,\n",
       "a:link.sk-estimator-doc-link,\n",
       "a:visited.sk-estimator-doc-link {\n",
       "  float: right;\n",
       "  font-size: smaller;\n",
       "  line-height: 1em;\n",
       "  font-family: monospace;\n",
       "  background-color: var(--sklearn-color-background);\n",
       "  border-radius: 1em;\n",
       "  height: 1em;\n",
       "  width: 1em;\n",
       "  text-decoration: none !important;\n",
       "  margin-left: 1ex;\n",
       "  /* unfitted */\n",
       "  border: var(--sklearn-color-unfitted-level-1) 1pt solid;\n",
       "  color: var(--sklearn-color-unfitted-level-1);\n",
       "}\n",
       "\n",
       ".sk-estimator-doc-link.fitted,\n",
       "a:link.sk-estimator-doc-link.fitted,\n",
       "a:visited.sk-estimator-doc-link.fitted {\n",
       "  /* fitted */\n",
       "  border: var(--sklearn-color-fitted-level-1) 1pt solid;\n",
       "  color: var(--sklearn-color-fitted-level-1);\n",
       "}\n",
       "\n",
       "/* On hover */\n",
       "div.sk-estimator:hover .sk-estimator-doc-link:hover,\n",
       ".sk-estimator-doc-link:hover,\n",
       "div.sk-label-container:hover .sk-estimator-doc-link:hover,\n",
       ".sk-estimator-doc-link:hover {\n",
       "  /* unfitted */\n",
       "  background-color: var(--sklearn-color-unfitted-level-3);\n",
       "  color: var(--sklearn-color-background);\n",
       "  text-decoration: none;\n",
       "}\n",
       "\n",
       "div.sk-estimator.fitted:hover .sk-estimator-doc-link.fitted:hover,\n",
       ".sk-estimator-doc-link.fitted:hover,\n",
       "div.sk-label-container:hover .sk-estimator-doc-link.fitted:hover,\n",
       ".sk-estimator-doc-link.fitted:hover {\n",
       "  /* fitted */\n",
       "  background-color: var(--sklearn-color-fitted-level-3);\n",
       "  color: var(--sklearn-color-background);\n",
       "  text-decoration: none;\n",
       "}\n",
       "\n",
       "/* Span, style for the box shown on hovering the info icon */\n",
       ".sk-estimator-doc-link span {\n",
       "  display: none;\n",
       "  z-index: 9999;\n",
       "  position: relative;\n",
       "  font-weight: normal;\n",
       "  right: .2ex;\n",
       "  padding: .5ex;\n",
       "  margin: .5ex;\n",
       "  width: min-content;\n",
       "  min-width: 20ex;\n",
       "  max-width: 50ex;\n",
       "  color: var(--sklearn-color-text);\n",
       "  box-shadow: 2pt 2pt 4pt #999;\n",
       "  /* unfitted */\n",
       "  background: var(--sklearn-color-unfitted-level-0);\n",
       "  border: .5pt solid var(--sklearn-color-unfitted-level-3);\n",
       "}\n",
       "\n",
       ".sk-estimator-doc-link.fitted span {\n",
       "  /* fitted */\n",
       "  background: var(--sklearn-color-fitted-level-0);\n",
       "  border: var(--sklearn-color-fitted-level-3);\n",
       "}\n",
       "\n",
       ".sk-estimator-doc-link:hover span {\n",
       "  display: block;\n",
       "}\n",
       "\n",
       "/* \"?\"-specific style due to the `<a>` HTML tag */\n",
       "\n",
       "#sk-container-id-2 a.estimator_doc_link {\n",
       "  float: right;\n",
       "  font-size: 1rem;\n",
       "  line-height: 1em;\n",
       "  font-family: monospace;\n",
       "  background-color: var(--sklearn-color-background);\n",
       "  border-radius: 1rem;\n",
       "  height: 1rem;\n",
       "  width: 1rem;\n",
       "  text-decoration: none;\n",
       "  /* unfitted */\n",
       "  color: var(--sklearn-color-unfitted-level-1);\n",
       "  border: var(--sklearn-color-unfitted-level-1) 1pt solid;\n",
       "}\n",
       "\n",
       "#sk-container-id-2 a.estimator_doc_link.fitted {\n",
       "  /* fitted */\n",
       "  border: var(--sklearn-color-fitted-level-1) 1pt solid;\n",
       "  color: var(--sklearn-color-fitted-level-1);\n",
       "}\n",
       "\n",
       "/* On hover */\n",
       "#sk-container-id-2 a.estimator_doc_link:hover {\n",
       "  /* unfitted */\n",
       "  background-color: var(--sklearn-color-unfitted-level-3);\n",
       "  color: var(--sklearn-color-background);\n",
       "  text-decoration: none;\n",
       "}\n",
       "\n",
       "#sk-container-id-2 a.estimator_doc_link.fitted:hover {\n",
       "  /* fitted */\n",
       "  background-color: var(--sklearn-color-fitted-level-3);\n",
       "}\n",
       "</style><div id=\"sk-container-id-2\" class=\"sk-top-container\"><div class=\"sk-text-repr-fallback\"><pre>DecisionTreeRegressor(random_state=42)</pre><b>In a Jupyter environment, please rerun this cell to show the HTML representation or trust the notebook. <br />On GitHub, the HTML representation is unable to render, please try loading this page with nbviewer.org.</b></div><div class=\"sk-container\" hidden><div class=\"sk-item\"><div class=\"sk-estimator fitted sk-toggleable\"><input class=\"sk-toggleable__control sk-hidden--visually\" id=\"sk-estimator-id-2\" type=\"checkbox\" checked><label for=\"sk-estimator-id-2\" class=\"sk-toggleable__label fitted sk-toggleable__label-arrow fitted\">&nbsp;&nbsp;DecisionTreeRegressor<a class=\"sk-estimator-doc-link fitted\" rel=\"noreferrer\" target=\"_blank\" href=\"https://scikit-learn.org/1.4/modules/generated/sklearn.tree.DecisionTreeRegressor.html\">?<span>Documentation for DecisionTreeRegressor</span></a><span class=\"sk-estimator-doc-link fitted\">i<span>Fitted</span></span></label><div class=\"sk-toggleable__content fitted\"><pre>DecisionTreeRegressor(random_state=42)</pre></div> </div></div></div></div>"
      ],
      "text/plain": [
       "DecisionTreeRegressor(random_state=42)"
      ]
     },
     "execution_count": 94,
     "metadata": {},
     "output_type": "execute_result"
    }
   ],
   "source": [
    "from sklearn.tree import DecisionTreeRegressor\n",
    "\n",
    "# Initialize the Decision Tree Regressor model\n",
    "decision_tree_regressor = DecisionTreeRegressor(random_state=42)\n",
    "\n",
    "# Train the model on the Wine Quality training data\n",
    "decision_tree_regressor.fit(X_wine_train, y_wine_train)"
   ]
  },
  {
   "cell_type": "code",
   "execution_count": 98,
   "id": "260b0dea-bba6-415a-b583-ba9275941642",
   "metadata": {},
   "outputs": [
    {
     "data": {
      "text/plain": [
       "array([6., 6., 5., 6., 6., 5., 5., 5., 7., 6., 7., 6., 6., 5., 6., 6., 5.,\n",
       "       6., 7., 5., 5., 6., 6., 6., 6., 6., 6., 5., 5., 6., 5., 6., 6., 6.,\n",
       "       6., 5., 6., 6., 5., 6., 6., 5., 6., 5., 5., 5., 6., 6., 5., 6., 5.,\n",
       "       5., 6., 7., 5., 6., 6., 7., 5., 5., 5., 7., 5., 5., 6., 5., 7., 6.,\n",
       "       5., 6., 6., 5., 6., 6., 6., 5., 6., 5., 5., 7., 5., 7., 5., 6., 7.,\n",
       "       6., 5., 6., 6., 6., 7., 6., 5., 5., 5., 5., 5., 6., 5., 6., 5., 5.,\n",
       "       5., 7., 5., 7., 6., 6., 6., 5., 6., 5., 7., 5., 6., 6., 5., 6., 5.,\n",
       "       6., 6., 6., 6., 6., 6., 5., 7., 5., 5., 6., 6., 6., 5., 6., 6., 5.,\n",
       "       5., 5., 5., 6., 7., 7., 8., 6., 5., 5., 4., 6., 5., 5., 6., 6., 6.,\n",
       "       5., 6., 5., 6., 7., 5., 6., 6., 5., 6., 5., 6., 5., 6., 4., 5., 5.,\n",
       "       5., 5., 7., 5., 7., 6., 7., 5., 6., 6., 6., 5., 5., 5., 5., 5., 6.,\n",
       "       6., 7., 5., 5., 7., 5., 6., 6., 5., 3., 6., 5., 7., 5., 6., 5., 5.,\n",
       "       6., 5., 5., 4., 7., 5., 8., 5., 5., 7., 6., 6., 6., 5., 6., 5., 5.,\n",
       "       6., 6., 5., 4., 5., 5., 7., 6., 5., 6., 4., 7., 6., 5., 7., 5., 7.,\n",
       "       6., 5., 6., 5., 5., 7., 6., 7., 5., 6., 6., 5., 6., 5., 5., 5., 6.,\n",
       "       5., 5., 6., 6., 6., 7., 5., 5., 4., 6., 6., 6., 5., 6., 6., 5., 6.,\n",
       "       6., 6., 7., 6., 5., 7., 7., 6., 7., 5., 5., 5., 5., 7., 5., 7., 6.,\n",
       "       6., 6., 7., 7., 6., 5., 6., 5., 7., 6., 6., 5., 5., 6., 3., 6., 5.,\n",
       "       4., 5., 5., 7., 6., 5., 6., 7., 6., 6., 5., 5., 6., 5.])"
      ]
     },
     "execution_count": 98,
     "metadata": {},
     "output_type": "execute_result"
    }
   ],
   "source": [
    "# Make predictions on the test data\n",
    "y_wine_dt_pred = decision_tree_regressor.predict(X_wine_test)\n",
    "y_wine_dt_pred"
   ]
  },
  {
   "cell_type": "markdown",
   "id": "900b1859-494d-4d5a-8e71-11947dec5e1e",
   "metadata": {},
   "source": [
    "#### b. For classification: Implement at least two classification methods (e.g., logistic regression, SVM)."
   ]
  },
  {
   "cell_type": "markdown",
   "id": "074c03bf-3441-4a02-bb0d-02a1338da56e",
   "metadata": {},
   "source": [
    "#### - b.1 logistic regression"
   ]
  },
  {
   "cell_type": "code",
   "execution_count": 100,
   "id": "8b1ed5a9-04cc-4f12-b4a7-3221f00c4d43",
   "metadata": {},
   "outputs": [
    {
     "data": {
      "text/html": [
       "<style>#sk-container-id-3 {\n",
       "  /* Definition of color scheme common for light and dark mode */\n",
       "  --sklearn-color-text: black;\n",
       "  --sklearn-color-line: gray;\n",
       "  /* Definition of color scheme for unfitted estimators */\n",
       "  --sklearn-color-unfitted-level-0: #fff5e6;\n",
       "  --sklearn-color-unfitted-level-1: #f6e4d2;\n",
       "  --sklearn-color-unfitted-level-2: #ffe0b3;\n",
       "  --sklearn-color-unfitted-level-3: chocolate;\n",
       "  /* Definition of color scheme for fitted estimators */\n",
       "  --sklearn-color-fitted-level-0: #f0f8ff;\n",
       "  --sklearn-color-fitted-level-1: #d4ebff;\n",
       "  --sklearn-color-fitted-level-2: #b3dbfd;\n",
       "  --sklearn-color-fitted-level-3: cornflowerblue;\n",
       "\n",
       "  /* Specific color for light theme */\n",
       "  --sklearn-color-text-on-default-background: var(--sg-text-color, var(--theme-code-foreground, var(--jp-content-font-color1, black)));\n",
       "  --sklearn-color-background: var(--sg-background-color, var(--theme-background, var(--jp-layout-color0, white)));\n",
       "  --sklearn-color-border-box: var(--sg-text-color, var(--theme-code-foreground, var(--jp-content-font-color1, black)));\n",
       "  --sklearn-color-icon: #696969;\n",
       "\n",
       "  @media (prefers-color-scheme: dark) {\n",
       "    /* Redefinition of color scheme for dark theme */\n",
       "    --sklearn-color-text-on-default-background: var(--sg-text-color, var(--theme-code-foreground, var(--jp-content-font-color1, white)));\n",
       "    --sklearn-color-background: var(--sg-background-color, var(--theme-background, var(--jp-layout-color0, #111)));\n",
       "    --sklearn-color-border-box: var(--sg-text-color, var(--theme-code-foreground, var(--jp-content-font-color1, white)));\n",
       "    --sklearn-color-icon: #878787;\n",
       "  }\n",
       "}\n",
       "\n",
       "#sk-container-id-3 {\n",
       "  color: var(--sklearn-color-text);\n",
       "}\n",
       "\n",
       "#sk-container-id-3 pre {\n",
       "  padding: 0;\n",
       "}\n",
       "\n",
       "#sk-container-id-3 input.sk-hidden--visually {\n",
       "  border: 0;\n",
       "  clip: rect(1px 1px 1px 1px);\n",
       "  clip: rect(1px, 1px, 1px, 1px);\n",
       "  height: 1px;\n",
       "  margin: -1px;\n",
       "  overflow: hidden;\n",
       "  padding: 0;\n",
       "  position: absolute;\n",
       "  width: 1px;\n",
       "}\n",
       "\n",
       "#sk-container-id-3 div.sk-dashed-wrapped {\n",
       "  border: 1px dashed var(--sklearn-color-line);\n",
       "  margin: 0 0.4em 0.5em 0.4em;\n",
       "  box-sizing: border-box;\n",
       "  padding-bottom: 0.4em;\n",
       "  background-color: var(--sklearn-color-background);\n",
       "}\n",
       "\n",
       "#sk-container-id-3 div.sk-container {\n",
       "  /* jupyter's `normalize.less` sets `[hidden] { display: none; }`\n",
       "     but bootstrap.min.css set `[hidden] { display: none !important; }`\n",
       "     so we also need the `!important` here to be able to override the\n",
       "     default hidden behavior on the sphinx rendered scikit-learn.org.\n",
       "     See: https://github.com/scikit-learn/scikit-learn/issues/21755 */\n",
       "  display: inline-block !important;\n",
       "  position: relative;\n",
       "}\n",
       "\n",
       "#sk-container-id-3 div.sk-text-repr-fallback {\n",
       "  display: none;\n",
       "}\n",
       "\n",
       "div.sk-parallel-item,\n",
       "div.sk-serial,\n",
       "div.sk-item {\n",
       "  /* draw centered vertical line to link estimators */\n",
       "  background-image: linear-gradient(var(--sklearn-color-text-on-default-background), var(--sklearn-color-text-on-default-background));\n",
       "  background-size: 2px 100%;\n",
       "  background-repeat: no-repeat;\n",
       "  background-position: center center;\n",
       "}\n",
       "\n",
       "/* Parallel-specific style estimator block */\n",
       "\n",
       "#sk-container-id-3 div.sk-parallel-item::after {\n",
       "  content: \"\";\n",
       "  width: 100%;\n",
       "  border-bottom: 2px solid var(--sklearn-color-text-on-default-background);\n",
       "  flex-grow: 1;\n",
       "}\n",
       "\n",
       "#sk-container-id-3 div.sk-parallel {\n",
       "  display: flex;\n",
       "  align-items: stretch;\n",
       "  justify-content: center;\n",
       "  background-color: var(--sklearn-color-background);\n",
       "  position: relative;\n",
       "}\n",
       "\n",
       "#sk-container-id-3 div.sk-parallel-item {\n",
       "  display: flex;\n",
       "  flex-direction: column;\n",
       "}\n",
       "\n",
       "#sk-container-id-3 div.sk-parallel-item:first-child::after {\n",
       "  align-self: flex-end;\n",
       "  width: 50%;\n",
       "}\n",
       "\n",
       "#sk-container-id-3 div.sk-parallel-item:last-child::after {\n",
       "  align-self: flex-start;\n",
       "  width: 50%;\n",
       "}\n",
       "\n",
       "#sk-container-id-3 div.sk-parallel-item:only-child::after {\n",
       "  width: 0;\n",
       "}\n",
       "\n",
       "/* Serial-specific style estimator block */\n",
       "\n",
       "#sk-container-id-3 div.sk-serial {\n",
       "  display: flex;\n",
       "  flex-direction: column;\n",
       "  align-items: center;\n",
       "  background-color: var(--sklearn-color-background);\n",
       "  padding-right: 1em;\n",
       "  padding-left: 1em;\n",
       "}\n",
       "\n",
       "\n",
       "/* Toggleable style: style used for estimator/Pipeline/ColumnTransformer box that is\n",
       "clickable and can be expanded/collapsed.\n",
       "- Pipeline and ColumnTransformer use this feature and define the default style\n",
       "- Estimators will overwrite some part of the style using the `sk-estimator` class\n",
       "*/\n",
       "\n",
       "/* Pipeline and ColumnTransformer style (default) */\n",
       "\n",
       "#sk-container-id-3 div.sk-toggleable {\n",
       "  /* Default theme specific background. It is overwritten whether we have a\n",
       "  specific estimator or a Pipeline/ColumnTransformer */\n",
       "  background-color: var(--sklearn-color-background);\n",
       "}\n",
       "\n",
       "/* Toggleable label */\n",
       "#sk-container-id-3 label.sk-toggleable__label {\n",
       "  cursor: pointer;\n",
       "  display: block;\n",
       "  width: 100%;\n",
       "  margin-bottom: 0;\n",
       "  padding: 0.5em;\n",
       "  box-sizing: border-box;\n",
       "  text-align: center;\n",
       "}\n",
       "\n",
       "#sk-container-id-3 label.sk-toggleable__label-arrow:before {\n",
       "  /* Arrow on the left of the label */\n",
       "  content: \"▸\";\n",
       "  float: left;\n",
       "  margin-right: 0.25em;\n",
       "  color: var(--sklearn-color-icon);\n",
       "}\n",
       "\n",
       "#sk-container-id-3 label.sk-toggleable__label-arrow:hover:before {\n",
       "  color: var(--sklearn-color-text);\n",
       "}\n",
       "\n",
       "/* Toggleable content - dropdown */\n",
       "\n",
       "#sk-container-id-3 div.sk-toggleable__content {\n",
       "  max-height: 0;\n",
       "  max-width: 0;\n",
       "  overflow: hidden;\n",
       "  text-align: left;\n",
       "  /* unfitted */\n",
       "  background-color: var(--sklearn-color-unfitted-level-0);\n",
       "}\n",
       "\n",
       "#sk-container-id-3 div.sk-toggleable__content.fitted {\n",
       "  /* fitted */\n",
       "  background-color: var(--sklearn-color-fitted-level-0);\n",
       "}\n",
       "\n",
       "#sk-container-id-3 div.sk-toggleable__content pre {\n",
       "  margin: 0.2em;\n",
       "  border-radius: 0.25em;\n",
       "  color: var(--sklearn-color-text);\n",
       "  /* unfitted */\n",
       "  background-color: var(--sklearn-color-unfitted-level-0);\n",
       "}\n",
       "\n",
       "#sk-container-id-3 div.sk-toggleable__content.fitted pre {\n",
       "  /* unfitted */\n",
       "  background-color: var(--sklearn-color-fitted-level-0);\n",
       "}\n",
       "\n",
       "#sk-container-id-3 input.sk-toggleable__control:checked~div.sk-toggleable__content {\n",
       "  /* Expand drop-down */\n",
       "  max-height: 200px;\n",
       "  max-width: 100%;\n",
       "  overflow: auto;\n",
       "}\n",
       "\n",
       "#sk-container-id-3 input.sk-toggleable__control:checked~label.sk-toggleable__label-arrow:before {\n",
       "  content: \"▾\";\n",
       "}\n",
       "\n",
       "/* Pipeline/ColumnTransformer-specific style */\n",
       "\n",
       "#sk-container-id-3 div.sk-label input.sk-toggleable__control:checked~label.sk-toggleable__label {\n",
       "  color: var(--sklearn-color-text);\n",
       "  background-color: var(--sklearn-color-unfitted-level-2);\n",
       "}\n",
       "\n",
       "#sk-container-id-3 div.sk-label.fitted input.sk-toggleable__control:checked~label.sk-toggleable__label {\n",
       "  background-color: var(--sklearn-color-fitted-level-2);\n",
       "}\n",
       "\n",
       "/* Estimator-specific style */\n",
       "\n",
       "/* Colorize estimator box */\n",
       "#sk-container-id-3 div.sk-estimator input.sk-toggleable__control:checked~label.sk-toggleable__label {\n",
       "  /* unfitted */\n",
       "  background-color: var(--sklearn-color-unfitted-level-2);\n",
       "}\n",
       "\n",
       "#sk-container-id-3 div.sk-estimator.fitted input.sk-toggleable__control:checked~label.sk-toggleable__label {\n",
       "  /* fitted */\n",
       "  background-color: var(--sklearn-color-fitted-level-2);\n",
       "}\n",
       "\n",
       "#sk-container-id-3 div.sk-label label.sk-toggleable__label,\n",
       "#sk-container-id-3 div.sk-label label {\n",
       "  /* The background is the default theme color */\n",
       "  color: var(--sklearn-color-text-on-default-background);\n",
       "}\n",
       "\n",
       "/* On hover, darken the color of the background */\n",
       "#sk-container-id-3 div.sk-label:hover label.sk-toggleable__label {\n",
       "  color: var(--sklearn-color-text);\n",
       "  background-color: var(--sklearn-color-unfitted-level-2);\n",
       "}\n",
       "\n",
       "/* Label box, darken color on hover, fitted */\n",
       "#sk-container-id-3 div.sk-label.fitted:hover label.sk-toggleable__label.fitted {\n",
       "  color: var(--sklearn-color-text);\n",
       "  background-color: var(--sklearn-color-fitted-level-2);\n",
       "}\n",
       "\n",
       "/* Estimator label */\n",
       "\n",
       "#sk-container-id-3 div.sk-label label {\n",
       "  font-family: monospace;\n",
       "  font-weight: bold;\n",
       "  display: inline-block;\n",
       "  line-height: 1.2em;\n",
       "}\n",
       "\n",
       "#sk-container-id-3 div.sk-label-container {\n",
       "  text-align: center;\n",
       "}\n",
       "\n",
       "/* Estimator-specific */\n",
       "#sk-container-id-3 div.sk-estimator {\n",
       "  font-family: monospace;\n",
       "  border: 1px dotted var(--sklearn-color-border-box);\n",
       "  border-radius: 0.25em;\n",
       "  box-sizing: border-box;\n",
       "  margin-bottom: 0.5em;\n",
       "  /* unfitted */\n",
       "  background-color: var(--sklearn-color-unfitted-level-0);\n",
       "}\n",
       "\n",
       "#sk-container-id-3 div.sk-estimator.fitted {\n",
       "  /* fitted */\n",
       "  background-color: var(--sklearn-color-fitted-level-0);\n",
       "}\n",
       "\n",
       "/* on hover */\n",
       "#sk-container-id-3 div.sk-estimator:hover {\n",
       "  /* unfitted */\n",
       "  background-color: var(--sklearn-color-unfitted-level-2);\n",
       "}\n",
       "\n",
       "#sk-container-id-3 div.sk-estimator.fitted:hover {\n",
       "  /* fitted */\n",
       "  background-color: var(--sklearn-color-fitted-level-2);\n",
       "}\n",
       "\n",
       "/* Specification for estimator info (e.g. \"i\" and \"?\") */\n",
       "\n",
       "/* Common style for \"i\" and \"?\" */\n",
       "\n",
       ".sk-estimator-doc-link,\n",
       "a:link.sk-estimator-doc-link,\n",
       "a:visited.sk-estimator-doc-link {\n",
       "  float: right;\n",
       "  font-size: smaller;\n",
       "  line-height: 1em;\n",
       "  font-family: monospace;\n",
       "  background-color: var(--sklearn-color-background);\n",
       "  border-radius: 1em;\n",
       "  height: 1em;\n",
       "  width: 1em;\n",
       "  text-decoration: none !important;\n",
       "  margin-left: 1ex;\n",
       "  /* unfitted */\n",
       "  border: var(--sklearn-color-unfitted-level-1) 1pt solid;\n",
       "  color: var(--sklearn-color-unfitted-level-1);\n",
       "}\n",
       "\n",
       ".sk-estimator-doc-link.fitted,\n",
       "a:link.sk-estimator-doc-link.fitted,\n",
       "a:visited.sk-estimator-doc-link.fitted {\n",
       "  /* fitted */\n",
       "  border: var(--sklearn-color-fitted-level-1) 1pt solid;\n",
       "  color: var(--sklearn-color-fitted-level-1);\n",
       "}\n",
       "\n",
       "/* On hover */\n",
       "div.sk-estimator:hover .sk-estimator-doc-link:hover,\n",
       ".sk-estimator-doc-link:hover,\n",
       "div.sk-label-container:hover .sk-estimator-doc-link:hover,\n",
       ".sk-estimator-doc-link:hover {\n",
       "  /* unfitted */\n",
       "  background-color: var(--sklearn-color-unfitted-level-3);\n",
       "  color: var(--sklearn-color-background);\n",
       "  text-decoration: none;\n",
       "}\n",
       "\n",
       "div.sk-estimator.fitted:hover .sk-estimator-doc-link.fitted:hover,\n",
       ".sk-estimator-doc-link.fitted:hover,\n",
       "div.sk-label-container:hover .sk-estimator-doc-link.fitted:hover,\n",
       ".sk-estimator-doc-link.fitted:hover {\n",
       "  /* fitted */\n",
       "  background-color: var(--sklearn-color-fitted-level-3);\n",
       "  color: var(--sklearn-color-background);\n",
       "  text-decoration: none;\n",
       "}\n",
       "\n",
       "/* Span, style for the box shown on hovering the info icon */\n",
       ".sk-estimator-doc-link span {\n",
       "  display: none;\n",
       "  z-index: 9999;\n",
       "  position: relative;\n",
       "  font-weight: normal;\n",
       "  right: .2ex;\n",
       "  padding: .5ex;\n",
       "  margin: .5ex;\n",
       "  width: min-content;\n",
       "  min-width: 20ex;\n",
       "  max-width: 50ex;\n",
       "  color: var(--sklearn-color-text);\n",
       "  box-shadow: 2pt 2pt 4pt #999;\n",
       "  /* unfitted */\n",
       "  background: var(--sklearn-color-unfitted-level-0);\n",
       "  border: .5pt solid var(--sklearn-color-unfitted-level-3);\n",
       "}\n",
       "\n",
       ".sk-estimator-doc-link.fitted span {\n",
       "  /* fitted */\n",
       "  background: var(--sklearn-color-fitted-level-0);\n",
       "  border: var(--sklearn-color-fitted-level-3);\n",
       "}\n",
       "\n",
       ".sk-estimator-doc-link:hover span {\n",
       "  display: block;\n",
       "}\n",
       "\n",
       "/* \"?\"-specific style due to the `<a>` HTML tag */\n",
       "\n",
       "#sk-container-id-3 a.estimator_doc_link {\n",
       "  float: right;\n",
       "  font-size: 1rem;\n",
       "  line-height: 1em;\n",
       "  font-family: monospace;\n",
       "  background-color: var(--sklearn-color-background);\n",
       "  border-radius: 1rem;\n",
       "  height: 1rem;\n",
       "  width: 1rem;\n",
       "  text-decoration: none;\n",
       "  /* unfitted */\n",
       "  color: var(--sklearn-color-unfitted-level-1);\n",
       "  border: var(--sklearn-color-unfitted-level-1) 1pt solid;\n",
       "}\n",
       "\n",
       "#sk-container-id-3 a.estimator_doc_link.fitted {\n",
       "  /* fitted */\n",
       "  border: var(--sklearn-color-fitted-level-1) 1pt solid;\n",
       "  color: var(--sklearn-color-fitted-level-1);\n",
       "}\n",
       "\n",
       "/* On hover */\n",
       "#sk-container-id-3 a.estimator_doc_link:hover {\n",
       "  /* unfitted */\n",
       "  background-color: var(--sklearn-color-unfitted-level-3);\n",
       "  color: var(--sklearn-color-background);\n",
       "  text-decoration: none;\n",
       "}\n",
       "\n",
       "#sk-container-id-3 a.estimator_doc_link.fitted:hover {\n",
       "  /* fitted */\n",
       "  background-color: var(--sklearn-color-fitted-level-3);\n",
       "}\n",
       "</style><div id=\"sk-container-id-3\" class=\"sk-top-container\"><div class=\"sk-text-repr-fallback\"><pre>LogisticRegression(max_iter=200, random_state=42)</pre><b>In a Jupyter environment, please rerun this cell to show the HTML representation or trust the notebook. <br />On GitHub, the HTML representation is unable to render, please try loading this page with nbviewer.org.</b></div><div class=\"sk-container\" hidden><div class=\"sk-item\"><div class=\"sk-estimator fitted sk-toggleable\"><input class=\"sk-toggleable__control sk-hidden--visually\" id=\"sk-estimator-id-3\" type=\"checkbox\" checked><label for=\"sk-estimator-id-3\" class=\"sk-toggleable__label fitted sk-toggleable__label-arrow fitted\">&nbsp;&nbsp;LogisticRegression<a class=\"sk-estimator-doc-link fitted\" rel=\"noreferrer\" target=\"_blank\" href=\"https://scikit-learn.org/1.4/modules/generated/sklearn.linear_model.LogisticRegression.html\">?<span>Documentation for LogisticRegression</span></a><span class=\"sk-estimator-doc-link fitted\">i<span>Fitted</span></span></label><div class=\"sk-toggleable__content fitted\"><pre>LogisticRegression(max_iter=200, random_state=42)</pre></div> </div></div></div></div>"
      ],
      "text/plain": [
       "LogisticRegression(max_iter=200, random_state=42)"
      ]
     },
     "execution_count": 100,
     "metadata": {},
     "output_type": "execute_result"
    }
   ],
   "source": [
    "from sklearn.linear_model import LogisticRegression\n",
    "\n",
    "# Initialize the Logistic Regression model\n",
    "logistic_regressor = LogisticRegression(max_iter=200, random_state=42)\n",
    "\n",
    "# Train the model on the Mushroom training data\n",
    "logistic_regressor.fit(X_mushroom_train, y_mushroom_train)"
   ]
  },
  {
   "cell_type": "code",
   "execution_count": 104,
   "id": "a305b438-6856-44aa-8aba-736b4da2c5fc",
   "metadata": {},
   "outputs": [
    {
     "data": {
      "text/plain": [
       "array([0, 1, 1, ..., 1, 1, 1], dtype=int64)"
      ]
     },
     "execution_count": 104,
     "metadata": {},
     "output_type": "execute_result"
    }
   ],
   "source": [
    "# Make predictions on the test data\n",
    "y_mushroom_pred = logistic_regressor.predict(X_mushroom_test)\n",
    "y_mushroom_pred"
   ]
  },
  {
   "cell_type": "markdown",
   "id": "1f20fce0-1432-4d45-82b5-c37d82493adf",
   "metadata": {},
   "source": [
    "#### - b.2 SVM"
   ]
  },
  {
   "cell_type": "code",
   "execution_count": 106,
   "id": "ce848afc-9a89-438d-b2e6-1484447f2f2c",
   "metadata": {},
   "outputs": [
    {
     "data": {
      "text/html": [
       "<style>#sk-container-id-4 {\n",
       "  /* Definition of color scheme common for light and dark mode */\n",
       "  --sklearn-color-text: black;\n",
       "  --sklearn-color-line: gray;\n",
       "  /* Definition of color scheme for unfitted estimators */\n",
       "  --sklearn-color-unfitted-level-0: #fff5e6;\n",
       "  --sklearn-color-unfitted-level-1: #f6e4d2;\n",
       "  --sklearn-color-unfitted-level-2: #ffe0b3;\n",
       "  --sklearn-color-unfitted-level-3: chocolate;\n",
       "  /* Definition of color scheme for fitted estimators */\n",
       "  --sklearn-color-fitted-level-0: #f0f8ff;\n",
       "  --sklearn-color-fitted-level-1: #d4ebff;\n",
       "  --sklearn-color-fitted-level-2: #b3dbfd;\n",
       "  --sklearn-color-fitted-level-3: cornflowerblue;\n",
       "\n",
       "  /* Specific color for light theme */\n",
       "  --sklearn-color-text-on-default-background: var(--sg-text-color, var(--theme-code-foreground, var(--jp-content-font-color1, black)));\n",
       "  --sklearn-color-background: var(--sg-background-color, var(--theme-background, var(--jp-layout-color0, white)));\n",
       "  --sklearn-color-border-box: var(--sg-text-color, var(--theme-code-foreground, var(--jp-content-font-color1, black)));\n",
       "  --sklearn-color-icon: #696969;\n",
       "\n",
       "  @media (prefers-color-scheme: dark) {\n",
       "    /* Redefinition of color scheme for dark theme */\n",
       "    --sklearn-color-text-on-default-background: var(--sg-text-color, var(--theme-code-foreground, var(--jp-content-font-color1, white)));\n",
       "    --sklearn-color-background: var(--sg-background-color, var(--theme-background, var(--jp-layout-color0, #111)));\n",
       "    --sklearn-color-border-box: var(--sg-text-color, var(--theme-code-foreground, var(--jp-content-font-color1, white)));\n",
       "    --sklearn-color-icon: #878787;\n",
       "  }\n",
       "}\n",
       "\n",
       "#sk-container-id-4 {\n",
       "  color: var(--sklearn-color-text);\n",
       "}\n",
       "\n",
       "#sk-container-id-4 pre {\n",
       "  padding: 0;\n",
       "}\n",
       "\n",
       "#sk-container-id-4 input.sk-hidden--visually {\n",
       "  border: 0;\n",
       "  clip: rect(1px 1px 1px 1px);\n",
       "  clip: rect(1px, 1px, 1px, 1px);\n",
       "  height: 1px;\n",
       "  margin: -1px;\n",
       "  overflow: hidden;\n",
       "  padding: 0;\n",
       "  position: absolute;\n",
       "  width: 1px;\n",
       "}\n",
       "\n",
       "#sk-container-id-4 div.sk-dashed-wrapped {\n",
       "  border: 1px dashed var(--sklearn-color-line);\n",
       "  margin: 0 0.4em 0.5em 0.4em;\n",
       "  box-sizing: border-box;\n",
       "  padding-bottom: 0.4em;\n",
       "  background-color: var(--sklearn-color-background);\n",
       "}\n",
       "\n",
       "#sk-container-id-4 div.sk-container {\n",
       "  /* jupyter's `normalize.less` sets `[hidden] { display: none; }`\n",
       "     but bootstrap.min.css set `[hidden] { display: none !important; }`\n",
       "     so we also need the `!important` here to be able to override the\n",
       "     default hidden behavior on the sphinx rendered scikit-learn.org.\n",
       "     See: https://github.com/scikit-learn/scikit-learn/issues/21755 */\n",
       "  display: inline-block !important;\n",
       "  position: relative;\n",
       "}\n",
       "\n",
       "#sk-container-id-4 div.sk-text-repr-fallback {\n",
       "  display: none;\n",
       "}\n",
       "\n",
       "div.sk-parallel-item,\n",
       "div.sk-serial,\n",
       "div.sk-item {\n",
       "  /* draw centered vertical line to link estimators */\n",
       "  background-image: linear-gradient(var(--sklearn-color-text-on-default-background), var(--sklearn-color-text-on-default-background));\n",
       "  background-size: 2px 100%;\n",
       "  background-repeat: no-repeat;\n",
       "  background-position: center center;\n",
       "}\n",
       "\n",
       "/* Parallel-specific style estimator block */\n",
       "\n",
       "#sk-container-id-4 div.sk-parallel-item::after {\n",
       "  content: \"\";\n",
       "  width: 100%;\n",
       "  border-bottom: 2px solid var(--sklearn-color-text-on-default-background);\n",
       "  flex-grow: 1;\n",
       "}\n",
       "\n",
       "#sk-container-id-4 div.sk-parallel {\n",
       "  display: flex;\n",
       "  align-items: stretch;\n",
       "  justify-content: center;\n",
       "  background-color: var(--sklearn-color-background);\n",
       "  position: relative;\n",
       "}\n",
       "\n",
       "#sk-container-id-4 div.sk-parallel-item {\n",
       "  display: flex;\n",
       "  flex-direction: column;\n",
       "}\n",
       "\n",
       "#sk-container-id-4 div.sk-parallel-item:first-child::after {\n",
       "  align-self: flex-end;\n",
       "  width: 50%;\n",
       "}\n",
       "\n",
       "#sk-container-id-4 div.sk-parallel-item:last-child::after {\n",
       "  align-self: flex-start;\n",
       "  width: 50%;\n",
       "}\n",
       "\n",
       "#sk-container-id-4 div.sk-parallel-item:only-child::after {\n",
       "  width: 0;\n",
       "}\n",
       "\n",
       "/* Serial-specific style estimator block */\n",
       "\n",
       "#sk-container-id-4 div.sk-serial {\n",
       "  display: flex;\n",
       "  flex-direction: column;\n",
       "  align-items: center;\n",
       "  background-color: var(--sklearn-color-background);\n",
       "  padding-right: 1em;\n",
       "  padding-left: 1em;\n",
       "}\n",
       "\n",
       "\n",
       "/* Toggleable style: style used for estimator/Pipeline/ColumnTransformer box that is\n",
       "clickable and can be expanded/collapsed.\n",
       "- Pipeline and ColumnTransformer use this feature and define the default style\n",
       "- Estimators will overwrite some part of the style using the `sk-estimator` class\n",
       "*/\n",
       "\n",
       "/* Pipeline and ColumnTransformer style (default) */\n",
       "\n",
       "#sk-container-id-4 div.sk-toggleable {\n",
       "  /* Default theme specific background. It is overwritten whether we have a\n",
       "  specific estimator or a Pipeline/ColumnTransformer */\n",
       "  background-color: var(--sklearn-color-background);\n",
       "}\n",
       "\n",
       "/* Toggleable label */\n",
       "#sk-container-id-4 label.sk-toggleable__label {\n",
       "  cursor: pointer;\n",
       "  display: block;\n",
       "  width: 100%;\n",
       "  margin-bottom: 0;\n",
       "  padding: 0.5em;\n",
       "  box-sizing: border-box;\n",
       "  text-align: center;\n",
       "}\n",
       "\n",
       "#sk-container-id-4 label.sk-toggleable__label-arrow:before {\n",
       "  /* Arrow on the left of the label */\n",
       "  content: \"▸\";\n",
       "  float: left;\n",
       "  margin-right: 0.25em;\n",
       "  color: var(--sklearn-color-icon);\n",
       "}\n",
       "\n",
       "#sk-container-id-4 label.sk-toggleable__label-arrow:hover:before {\n",
       "  color: var(--sklearn-color-text);\n",
       "}\n",
       "\n",
       "/* Toggleable content - dropdown */\n",
       "\n",
       "#sk-container-id-4 div.sk-toggleable__content {\n",
       "  max-height: 0;\n",
       "  max-width: 0;\n",
       "  overflow: hidden;\n",
       "  text-align: left;\n",
       "  /* unfitted */\n",
       "  background-color: var(--sklearn-color-unfitted-level-0);\n",
       "}\n",
       "\n",
       "#sk-container-id-4 div.sk-toggleable__content.fitted {\n",
       "  /* fitted */\n",
       "  background-color: var(--sklearn-color-fitted-level-0);\n",
       "}\n",
       "\n",
       "#sk-container-id-4 div.sk-toggleable__content pre {\n",
       "  margin: 0.2em;\n",
       "  border-radius: 0.25em;\n",
       "  color: var(--sklearn-color-text);\n",
       "  /* unfitted */\n",
       "  background-color: var(--sklearn-color-unfitted-level-0);\n",
       "}\n",
       "\n",
       "#sk-container-id-4 div.sk-toggleable__content.fitted pre {\n",
       "  /* unfitted */\n",
       "  background-color: var(--sklearn-color-fitted-level-0);\n",
       "}\n",
       "\n",
       "#sk-container-id-4 input.sk-toggleable__control:checked~div.sk-toggleable__content {\n",
       "  /* Expand drop-down */\n",
       "  max-height: 200px;\n",
       "  max-width: 100%;\n",
       "  overflow: auto;\n",
       "}\n",
       "\n",
       "#sk-container-id-4 input.sk-toggleable__control:checked~label.sk-toggleable__label-arrow:before {\n",
       "  content: \"▾\";\n",
       "}\n",
       "\n",
       "/* Pipeline/ColumnTransformer-specific style */\n",
       "\n",
       "#sk-container-id-4 div.sk-label input.sk-toggleable__control:checked~label.sk-toggleable__label {\n",
       "  color: var(--sklearn-color-text);\n",
       "  background-color: var(--sklearn-color-unfitted-level-2);\n",
       "}\n",
       "\n",
       "#sk-container-id-4 div.sk-label.fitted input.sk-toggleable__control:checked~label.sk-toggleable__label {\n",
       "  background-color: var(--sklearn-color-fitted-level-2);\n",
       "}\n",
       "\n",
       "/* Estimator-specific style */\n",
       "\n",
       "/* Colorize estimator box */\n",
       "#sk-container-id-4 div.sk-estimator input.sk-toggleable__control:checked~label.sk-toggleable__label {\n",
       "  /* unfitted */\n",
       "  background-color: var(--sklearn-color-unfitted-level-2);\n",
       "}\n",
       "\n",
       "#sk-container-id-4 div.sk-estimator.fitted input.sk-toggleable__control:checked~label.sk-toggleable__label {\n",
       "  /* fitted */\n",
       "  background-color: var(--sklearn-color-fitted-level-2);\n",
       "}\n",
       "\n",
       "#sk-container-id-4 div.sk-label label.sk-toggleable__label,\n",
       "#sk-container-id-4 div.sk-label label {\n",
       "  /* The background is the default theme color */\n",
       "  color: var(--sklearn-color-text-on-default-background);\n",
       "}\n",
       "\n",
       "/* On hover, darken the color of the background */\n",
       "#sk-container-id-4 div.sk-label:hover label.sk-toggleable__label {\n",
       "  color: var(--sklearn-color-text);\n",
       "  background-color: var(--sklearn-color-unfitted-level-2);\n",
       "}\n",
       "\n",
       "/* Label box, darken color on hover, fitted */\n",
       "#sk-container-id-4 div.sk-label.fitted:hover label.sk-toggleable__label.fitted {\n",
       "  color: var(--sklearn-color-text);\n",
       "  background-color: var(--sklearn-color-fitted-level-2);\n",
       "}\n",
       "\n",
       "/* Estimator label */\n",
       "\n",
       "#sk-container-id-4 div.sk-label label {\n",
       "  font-family: monospace;\n",
       "  font-weight: bold;\n",
       "  display: inline-block;\n",
       "  line-height: 1.2em;\n",
       "}\n",
       "\n",
       "#sk-container-id-4 div.sk-label-container {\n",
       "  text-align: center;\n",
       "}\n",
       "\n",
       "/* Estimator-specific */\n",
       "#sk-container-id-4 div.sk-estimator {\n",
       "  font-family: monospace;\n",
       "  border: 1px dotted var(--sklearn-color-border-box);\n",
       "  border-radius: 0.25em;\n",
       "  box-sizing: border-box;\n",
       "  margin-bottom: 0.5em;\n",
       "  /* unfitted */\n",
       "  background-color: var(--sklearn-color-unfitted-level-0);\n",
       "}\n",
       "\n",
       "#sk-container-id-4 div.sk-estimator.fitted {\n",
       "  /* fitted */\n",
       "  background-color: var(--sklearn-color-fitted-level-0);\n",
       "}\n",
       "\n",
       "/* on hover */\n",
       "#sk-container-id-4 div.sk-estimator:hover {\n",
       "  /* unfitted */\n",
       "  background-color: var(--sklearn-color-unfitted-level-2);\n",
       "}\n",
       "\n",
       "#sk-container-id-4 div.sk-estimator.fitted:hover {\n",
       "  /* fitted */\n",
       "  background-color: var(--sklearn-color-fitted-level-2);\n",
       "}\n",
       "\n",
       "/* Specification for estimator info (e.g. \"i\" and \"?\") */\n",
       "\n",
       "/* Common style for \"i\" and \"?\" */\n",
       "\n",
       ".sk-estimator-doc-link,\n",
       "a:link.sk-estimator-doc-link,\n",
       "a:visited.sk-estimator-doc-link {\n",
       "  float: right;\n",
       "  font-size: smaller;\n",
       "  line-height: 1em;\n",
       "  font-family: monospace;\n",
       "  background-color: var(--sklearn-color-background);\n",
       "  border-radius: 1em;\n",
       "  height: 1em;\n",
       "  width: 1em;\n",
       "  text-decoration: none !important;\n",
       "  margin-left: 1ex;\n",
       "  /* unfitted */\n",
       "  border: var(--sklearn-color-unfitted-level-1) 1pt solid;\n",
       "  color: var(--sklearn-color-unfitted-level-1);\n",
       "}\n",
       "\n",
       ".sk-estimator-doc-link.fitted,\n",
       "a:link.sk-estimator-doc-link.fitted,\n",
       "a:visited.sk-estimator-doc-link.fitted {\n",
       "  /* fitted */\n",
       "  border: var(--sklearn-color-fitted-level-1) 1pt solid;\n",
       "  color: var(--sklearn-color-fitted-level-1);\n",
       "}\n",
       "\n",
       "/* On hover */\n",
       "div.sk-estimator:hover .sk-estimator-doc-link:hover,\n",
       ".sk-estimator-doc-link:hover,\n",
       "div.sk-label-container:hover .sk-estimator-doc-link:hover,\n",
       ".sk-estimator-doc-link:hover {\n",
       "  /* unfitted */\n",
       "  background-color: var(--sklearn-color-unfitted-level-3);\n",
       "  color: var(--sklearn-color-background);\n",
       "  text-decoration: none;\n",
       "}\n",
       "\n",
       "div.sk-estimator.fitted:hover .sk-estimator-doc-link.fitted:hover,\n",
       ".sk-estimator-doc-link.fitted:hover,\n",
       "div.sk-label-container:hover .sk-estimator-doc-link.fitted:hover,\n",
       ".sk-estimator-doc-link.fitted:hover {\n",
       "  /* fitted */\n",
       "  background-color: var(--sklearn-color-fitted-level-3);\n",
       "  color: var(--sklearn-color-background);\n",
       "  text-decoration: none;\n",
       "}\n",
       "\n",
       "/* Span, style for the box shown on hovering the info icon */\n",
       ".sk-estimator-doc-link span {\n",
       "  display: none;\n",
       "  z-index: 9999;\n",
       "  position: relative;\n",
       "  font-weight: normal;\n",
       "  right: .2ex;\n",
       "  padding: .5ex;\n",
       "  margin: .5ex;\n",
       "  width: min-content;\n",
       "  min-width: 20ex;\n",
       "  max-width: 50ex;\n",
       "  color: var(--sklearn-color-text);\n",
       "  box-shadow: 2pt 2pt 4pt #999;\n",
       "  /* unfitted */\n",
       "  background: var(--sklearn-color-unfitted-level-0);\n",
       "  border: .5pt solid var(--sklearn-color-unfitted-level-3);\n",
       "}\n",
       "\n",
       ".sk-estimator-doc-link.fitted span {\n",
       "  /* fitted */\n",
       "  background: var(--sklearn-color-fitted-level-0);\n",
       "  border: var(--sklearn-color-fitted-level-3);\n",
       "}\n",
       "\n",
       ".sk-estimator-doc-link:hover span {\n",
       "  display: block;\n",
       "}\n",
       "\n",
       "/* \"?\"-specific style due to the `<a>` HTML tag */\n",
       "\n",
       "#sk-container-id-4 a.estimator_doc_link {\n",
       "  float: right;\n",
       "  font-size: 1rem;\n",
       "  line-height: 1em;\n",
       "  font-family: monospace;\n",
       "  background-color: var(--sklearn-color-background);\n",
       "  border-radius: 1rem;\n",
       "  height: 1rem;\n",
       "  width: 1rem;\n",
       "  text-decoration: none;\n",
       "  /* unfitted */\n",
       "  color: var(--sklearn-color-unfitted-level-1);\n",
       "  border: var(--sklearn-color-unfitted-level-1) 1pt solid;\n",
       "}\n",
       "\n",
       "#sk-container-id-4 a.estimator_doc_link.fitted {\n",
       "  /* fitted */\n",
       "  border: var(--sklearn-color-fitted-level-1) 1pt solid;\n",
       "  color: var(--sklearn-color-fitted-level-1);\n",
       "}\n",
       "\n",
       "/* On hover */\n",
       "#sk-container-id-4 a.estimator_doc_link:hover {\n",
       "  /* unfitted */\n",
       "  background-color: var(--sklearn-color-unfitted-level-3);\n",
       "  color: var(--sklearn-color-background);\n",
       "  text-decoration: none;\n",
       "}\n",
       "\n",
       "#sk-container-id-4 a.estimator_doc_link.fitted:hover {\n",
       "  /* fitted */\n",
       "  background-color: var(--sklearn-color-fitted-level-3);\n",
       "}\n",
       "</style><div id=\"sk-container-id-4\" class=\"sk-top-container\"><div class=\"sk-text-repr-fallback\"><pre>SVC(kernel=&#x27;linear&#x27;, random_state=42)</pre><b>In a Jupyter environment, please rerun this cell to show the HTML representation or trust the notebook. <br />On GitHub, the HTML representation is unable to render, please try loading this page with nbviewer.org.</b></div><div class=\"sk-container\" hidden><div class=\"sk-item\"><div class=\"sk-estimator fitted sk-toggleable\"><input class=\"sk-toggleable__control sk-hidden--visually\" id=\"sk-estimator-id-4\" type=\"checkbox\" checked><label for=\"sk-estimator-id-4\" class=\"sk-toggleable__label fitted sk-toggleable__label-arrow fitted\">&nbsp;&nbsp;SVC<a class=\"sk-estimator-doc-link fitted\" rel=\"noreferrer\" target=\"_blank\" href=\"https://scikit-learn.org/1.4/modules/generated/sklearn.svm.SVC.html\">?<span>Documentation for SVC</span></a><span class=\"sk-estimator-doc-link fitted\">i<span>Fitted</span></span></label><div class=\"sk-toggleable__content fitted\"><pre>SVC(kernel=&#x27;linear&#x27;, random_state=42)</pre></div> </div></div></div></div>"
      ],
      "text/plain": [
       "SVC(kernel='linear', random_state=42)"
      ]
     },
     "execution_count": 106,
     "metadata": {},
     "output_type": "execute_result"
    }
   ],
   "source": [
    "from sklearn.svm import SVC\n",
    "\n",
    "# Initialize the Support Vector Classifier (SVM) model with a linear kernel\n",
    "svm_classifier = SVC(kernel='linear', random_state=42)\n",
    "\n",
    "# Train the model on the Mushroom training data\n",
    "svm_classifier.fit(X_mushroom_train, y_mushroom_train)"
   ]
  },
  {
   "cell_type": "code",
   "execution_count": 108,
   "id": "25559926-bf80-4ed6-887b-7d71024fa582",
   "metadata": {},
   "outputs": [
    {
     "data": {
      "text/plain": [
       "array([0, 1, 1, ..., 1, 1, 1], dtype=int64)"
      ]
     },
     "execution_count": 108,
     "metadata": {},
     "output_type": "execute_result"
    }
   ],
   "source": [
    "# Make predictions on the test data\n",
    "y_mushroom_svm_pred = svm_classifier.predict(X_mushroom_test)\n",
    "y_mushroom_svm_pred"
   ]
  },
  {
   "cell_type": "markdown",
   "id": "26da3103-b010-42ea-aa26-e506acc4cfd5",
   "metadata": {},
   "source": [
    "<br> <br>"
   ]
  },
  {
   "cell_type": "markdown",
   "id": "f1812ba1-bd5b-473e-9828-fd89501b861f",
   "metadata": {},
   "source": [
    "### 4. Model Evaluation"
   ]
  },
  {
   "cell_type": "markdown",
   "id": "0cae6554-d5c3-4bd2-aca6-f0e9154b3ec4",
   "metadata": {},
   "source": [
    "#### a. Evaluate the models using appropriate metrics."
   ]
  },
  {
   "cell_type": "markdown",
   "id": "566c705a-4f75-4eca-a52d-c3ae905a74e5",
   "metadata": {},
   "source": [
    "#### - a.1 linear regression evaluation"
   ]
  },
  {
   "cell_type": "code",
   "execution_count": 128,
   "id": "dd1f3e6a-ced6-4994-bd53-d1923e215085",
   "metadata": {},
   "outputs": [
    {
     "name": "stdout",
     "output_type": "stream",
     "text": [
      "Mean Squared Error (MSE): 0.3825032763266155\n",
      "Mean Absolute Error (MAE): 0.4971117124206114\n",
      "R-squared (R2): 0.4146903645325628\n"
     ]
    }
   ],
   "source": [
    "from sklearn.metrics import mean_squared_error, mean_absolute_error, r2_score\n",
    "\n",
    "# Evaluate the model\n",
    "mse = mean_squared_error(y_wine_test, y_wine_pred)\n",
    "mae = mean_absolute_error(y_wine_test, y_wine_pred)\n",
    "r2 = r2_score(y_wine_test, y_wine_pred)\n",
    "\n",
    "print(\"Mean Squared Error (MSE):\", mse)\n",
    "print(\"Mean Absolute Error (MAE):\", mae)\n",
    "print(\"R-squared (R2):\", r2)"
   ]
  },
  {
   "cell_type": "markdown",
   "id": "74e3e74d-8efa-430c-8395-0eea0202bc4e",
   "metadata": {},
   "source": [
    "**Interpretation of Results**"
   ]
  },
  {
   "cell_type": "markdown",
   "id": "032cc9f8-f806-47b0-96c7-fb985d9410ad",
   "metadata": {},
   "source": [
    "- **Mean Squared Error (MSE): 0.3825** tells us about the average squared difference between our model's predictions and the actual wine quality scores. Lower MSE values are better, meaning our predictions are closer to the real values. Here, an MSE of 0.3825 suggests that the model isn't wildly inaccurate, but there’s definitely some room for improvement. In practical terms, this error means that the model's predictions are a bit \"scattered\" around the actual values.\n",
    "<br>\n",
    "- **Mean Absolute Error (MAE): 0.4971** this is also useful for interpretation. Unlike MSE, which squares errors and makes large mistakes look even worse, MAE simply averages the absolute differences between predictions and actual scores. With an MAE of about 0.5, we know that, on average, our model's predictions are off by about half a quality point. That might not sound too bad, but for something like wine quality—where even small differences can matter—it shows that the model’s accuracy could be better.\n",
    "<br>\n",
    "- **R-squared (R²): 0.4147** this indicates how much of the \"story\" our model can tell about the wine quality ratings. Higher R² values are better and mean the model explains more of the variation in the data. With an R² of around 41%, this model is capturing some useful patterns but is far from fully explaining what makes one wine higher quality than another. In other words, there’s still a lot that the model doesn’t understand about what goes into a wine’s quality score. <br>"
   ]
  },
  {
   "cell_type": "markdown",
   "id": "2bbbb6af-3b15-4606-a8db-d8f616b0abc2",
   "metadata": {},
   "source": [
    "**Summary of interpretation**"
   ]
  },
  {
   "cell_type": "markdown",
   "id": "e280eed2-db57-4346-9580-8298422bf88a",
   "metadata": {},
   "source": [
    "This model is giving us a decent baseline but is far from perfect. It's \"good\" in the sense that it captures some real relationships between the features (like acidity, sugar, and alcohol content) and wine quality. But it’s also \"not so great\" because it leaves a lot unexplained. A big reason could be that wine quality is complex and might depend on other factors we're not capturing in this dataset. For instance, subjective factors like taste or aroma aren’t part of the data, and those could be important.\n",
    "\n",
    "In summary, this linear regression model does an okay job, but if we really want accurate wine quality predictions, we might need either more relevant data or a more complex model to capture the nuances of what makes a wine high quality."
   ]
  },
  {
   "cell_type": "markdown",
   "id": "0f319d55-7e7b-4fa1-9bd8-7377b65a78b7",
   "metadata": {},
   "source": [
    "<br>"
   ]
  },
  {
   "cell_type": "markdown",
   "id": "630e6585-3650-4d06-a298-2aeecd155518",
   "metadata": {},
   "source": [
    "#### - a.2 Decision Trees evaluation"
   ]
  },
  {
   "cell_type": "code",
   "execution_count": 130,
   "id": "87024c27-6fd4-401b-b076-5f5a1b68be00",
   "metadata": {},
   "outputs": [
    {
     "name": "stdout",
     "output_type": "stream",
     "text": [
      "Decision Tree Mean Squared Error (MSE): 0.609375\n",
      "Decision Tree Mean Absolute Error (MAE): 0.459375\n",
      "Decision Tree R-squared (R2): 0.06752940121639606\n"
     ]
    }
   ],
   "source": [
    "from sklearn.metrics import mean_squared_error, mean_absolute_error, r2_score\n",
    "\n",
    "# Evaluate the model\n",
    "mse_dt = mean_squared_error(y_wine_test, y_wine_dt_pred)\n",
    "mae_dt = mean_absolute_error(y_wine_test, y_wine_dt_pred)\n",
    "r2_dt = r2_score(y_wine_test, y_wine_dt_pred)\n",
    "\n",
    "print(\"Decision Tree Mean Squared Error (MSE):\", mse_dt)\n",
    "print(\"Decision Tree Mean Absolute Error (MAE):\", mae_dt)\n",
    "print(\"Decision Tree R-squared (R2):\", r2_dt)"
   ]
  },
  {
   "cell_type": "markdown",
   "id": "d95a64b1-269f-472e-bdc8-d50843bf186d",
   "metadata": {},
   "source": [
    "**Interpretation of Results**"
   ]
  },
  {
   "cell_type": "markdown",
   "id": "72706be9-5b8c-41c0-b1f1-e9e14b7c9d4f",
   "metadata": {},
   "source": [
    "- **Mean Squared Error (MSE): 0.3825** For the Decision Tree model, the MSE is 0.6094, which is quite a bit higher than the Linear Regression model's MSE (0.3825). Since lower MSE values indicate better performance, this suggests that our Decision Tree model is less accurate than the Linear Regression model in predicting wine quality scores. It seems to be overfitting or making larger mistakes on some predictions.\n",
    "<br>\n",
    "- **Mean Absolute Error (MAE): 0.4971** The MAE of 0.4594 is actually a bit lower than the Linear Regression model's MAE (0.4971). This means that, on average, the Decision Tree is slightly closer to the actual wine quality scores than the Linear Regression model. However, MAE alone doesn’t give us the full picture because Decision Trees can vary a lot in their predictions.5\n",
    "<br>\n",
    "- **R-squared (R²): 0.4147**With an R² of only 0.0675 (or around 6.75%), this model explains very little of the variability in wine quality. For context, the Linear Regression model had an R² of 0.4147 (or 41.5%), which is considerably better. An R² this low suggests that the Decision Tree is not effectively capturing the underlying patterns in the data and might be overfitting to the training data. In other words, the model fits the training set too closely, but when it tries to generalize to new data, it fails to explain much.\r",
    "  <br>"
   ]
  },
  {
   "cell_type": "markdown",
   "id": "69542135-6549-4991-9235-9112ca0ef81b",
   "metadata": {},
   "source": [
    "**Summary of interpretation**"
   ]
  },
  {
   "cell_type": "markdown",
   "id": "216479fe-4865-4be7-876e-e92c62f1e2fc",
   "metadata": {},
   "source": [
    "The Decision Tree model is struggling here. While it does have a slightly lower MAE than the Linear Regression model (meaning it’s closer on average), it has a much higher MSE, indicating it’s making some bigger mistakes. And the very low R² score (around 7%) tells us that the Decision Tree isn’t really understanding the factors that make up wine quality—it’s just memorizing parts of the data without generalizing well to new examples."
   ]
  },
  {
   "cell_type": "markdown",
   "id": "66467ff2-f262-4cfe-b926-a2367a2f40c1",
   "metadata": {},
   "source": [
    "In conclusion, this Decision Tree model isn’t performing well for this dataset. Its high MSE and low R² imply it’s overfitting, meaning it’s good at remembering training data but not at making useful predictions on new data. For a task like predicting wine quality, where subtle patterns matter, a Decision Tree might be too simple or might need tuning, such as pruning or setting maximum depth limits, to perform better."
   ]
  },
  {
   "cell_type": "markdown",
   "id": "d05f4b94-a73e-49c8-8114-3b31e5506bec",
   "metadata": {},
   "source": [
    "<br>"
   ]
  },
  {
   "cell_type": "markdown",
   "id": "eee91ce0-c463-43fb-bfc9-7b873eec1467",
   "metadata": {},
   "source": [
    "#### - b.1 logistic regression evaluation"
   ]
  },
  {
   "cell_type": "code",
   "execution_count": 134,
   "id": "75f6f389-f88b-4b3d-a94d-18665c168169",
   "metadata": {},
   "outputs": [
    {
     "name": "stdout",
     "output_type": "stream",
     "text": [
      "Logistic Regression Accuracy: 1.0\n",
      "Logistic Regression Precision: 1.0\n",
      "Logistic Regression Recall: 1.0\n",
      "Logistic Regression F1 Score: 1.0\n"
     ]
    }
   ],
   "source": [
    "from sklearn.metrics import accuracy_score, precision_score, recall_score, f1_score\n",
    "\n",
    "# Evaluate the model\n",
    "accuracy = accuracy_score(y_mushroom_test, y_mushroom_pred)\n",
    "precision = precision_score(y_mushroom_test, y_mushroom_pred)\n",
    "recall = recall_score(y_mushroom_test, y_mushroom_pred)\n",
    "f1 = f1_score(y_mushroom_test, y_mushroom_pred)\n",
    "\n",
    "print(\"Logistic Regression Accuracy:\", accuracy)\n",
    "print(\"Logistic Regression Precision:\", precision)\n",
    "print(\"Logistic Regression Recall:\", recall)\n",
    "print(\"Logistic Regression F1 Score:\", f1)"
   ]
  },
  {
   "cell_type": "markdown",
   "id": "85712e12-9462-44e4-b795-de2c264bfda7",
   "metadata": {},
   "source": [
    "**Interpretation of Results**"
   ]
  },
  {
   "cell_type": "markdown",
   "id": "e0726eeb-1d86-409e-b42e-8dc8f79b0b05",
   "metadata": {},
   "source": [
    "- **Accuracy: 1.0** Accuracy is the proportion of total correct predictions (both edible and poisonous mushrooms) out of all predictions. An accuracy of 1.0 (or 100%) means the model got every single prediction right. In other words, every mushroom was classified correctly as either edible or poisonous. This is about as good as it gets in terms of accuracy.\n",
    "<br>\n",
    "- **Precision: 1.0** Precision measures how many of the mushrooms predicted as \"poisonous\" were actually poisonous. A precision score of 1.0 means that every mushroom the model predicted as poisonous truly was poisonous. This is crucial in a mushroom classification context, where false positives (misclassifying an edible mushroom as poisonous) might not be as harmful, but it's good to see that the model is not making any errors here either.\n",
    "<br>\n",
    "- **Recall: 1.0** Recall is the model’s ability to find all actual poisonous mushrooms. A recall of 1.0 means that the model successfully identified every poisonous mushroom in the dataset. This is especially important in this context because missing a poisonous mushroom (false negative) could have serious consequences if someone consumes it. A recall of 1.0 means that the model didn’t miss any poisonous mushrooms, which is ideal.\n",
    "<br>\n",
    "- **F1 Score: 1.0** The F1 Score combines precision and recall into a single metric, with 1.0 indicating a perfect balance between the two. Since both precision and recall are perfect here, the F1 Score is also 1.0. This means the model has achieved a perfect balance between correctly identifying all poisonous mushrooms and avoiding misclassifications.\n",
    "<br>"
   ]
  },
  {
   "cell_type": "markdown",
   "id": "65bb2520-db0e-4da1-9dbf-f9b03136a2d8",
   "metadata": {},
   "source": [
    "**Summary of interpretation**"
   ]
  },
  {
   "cell_type": "markdown",
   "id": "33cc2159-203d-4167-8eb0-ae0d7825c1f4",
   "metadata": {},
   "source": [
    "This Logistic Regression model did an outstanding job on the Mushroom dataset. It achieved a perfect score across all metrics, meaning it accurately classified every mushroom as either edible or poisonous without a single mistake. This level of performance is rare and suggests that the model perfectly \"understands\" the patterns in the dataset."
   ]
  },
  {
   "cell_type": "markdown",
   "id": "4c4d16e6-8bd7-4b8c-89a3-8c897f9c3972",
   "metadata": {},
   "source": [
    "One possible reason for this flawless performance could be that the Mushroom dataset is relatively straightforward for classification, with clear patterns that Logistic Regression can easily capture. However, it’s always a good idea to check for potential issues like data leakage (where the model learns from information it shouldn’t have access to in real-world scenarios). However, this model is excellent for classifying mushrooms based on the given features."
   ]
  },
  {
   "cell_type": "markdown",
   "id": "60122ed6-e496-4d79-9937-a8e0384ff82a",
   "metadata": {},
   "source": [
    "<br>"
   ]
  },
  {
   "cell_type": "markdown",
   "id": "22bb32cc-c6ee-4347-b8d2-c2dc8a306831",
   "metadata": {},
   "source": [
    "#### - b.2 SVM evaluation"
   ]
  },
  {
   "cell_type": "code",
   "execution_count": 136,
   "id": "00ccf200-5353-4c99-b35b-f36ef8c7f87e",
   "metadata": {},
   "outputs": [
    {
     "name": "stdout",
     "output_type": "stream",
     "text": [
      "SVM Accuracy: 1.0\n",
      "SVM Precision: 1.0\n",
      "SVM Recall: 1.0\n",
      "SVM F1 Score: 1.0\n"
     ]
    }
   ],
   "source": [
    "from sklearn.metrics import accuracy_score, precision_score, recall_score, f1_score\n",
    "\n",
    "# Evaluate the model\n",
    "accuracy_svm = accuracy_score(y_mushroom_test, y_mushroom_svm_pred)\n",
    "precision_svm = precision_score(y_mushroom_test, y_mushroom_svm_pred)\n",
    "recall_svm = recall_score(y_mushroom_test, y_mushroom_svm_pred)\n",
    "f1_svm = f1_score(y_mushroom_test, y_mushroom_svm_pred)\n",
    "\n",
    "print(\"SVM Accuracy:\", accuracy_svm)\n",
    "print(\"SVM Precision:\", precision_svm)\n",
    "print(\"SVM Recall:\", recall_svm)\n",
    "print(\"SVM F1 Score:\", f1_svm)"
   ]
  },
  {
   "cell_type": "markdown",
   "id": "45371f89-5978-492c-98f1-4d1611f5f906",
   "metadata": {},
   "source": [
    "**Interpretation of Results**"
   ]
  },
  {
   "cell_type": "markdown",
   "id": "fa981dee-5cba-4ef3-acbb-54aadb006a30",
   "metadata": {},
   "source": [
    "- **Accuracy: 1.0** An accuracy of 1.0 (or 100%) means the SVM model classified every single mushroom correctly, which is ideal.\n",
    "<br>\n",
    "- **Precision: 1.0** A precision of 1.0 indicates that every mushroom the model predicted as poisonous was indeed poisonous. This is especially important in this scenario because it means the model isn’t misclassifying edible mushrooms as poisonous, avoiding unnecessary caution.\n",
    "<br>\n",
    "- **Recall: 1.0** A recall of 1.0 means that the SVM model successfully identified every single poisonous mushroom without missing any. This is crucial for a mushroom classification model since missing a poisonous mushroom (false negative) could have serious consequences. With a recall of 1.0, the model is extremely reliable for catching all cases of poisonous mushrooms.\n",
    "<br>\n",
    "- **F1 Score: 1.0** The F1 Score combines precision and recall into a single metric, with 1.0 indicating perfect balance. Since both precision and recall are perfect here, the F1 Score is also 1.0. This means the model maintains an ideal trade-off between identifying all poisonous mushrooms and avoiding misclassification of edible ones.\n",
    "<br>"
   ]
  },
  {
   "cell_type": "markdown",
   "id": "d2ab358b-2031-4b28-80c5-202afb262a64",
   "metadata": {},
   "source": [
    "**Summary of interpretation**"
   ]
  },
  {
   "cell_type": "markdown",
   "id": "a698ae5b-d01f-457f-8d9e-a47a3a68b22a",
   "metadata": {},
   "source": [
    "The SVM model performed flawlessly on the Mushroom dataset, with a perfect score across all metrics. This means it correctly classified each mushroom as either edible or poisonous without a single mistake. Like the Logistic Regression model, the SVM model appears to have fully \"understood\" the patterns in the dataset."
   ]
  },
  {
   "cell_type": "markdown",
   "id": "49b349fd-45e7-4872-ad23-aa8299b06607",
   "metadata": {},
   "source": [
    "This level of accuracy suggests that the Mushroom dataset is relatively easy for classification with clear patterns, allowing the SVM to achieve 100% accuracy. However, it’s always a good idea to verify that there’s no data leakage, which could artificially inflate these results. However, this model is highly dependable for identifying poisonous and edible mushrooms."
   ]
  },
  {
   "cell_type": "markdown",
   "id": "5a1f51fd-32ff-4e4b-9ca1-f0812e16dd52",
   "metadata": {},
   "source": [
    "<br>"
   ]
  },
  {
   "cell_type": "markdown",
   "id": "a089814b-2db0-4293-9884-eab6116b68e7",
   "metadata": {},
   "source": [
    "#### b. Compare the performance of the models and discuss any findings."
   ]
  },
  {
   "cell_type": "markdown",
   "id": "8b828da4-72ee-4537-a603-505a05ca18d3",
   "metadata": {},
   "source": [
    "#### b.1 Linear Regression VS Decision Trees"
   ]
  },
  {
   "cell_type": "markdown",
   "id": "8788cdc0-2f20-4404-9b60-9cceeafd2d45",
   "metadata": {},
   "source": [
    "We trained two regression models on the Wine Quality dataset: Linear Regression and Decision Tree Regression. Here’s a side-by-side comparison of their performance:"
   ]
  },
  {
   "cell_type": "code",
   "execution_count": 235,
   "id": "b32e34bf-9852-4485-b359-065154cf84c4",
   "metadata": {},
   "outputs": [
    {
     "data": {
      "text/html": [
       "<style type=\"text/css\">\n",
       "</style>\n",
       "<table id=\"T_bb63a\">\n",
       "  <caption>Regression Model Comparison</caption>\n",
       "  <thead>\n",
       "    <tr>\n",
       "      <th class=\"blank level0\" >&nbsp;</th>\n",
       "      <th id=\"T_bb63a_level0_col0\" class=\"col_heading level0 col0\" >Metric</th>\n",
       "      <th id=\"T_bb63a_level0_col1\" class=\"col_heading level0 col1\" >Linear Regression</th>\n",
       "      <th id=\"T_bb63a_level0_col2\" class=\"col_heading level0 col2\" >Decision Tree Regression</th>\n",
       "    </tr>\n",
       "  </thead>\n",
       "  <tbody>\n",
       "    <tr>\n",
       "      <th id=\"T_bb63a_level0_row0\" class=\"row_heading level0 row0\" >0</th>\n",
       "      <td id=\"T_bb63a_row0_col0\" class=\"data row0 col0\" >Mean Squared Error (MSE)</td>\n",
       "      <td id=\"T_bb63a_row0_col1\" class=\"data row0 col1\" >0.382500</td>\n",
       "      <td id=\"T_bb63a_row0_col2\" class=\"data row0 col2\" >0.609400</td>\n",
       "    </tr>\n",
       "    <tr>\n",
       "      <th id=\"T_bb63a_level0_row1\" class=\"row_heading level0 row1\" >1</th>\n",
       "      <td id=\"T_bb63a_row1_col0\" class=\"data row1 col0\" >Mean Absolute Error (MAE)</td>\n",
       "      <td id=\"T_bb63a_row1_col1\" class=\"data row1 col1\" >0.497100</td>\n",
       "      <td id=\"T_bb63a_row1_col2\" class=\"data row1 col2\" >0.459400</td>\n",
       "    </tr>\n",
       "    <tr>\n",
       "      <th id=\"T_bb63a_level0_row2\" class=\"row_heading level0 row2\" >2</th>\n",
       "      <td id=\"T_bb63a_row2_col0\" class=\"data row2 col0\" >R-squared (R²)</td>\n",
       "      <td id=\"T_bb63a_row2_col1\" class=\"data row2 col1\" >0.414700</td>\n",
       "      <td id=\"T_bb63a_row2_col2\" class=\"data row2 col2\" >0.067500</td>\n",
       "    </tr>\n",
       "  </tbody>\n",
       "</table>\n"
      ],
      "text/plain": [
       "<pandas.io.formats.style.Styler at 0x196881e8050>"
      ]
     },
     "metadata": {},
     "output_type": "display_data"
    }
   ],
   "source": [
    "import pandas as pd\n",
    "\n",
    "regression_comparison = pd.DataFrame({\n",
    "    \"Metric\": [\"Mean Squared Error (MSE)\", \"Mean Absolute Error (MAE)\", \"R-squared (R²)\"],\n",
    "    \"Linear Regression\": [0.3825, 0.4971, 0.4147],\n",
    "    \"Decision Tree Regression\": [0.6094, 0.4594, 0.0675]\n",
    "})\n",
    "\n",
    "# Add caption and display format for the regression model comparison\n",
    "regression_comparison_styled = regression_comparison.style.set_caption(\"Regression Model Comparison\")\n",
    "display(regression_comparison_styled)"
   ]
  },
  {
   "cell_type": "markdown",
   "id": "74f0dfbd-48f4-4fd6-9963-71006ad6f28a",
   "metadata": {},
   "source": [
    "**Findings and Discussion**"
   ]
  },
  {
   "cell_type": "markdown",
   "id": "f6dfe41a-da88-4d40-8c0a-6263685012bc",
   "metadata": {},
   "source": [
    "- The Linear Regression model performed better overall, capturing around 41.5% of the variability in wine quality, while the Decision Tree struggled with overfitting, capturing only about 6.75%.\n",
    "- This suggests that wine quality may be influenced by a combination of features in a linear way, which Linear Regression is better suited to capture.\n",
    "- The Decision Tree’s poor performance in R² indicates that it’s not able to generalize well, possibly due to the complex and subtle relationships in the dataset that aren’t easily captured by a tree structure.\n",
    "- **Recommendation:** For the wine quality prediction, we would recommend using Linear Regression or experimenting with more advanced models like Random Forests or Gradient Boosting, which might handle the complexities better than a simple Decision Tree."
   ]
  },
  {
   "cell_type": "markdown",
   "id": "f5456241-f222-4dec-b72c-b4e617f0070a",
   "metadata": {},
   "source": [
    "<br>"
   ]
  },
  {
   "cell_type": "markdown",
   "id": "45987d38-d979-4e76-8f01-6f052323fe34",
   "metadata": {},
   "source": [
    "#### b.2 Logistic Regression VS Support Vector Machine"
   ]
  },
  {
   "cell_type": "markdown",
   "id": "f6ff9cde-1f98-4a70-abac-a037af4610ba",
   "metadata": {},
   "source": [
    "We also trained two classification models on the Mushroom dataset: Logistic Regression and Support Vector Machine (SVM). Here’s how they compare:"
   ]
  },
  {
   "cell_type": "code",
   "execution_count": 248,
   "id": "6ab764b1-9193-468f-80d3-7d3baba2fdb3",
   "metadata": {},
   "outputs": [
    {
     "name": "stdout",
     "output_type": "stream",
     "text": [
      "\n",
      "Classification Model Comparison:\n"
     ]
    },
    {
     "data": {
      "text/html": [
       "<div>\n",
       "<style scoped>\n",
       "    .dataframe tbody tr th:only-of-type {\n",
       "        vertical-align: middle;\n",
       "    }\n",
       "\n",
       "    .dataframe tbody tr th {\n",
       "        vertical-align: top;\n",
       "    }\n",
       "\n",
       "    .dataframe thead th {\n",
       "        text-align: right;\n",
       "    }\n",
       "</style>\n",
       "<table border=\"1\" class=\"dataframe\">\n",
       "  <thead>\n",
       "    <tr style=\"text-align: right;\">\n",
       "      <th></th>\n",
       "      <th>Metric</th>\n",
       "      <th>Logistic Regression</th>\n",
       "      <th>SVM</th>\n",
       "    </tr>\n",
       "  </thead>\n",
       "  <tbody>\n",
       "    <tr>\n",
       "      <th>0</th>\n",
       "      <td>Accuracy</td>\n",
       "      <td>1.0</td>\n",
       "      <td>1.0</td>\n",
       "    </tr>\n",
       "    <tr>\n",
       "      <th>1</th>\n",
       "      <td>Precision</td>\n",
       "      <td>1.0</td>\n",
       "      <td>1.0</td>\n",
       "    </tr>\n",
       "    <tr>\n",
       "      <th>2</th>\n",
       "      <td>Recall</td>\n",
       "      <td>1.0</td>\n",
       "      <td>1.0</td>\n",
       "    </tr>\n",
       "    <tr>\n",
       "      <th>3</th>\n",
       "      <td>F1 Score</td>\n",
       "      <td>1.0</td>\n",
       "      <td>1.0</td>\n",
       "    </tr>\n",
       "  </tbody>\n",
       "</table>\n",
       "</div>"
      ],
      "text/plain": [
       "      Metric  Logistic Regression  SVM\n",
       "0   Accuracy                  1.0  1.0\n",
       "1  Precision                  1.0  1.0\n",
       "2     Recall                  1.0  1.0\n",
       "3   F1 Score                  1.0  1.0"
      ]
     },
     "metadata": {},
     "output_type": "display_data"
    }
   ],
   "source": [
    "classification_comparison = pd.DataFrame({\n",
    "    \"Metric\": [\"Accuracy\", \"Precision\", \"Recall\", \"F1 Score\"],\n",
    "    \"Logistic Regression\": [1.0, 1.0, 1.0, 1.0],\n",
    "    \"SVM\": [1.0, 1.0, 1.0, 1.0]\n",
    "})\n",
    "\n",
    "# Display the classification model comparison DataFrame\n",
    "print(\"\\nClassification Model Comparison:\")\n",
    "display(classification_comparison)"
   ]
  },
  {
   "cell_type": "markdown",
   "id": "3c071456-6faa-4e18-8dd1-34cce7133fa3",
   "metadata": {},
   "source": [
    "**Findings and Discussion**"
   ]
  },
  {
   "cell_type": "markdown",
   "id": "d4ef254f-1ef5-4b8f-92ef-78f69e2335e5",
   "metadata": {},
   "source": [
    "- Both Logistic Regression and SVM achieved perfect scores, demonstrating that they can fully distinguish between edible and poisonous mushrooms.\n",
    "- This suggests that the Mushroom dataset has distinct, easily separable patterns that both models can recognize.\n",
    "- The fact that both linear (Logistic Regression) and non-linear (SVM) models performed perfectly suggests that the dataset is well-suited for classification, with no ambiguity in the patterns of edible vs. poisonous mushrooms.\n",
    "- **Recommendation:** For mushroom classification, either Logistic Regression or SVM would be reliable choices, and more complex models are unnecessary since both models already provide perfect accuracy."
   ]
  },
  {
   "cell_type": "markdown",
   "id": "c1fdf6b1-3bae-4176-9c6b-688781d74880",
   "metadata": {},
   "source": [
    "<br> <br>"
   ]
  },
  {
   "cell_type": "markdown",
   "id": "398e592f-4089-4250-9230-f34bdcf74cc1",
   "metadata": {},
   "source": [
    "### 5. Results Interpretation"
   ]
  },
  {
   "cell_type": "markdown",
   "id": "1bad471f-4435-4ee7-8fa2-82a0500d9e2d",
   "metadata": {},
   "source": [
    "#### a. Interpret the results of your models."
   ]
  },
  {
   "cell_type": "markdown",
   "id": "6eb37337-0dc3-4fee-8593-f65c1f1e74e1",
   "metadata": {},
   "source": [
    "In the Evaluation section, I gave the detailed interpretation of each metric for each model. In this section, instead of repeating what I just interpreted in the evaluation section, I will give more generalized interpretation that also compares the results for each model."
   ]
  },
  {
   "cell_type": "markdown",
   "id": "02114e6e-7e71-4a93-b7be-a80f17b674cb",
   "metadata": {},
   "source": [
    "#### Regression Models: Wine Quality Dataset"
   ]
  },
  {
   "cell_type": "markdown",
   "id": "21720b74-46da-4071-adb8-81df13f4d753",
   "metadata": {},
   "source": [
    "**Linear Regression VS Decision Trees**"
   ]
  },
  {
   "cell_type": "markdown",
   "id": "08eb10e5-bf2d-4cf6-bcb9-a6d04515f092",
   "metadata": {},
   "source": [
    "**Interpretation of Results**"
   ]
  },
  {
   "cell_type": "markdown",
   "id": "d5b379ac-af4f-4966-bc24-97a7a0638e36",
   "metadata": {},
   "source": [
    "- **Mean Squared Error (MSE):** The Linear Regression model has a lower MSE (0.3825) compared to the Decision Tree model (0.6094), suggesting that it generally makes smaller errors than the Decision Tree model.\n",
    "<br>\n",
    "- **Mean Absolute Error (MAE):** Both models are close in terms of MAE, with the Decision Tree model slightly outperforming Linear Regression (0.4594 vs. 0.4971). This indicates that, on average, the Decision Tree model has slightly smaller absolute errors. However, this difference is minimal and doesn’t tell the full story.\n",
    "<br>\n",
    "- **R-squared (R²):** Here, Linear Regression has an R² of 0.4147, meaning it explains about 41.5% of the variance in wine quality. The Decision Tree, with an R² of only 0.0675 (or 6.75%), barely explains any of the variability in wine quality, indicating it is overfitting to the training data without capturing the broader patterns.\n",
    "<br>"
   ]
  },
  {
   "cell_type": "markdown",
   "id": "35853f30-10d4-4b7e-8676-bee8a60d0699",
   "metadata": {},
   "source": [
    "**Summary**"
   ]
  },
  {
   "cell_type": "markdown",
   "id": "be3bcc63-c439-4a0c-831b-ec3b88670a36",
   "metadata": {},
   "source": [
    "In general, Linear Regression outperforms the Decision Tree model for predicting wine quality. The Decision Tree model seems to overfit, performing well on specific cases but failing to generalize, as shown by the low R² score. The Linear Regression model, while not perfect, captures some meaningful patterns in the data and provides more consistent performance."
   ]
  },
  {
   "cell_type": "markdown",
   "id": "ffc3d513-020c-49cd-a897-8bc737a03c83",
   "metadata": {},
   "source": [
    "<br>"
   ]
  },
  {
   "cell_type": "markdown",
   "id": "37823a84-e0e6-43c6-b933-5602c00daac7",
   "metadata": {},
   "source": [
    "#### Classification Models: Mushroom Dataset"
   ]
  },
  {
   "cell_type": "markdown",
   "id": "ed2f8a51-2412-4530-a51c-7a775b0537ee",
   "metadata": {},
   "source": [
    "**Logistic Regression VS Support Vector Machine**"
   ]
  },
  {
   "cell_type": "markdown",
   "id": "c50b7a15-81c5-451a-b647-b5133cc9a6a1",
   "metadata": {},
   "source": [
    "**Interpretation of Results**"
   ]
  },
  {
   "cell_type": "markdown",
   "id": "0bc0090d-6c01-4c85-b7f8-15b4149eb9a3",
   "metadata": {},
   "source": [
    "- **Perfect Scores** Both models achieved perfect scores across all metrics—Accuracy, Precision, Recall, and F1 Score. This means both models correctly classified every mushroom as either edible or poisonous without any errors. A score of 1.0 in these metrics is the best possible outcome, indicating that the models fully captured the patterns in the dataset.\n",
    "<br>\n",
    "- **Implications** This level of performance suggests that the Mushroom dataset has very clear distinctions between edible and poisonous mushrooms that both Logistic Regression and SVM models can easily detect. It also shows that these models are very reliable for this classification task.\n",
    "<br>"
   ]
  },
  {
   "cell_type": "markdown",
   "id": "0dac6877-e5a1-4978-8907-05cc7bb72934",
   "metadata": {},
   "source": [
    "**Summary**"
   ]
  },
  {
   "cell_type": "markdown",
   "id": "b9c51e53-2921-48df-a40f-bfa499de728d",
   "metadata": {},
   "source": [
    "Both models, Logistic Regression and SVM, performed equally well on the Mushroom dataset, achieving perfect accuracy. This suggests that either model is highly effective for classifying mushrooms in this dataset. It’s likely that the dataset is straightforward enough that both models can capture the necessary patterns without overfitting or underfitting"
   ]
  },
  {
   "cell_type": "markdown",
   "id": "830823e0-b95d-4334-a4f9-98b9439346bc",
   "metadata": {},
   "source": [
    "<br>"
   ]
  },
  {
   "cell_type": "markdown",
   "id": "422284fa-d426-4dec-adba-e28687a220c8",
   "metadata": {},
   "source": [
    "#### b. Create visualizations to present your findings."
   ]
  },
  {
   "cell_type": "markdown",
   "id": "c31ba90f-e56d-4149-b9ac-ee1a3636c615",
   "metadata": {},
   "source": [
    "#### Regression Models (Wine Quality Dataset)"
   ]
  },
  {
   "cell_type": "code",
   "execution_count": 271,
   "id": "38112cbd-9a9f-45a4-ab39-4fcf5b5aa59a",
   "metadata": {},
   "outputs": [
    {
     "data": {
      "image/png": "[encoded data removed]",
      "text/plain": [
       "<Figure size 1000x600 with 1 Axes>"
      ]
     },
     "metadata": {},
     "output_type": "display_data"
    }
   ],
   "source": [
    "import matplotlib.pyplot as plt\n",
    "import numpy as np\n",
    "\n",
    "# --- Regression Model Performance Bar Plot ---\n",
    "\n",
    "# Metrics for Linear Regression and Decision Tree\n",
    "metrics = [\"Mean Squared Error (MSE)\", \"Mean Absolute Error (MAE)\", \"R-squared (R²)\"]\n",
    "linear_regression_scores = [0.3825, 0.4971, 0.4147]\n",
    "decision_tree_scores = [0.6094, 0.4594, 0.0675]\n",
    "\n",
    "# Bar Plot to compare regression metrics\n",
    "x = np.arange(len(metrics))  # label locations\n",
    "width = 0.35  # bar width\n",
    "\n",
    "fig, ax = plt.subplots(figsize=(10, 6))\n",
    "rects1 = ax.bar(x - width/2, linear_regression_scores, width, label=\"Linear Regression\", color=\"blue\")\n",
    "rects2 = ax.bar(x + width/2, decision_tree_scores, width, label=\"Decision Tree\", color=\"green\")\n",
    "\n",
    "ax.set_xlabel(\"Metrics\")\n",
    "ax.set_title(\"Regression Model Comparison\")\n",
    "ax.set_xticks(x)\n",
    "ax.set_xticklabels(metrics)\n",
    "ax.legend()\n",
    "plt.show()"
   ]
  },
  {
   "cell_type": "markdown",
   "id": "8403f175-bd0e-4a27-afac-ed350814e0ee",
   "metadata": {},
   "source": [
    "**Regression Model Performance Bar Plot**"
   ]
  },
  {
   "cell_type": "markdown",
   "id": "2fb8b67c-7a95-4486-9861-16189f6506e5",
   "metadata": {},
   "source": [
    "- This bar plot compares the Mean Squared Error (MSE), Mean Absolute Error (MAE), and R-squared (R²) for the Linear Regression and Decision Tree models.\n",
    "- Lower MSE and MAE values indicate better performance, while a higher R² is preferable.\n",
    "- We can visually see that Linear Regression has a lower MSE and a higher R², indicating it performs better overall compared to the Decision Tree."
   ]
  },
  {
   "cell_type": "markdown",
   "id": "bdf3accc-a58f-4368-8860-b1870ed0187a",
   "metadata": {},
   "source": [
    "<br><br>"
   ]
  },
  {
   "cell_type": "code",
   "execution_count": 273,
   "id": "044ad378-d50e-49f3-a1eb-4eb3dc8f7ee8",
   "metadata": {},
   "outputs": [
    {
     "data": {
      "image/png": "[encoded data removed]",
      "text/plain": [
       "<Figure size 1400x600 with 2 Axes>"
      ]
     },
     "metadata": {},
     "output_type": "display_data"
    }
   ],
   "source": [
    "import matplotlib.pyplot as plt\n",
    "import numpy as np\n",
    "\n",
    "fig, axs = plt.subplots(1, 2, figsize=(14, 6))\n",
    "\n",
    "# Linear Regression scatter plot\n",
    "axs[0].scatter(y_wine_test, y_wine_pred, color=\"blue\", alpha=0.6)\n",
    "axs[0].plot([y_wine_test.min(), y_wine_test.max()], [y_wine_test.min(), y_wine_test.max()], 'k--', lw=2)\n",
    "axs[0].set_title(\"Linear Regression: Predictions vs. Actual\")\n",
    "axs[0].set_xlabel(\"Actual Wine Quality\")\n",
    "axs[0].set_ylabel(\"Predicted Wine Quality\")\n",
    "\n",
    "# Decision Tree Regression scatter plot\n",
    "axs[1].scatter(y_wine_test, y_wine_dt_pred, color=\"green\", alpha=0.6)\n",
    "axs[1].plot([y_wine_test.min(), y_wine_test.max()], [y_wine_test.min(), y_wine_test.max()], 'k--', lw=2)\n",
    "axs[1].set_title(\"Decision Tree: Predictions vs. Actual\")\n",
    "axs[1].set_xlabel(\"Actual Wine Quality\")\n",
    "axs[1].set_ylabel(\"Predicted Wine Quality\")\n",
    "\n",
    "plt.tight_layout()\n",
    "plt.show()"
   ]
  },
  {
   "cell_type": "markdown",
   "id": "a79787df-def4-44e5-871d-a727ce645ec8",
   "metadata": {},
   "source": [
    "**Scatter Plot of Predictions vs. Actual for Each Regression Model**"
   ]
  },
  {
   "cell_type": "markdown",
   "id": "e59ec2ff-b6e8-44c3-84c2-237119650198",
   "metadata": {},
   "source": [
    "- For both Linear Regression and Decision Tree models, we plot the actual wine quality on the x-axis and the predicted wine quality on the y-axis.\n",
    "- The diagonal line represents perfect predictions (i.e., predicted = actual).\n",
    "- Points closer to this line indicate more accurate predictions.\n",
    "- This visualization helps us see how well each model’s predictions align with the actual values, showing that Linear Regression is closer overall, while Decision Tree predictions are more scattered."
   ]
  },
  {
   "cell_type": "markdown",
   "id": "a84a3e22-982d-4cff-a231-d3ac1ddaf0a8",
   "metadata": {},
   "source": [
    "<br><br>"
   ]
  },
  {
   "cell_type": "markdown",
   "id": "91b26b7c-c635-4826-a24f-9b962d33e571",
   "metadata": {},
   "source": [
    "#### Classification Models (Mushroom Dataset)"
   ]
  },
  {
   "cell_type": "code",
   "execution_count": 285,
   "id": "d7d853e1-847e-4e12-b19b-513630a7b1ea",
   "metadata": {},
   "outputs": [
    {
     "data": {
      "image/png": "[encoded data removed]",
      "text/plain": [
       "<Figure size 1000x600 with 1 Axes>"
      ]
     },
     "metadata": {},
     "output_type": "display_data"
    }
   ],
   "source": [
    "import matplotlib.pyplot as plt\n",
    "import numpy as np\n",
    "\n",
    "# Metrics for Logistic Regression and SVM\n",
    "classification_metrics = [\"Accuracy\", \"Precision\", \"Recall\", \"F1 Score\"]\n",
    "logistic_regression_scores = [1.0, 1.0, 1.0, 1.0]\n",
    "svm_scores = [1.0, 1.0, 1.0, 1.0]\n",
    "\n",
    "# Bar Plot to compare classification metrics\n",
    "x = np.arange(len(classification_metrics))  # label locations\n",
    "\n",
    "fig, ax = plt.subplots(figsize=(10, 6))\n",
    "rects1 = ax.bar(x - width/2, logistic_regression_scores, width, label=\"Logistic Regression\", color=\"purple\")\n",
    "rects2 = ax.bar(x + width/2, svm_scores, width, label=\"SVM\", color=\"orange\")\n",
    "\n",
    "# Add labels and title\n",
    "ax.set_xlabel(\"Metrics\")\n",
    "ax.set_title(\"Classification Model Comparison\")\n",
    "ax.set_xticks(x)\n",
    "ax.set_xticklabels(classification_metrics)\n",
    "ax.legend()\n",
    "plt.show()"
   ]
  },
  {
   "cell_type": "markdown",
   "id": "15f6cc81-c66f-4d11-83f8-3dcc635d8a45",
   "metadata": {},
   "source": [
    "**Classification Model Performance Bar Plot**"
   ]
  },
  {
   "cell_type": "markdown",
   "id": "b578f6cd-efd1-4ac3-97d7-1006a4b76271",
   "metadata": {},
   "source": [
    "- This bar plot compares Accuracy, Precision, Recall, and F1 Score for Logistic Regression and SVM on the Mushroom dataset.\n",
    "- Since both models achieved perfect scores (1.0) across all metrics, the bars reach the maximum value for each metric, confirming that both models classified every sample correctly."
   ]
  },
  {
   "cell_type": "markdown",
   "id": "376535cb-4745-446a-b665-89853ca08564",
   "metadata": {},
   "source": [
    "<br><br>"
   ]
  },
  {
   "cell_type": "markdown",
   "id": "0f3055bf-5132-498d-8665-44529318aedd",
   "metadata": {},
   "source": [
    "### 6. Report writing"
   ]
  },
  {
   "cell_type": "markdown",
   "id": "594399b4-c8c1-4a63-9154-9476e6d16fe1",
   "metadata": {},
   "source": [
    "#### A. Document your process, findings, and conclusions in a detailed report."
   ]
  },
  {
   "cell_type": "markdown",
   "id": "ba119417-1518-4a75-a128-1c03a8893e7f",
   "metadata": {},
   "source": [
    "#### Project Summary"
   ]
  },
  {
   "cell_type": "markdown",
   "id": "65bdc8ed-c166-4a0c-bf88-51091f83b407",
   "metadata": {},
   "source": [
    "#### I. Objective:"
   ]
  },
  {
   "cell_type": "markdown",
   "id": "12d6f19c-69da-4030-b2df-1d206371bf19",
   "metadata": {},
   "source": [
    "The objective of this project was to build, evaluate, and compare models for two tasks:"
   ]
  },
  {
   "cell_type": "markdown",
   "id": "c7d4aa26-563a-45e1-b23b-b65a5e5c4c4f",
   "metadata": {},
   "source": [
    "1. Regression: Predict wine quality based on physicochemical properties.\n",
    "2. Classification: Classify mushrooms as either edible or poisonous based on various characteristics."
   ]
  },
  {
   "cell_type": "markdown",
   "id": "b1f800fb-a64d-4cab-a9bc-a45d6ff12cbe",
   "metadata": {},
   "source": [
    "#### II. Step-by-Step Process"
   ]
  },
  {
   "cell_type": "markdown",
   "id": "03fecb0d-88d3-47c9-a4a1-4988df66ba78",
   "metadata": {},
   "source": [
    "**1. Dataset Selection and Loading**"
   ]
  },
  {
   "cell_type": "markdown",
   "id": "8fd55d5d-553a-4563-b20e-4f4a0357882d",
   "metadata": {},
   "source": [
    "- **Wine Quality Dataset:** Selected for the regression task to predict wine quality.\n",
    "  - *Source:* The Wine Quality dataset was obtained from the UCI Machine Learning Repository, a popular source for machine learning datasets.\n",
    "  - *Purpose:* This dataset was selected for the regression task as it provides physicochemical properties (e.g., acidity, sugar, alcohol content) of different red wines, along with a quality score for each wine.\n",
    "  - *Features and Target:* The dataset includes features such as fixed acidity, volatile acidity, citric acid, residual sugar, chlorides, and alcohol, among others, which are continuous numerical variables. The target variable, quality, is an integer score typically ranging from 0 to 10, representing the quality of the wine.\n",
    "  - *Objective:* The goal is to build a regression model that can predict the quality score of a wine based on its chemical properties, which could be useful in understanding which factors contribute to higher quality wines.\n",
    "- **Mushroom Dataset:** Selected for the classification task to identify mushrooms as edible or poisonous.\n",
    "  - *Source:* The Mushroom dataset was also obtained from the UCI Machine Learning Repository. This dataset contains detailed information about different species of mushrooms.\n",
    "  - *Purpose:* This dataset was selected for the classification task, as it provides a variety of characteristics (e.g., cap shape, odor, habitat) for each mushroom, along with a classification label indicating whether each mushroom is edible or poisonous.\n",
    "  - *Features and Target:* The dataset contains categorical features such as cap_shape, cap_surface, cap_color, odor, and habitat. The target variable, class, is binary, with values indicating whether a mushroom is edible (e) or poisonous (p).\n",
    "  - *Objective:* The goal is to build a classification model that can accurately distinguish between edible and poisonous mushrooms based on these features, which could have practical applications in foraging and safety."
   ]
  },
  {
   "cell_type": "markdown",
   "id": "f33bc566-2b71-43df-8b0d-ffbc4d535ad6",
   "metadata": {},
   "source": [
    "**2. Data Preprocessing**"
   ]
  },
  {
   "cell_type": "markdown",
   "id": "0eb33cf6-0a5d-46e6-8ca8-af9f02e8f3f5",
   "metadata": {},
   "source": [
    "- Wine Quality Dataset (Regression)\n",
    "  - Checked for missing values and outliers. No missing values were found, but we handled outliers by capping them using the IQR method to reduce their impact.\n",
    "  - Standardized the features using StandardScaler, ensuring that all features had a mean of 0 and standard deviation of 1. This helps models like Linear Regression perform more consistently and improves training stability."
   ]
  },
  {
   "cell_type": "markdown",
   "id": "2406dd34-2913-4467-9fd8-ebb2da7cc2ea",
   "metadata": {},
   "source": [
    "- Mushroom Dataset (Classification)\n",
    "  - Dropped the redundant column (veil_type), which had only one unique value across all records and didn’t contribute to the classification task.\n",
    "  - One-hot encoded all categorical features to convert them into a numerical format suitable for modeling. This process created binary columns for each unique category in each feature.\n",
    "  - Converted the class target variable into binary form (1 for poisonous, 0 for edible) to make it compatible with classification models."
   ]
  },
  {
   "cell_type": "markdown",
   "id": "654867cf-96cb-4b25-9d72-a1bde392118f",
   "metadata": {},
   "source": [
    "**3. Splitting the Data into Training and Testing Sets**"
   ]
  },
  {
   "cell_type": "markdown",
   "id": "cc36272c-cacb-4001-b599-83db8af733e7",
   "metadata": {},
   "source": [
    "To evaluate model performance fairly, I used Scikit-Learn’s train_test_split function to divide each dataset into training (80%) and testing (20%) sets. This approach allowed me to train each model on the training set and then assess how well it generalized to unseen data using the testing set. By keeping the data split consistent, I ensured that our evaluation metrics reflected each model's ability to predict accurately on new, unobserved data."
   ]
  },
  {
   "cell_type": "markdown",
   "id": "5233bc42-d4a7-44c4-b64b-b8981d28a6c9",
   "metadata": {},
   "source": [
    "**4. Model Implementation**"
   ]
  },
  {
   "cell_type": "markdown",
   "id": "956dcf86-75e9-4ab4-9f82-ceb5ac4facab",
   "metadata": {},
   "source": [
    "For building and training the models, I used the Scikit-Learn library, a popular Python library for machine learning. Scikit-Learn provided a wide range of tools for implementing, training, and evaluating both regression and classification models, making it easier to perform machine learning tasks with minimal code."
   ]
  },
  {
   "cell_type": "markdown",
   "id": "af9121cd-9dc8-46bd-b7cd-5d3d3761ddfb",
   "metadata": {},
   "source": [
    "- Regression Models for Wine Quality\n",
    "  - Linear Regression: I implemented this as a baseline model using Scikit-Learn’s LinearRegression class. Linear Regression assumes a linear relationship between the features and the target variable (wine quality), making it a straightforward approach to see how well a simple model could capture the underlying patterns.\n",
    "  - Decision Tree Regression: This model was implemented using Scikit-Learn’s DecisionTreeRegressor class. Decision Trees learn decision rules from the data, making them flexible for capturing non-linear relationships and interactions between features. However, they are prone to overfitting, especially with limited data, which we kept in mind during evaluation.\n",
    "- Classification Models for Mushroom Dataset\n",
    "  - Logistic Regression: I used Scikit-Learn’s LogisticRegression class to implement this model as a baseline for binary classification. Logistic Regression is a linear classifier that is easy to interpret and provides a good starting point for classification tasks. It models the probability of a sample belonging to a particular class (edible or poisonous) based on a linear combination of features.\n",
    "  - Support Vector Machine (SVM): Using Scikit-Learn’s SVC (Support Vector Classifier) class, I implemented an SVM with a linear kernel. SVM is designed to find the optimal boundary between classes, making it robust for binary classification tasks. With different kernel options available, SVMs can handle complex relationships, though in this case, the linear kernel sufficed given the dataset's clear patterns."
   ]
  },
  {
   "cell_type": "markdown",
   "id": "2a832df4-c662-459f-981f-0f27454e609a",
   "metadata": {},
   "source": [
    "**5. Model Evaluation**"
   ]
  },
  {
   "cell_type": "markdown",
   "id": "cf96d25a-a718-4a41-a8e7-e599ead3c949",
   "metadata": {},
   "source": [
    "- For Regression Models:\n",
    "  - Evaluated using Mean Squared Error (MSE), Mean Absolute Error (MAE), and R-squared (R²).\n",
    "  - Linear Regression outperformed Decision Tree in MSE and R², indicating it better captured the underlying relationships in wine quality. The Decision Tree model had a lower R², suggesting it overfit the training data without generalizing well.\n",
    "- For Classification Models:\n",
    "  - Evaluated using Accuracy, Precision, Recall, and F1 Score.\n",
    "  - Both Logistic Regression and SVM achieved perfect scores of 1.0 across all metrics, indicating both models were able to perfectly distinguish between edible and poisonous mushrooms. This high performance suggests that the Mushroom dataset has clear patterns for classification."
   ]
  },
  {
   "cell_type": "markdown",
   "id": "eb90a6d8-cf45-476e-9572-c5a2da0e255e",
   "metadata": {},
   "source": [
    "**6. Visualizations**"
   ]
  },
  {
   "cell_type": "markdown",
   "id": "1da134a0-3b80-4adb-8e70-01a53a5ea908",
   "metadata": {},
   "source": [
    "Created visualizations to present model performance:\n",
    "- Bar Plot for regression metrics (MSE, MAE, R²) to compare Linear Regression and Decision Tree models.\n",
    "- Scatter Plot of predictions vs. actual values for each regression model to visually assess prediction accuracy.\n",
    "- Bar Plot for classification metrics (Accuracy, Precision, Recall, F1 Score) to confirm perfect scores for Logistic Regression and SVM."
   ]
  },
  {
   "cell_type": "markdown",
   "id": "46479e0d-4e87-472a-841a-135283f5920a",
   "metadata": {},
   "source": [
    "#### III. Findings"
   ]
  },
  {
   "cell_type": "markdown",
   "id": "f8af72e7-7213-4f14-a192-dcbbb2e3a709",
   "metadata": {},
   "source": [
    "**Regression Models (Wine Quality Dataset)**\n",
    "- Linear Regression performed better overall than Decision Tree Regression, with a lower MSE and a higher R², indicating it captures more of the underlying patterns in wine quality.\n",
    "- The Decision Tree model showed signs of overfitting, as indicated by its low R² score, meaning it didn’t generalize well to the test data.\n",
    "- **Conclusion:** Linear Regression is more suitable for this dataset, but performance might be improved with more advanced models like Random Forest or Gradient Boosting, which could capture the complex patterns more effectively."
   ]
  },
  {
   "cell_type": "markdown",
   "id": "a09313bb-c671-45ba-9fed-eaf39a83659a",
   "metadata": {},
   "source": [
    "**Classification Models (Mushroom Dataset)**\n",
    "- Both Logistic Regression and SVM achieved perfect performance, scoring 1.0 across Accuracy, Precision, Recall, and F1 Score.\n",
    "- This suggests that the Mushroom dataset has clear, easily distinguishable patterns that make it simple for models to classify mushrooms accurately.\n",
    "- **Conclusion:** Both models are highly effective for this dataset. More complex models aren’t necessary due to the perfect performance achieved by these simpler models."
   ]
  },
  {
   "cell_type": "markdown",
   "id": "ae669856-2bfa-4b5a-81df-d0866b3c030e",
   "metadata": {},
   "source": [
    "#### IV. Overall Conclusion"
   ]
  },
  {
   "cell_type": "markdown",
   "id": "1c613610-552b-477c-b802-75f330b9795e",
   "metadata": {},
   "source": [
    "This project successfully demonstrated the process of building, evaluating, and comparing models for both regression and classification tasks. For the Wine Quality dataset, Linear Regression was more effective than Decision Tree Regression. For the Mushroom dataset, both Logistic Regression and SVM performed flawlessly. These findings highlight the importance of model selection based on dataset characteristics and task requirements, showing that simpler models can perform extremely well when the dataset structure supports them."
   ]
  },
  {
   "cell_type": "markdown",
   "id": "25c58426-0436-4d37-b6ec-3bf9f3d8fdd6",
   "metadata": {},
   "source": [
    "<br> <br>"
   ]
  },
  {
   "cell_type": "markdown",
   "id": "dabab035-9cb6-4233-b7e6-221dbf61a3c1",
   "metadata": {},
   "source": [
    "#### b. Besides the necessary sections, include a section on the potential implications of your results in real-world scenarios."
   ]
  },
  {
   "cell_type": "markdown",
   "id": "aecf7046-9bb8-4b07-825f-2e8658d97e97",
   "metadata": {},
   "source": [
    "#### Potential Implications of Results in Real-World Scenarios"
   ]
  },
  {
   "cell_type": "markdown",
   "id": "9317cdac-e1e0-40a2-a6a3-47588e594231",
   "metadata": {},
   "source": [
    "The models developed in this project, though trained on specific datasets, have broader implications in real-world applications. Let’s explore the potential impact of each model's results in practical contexts."
   ]
  },
  {
   "cell_type": "markdown",
   "id": "55348669-8b52-4671-848b-dc145c4422ab",
   "metadata": {},
   "source": [
    "**1. Wine Quality Prediction (Regression Models)**\n",
    "<br> The Linear Regression model for predicting wine quality demonstrated reasonable accuracy in capturing the relationship between wine’s physicochemical properties and its quality rating. Here’s how this model could be valuable in real-world scenarios:"
   ]
  },
  {
   "cell_type": "markdown",
   "id": "bc186731-7443-44e1-adb8-93423335b477",
   "metadata": {},
   "source": [
    "- **Wine Production and Quality Control:** Wineries and beverage companies could use similar predictive models to monitor and maintain the quality of their products. By analyzing features like acidity, sugar levels, and alcohol content, producers could ensure their wines meet certain quality standards before distribution. This could lead to better consistency in quality, which is crucial for brand reputation and customer satisfaction.\n",
    "- **Automating Quality Assessment:** Quality assessment is often subjective and may require trained sommeliers, which can be costly and inconsistent. A model that predicts quality based on chemical properties could serve as a cost-effective, objective tool for preliminary quality checks, saving time and reducing reliance on human judgment. Such a model could be particularly useful for high-volume producers seeking to streamline their quality control processes.\n",
    "- **Implications for Product Development:** Insights from predictive models like Linear Regression can guide product development by helping winemakers understand which factors most influence quality. By adjusting these factors in production, companies could develop wines that cater to specific quality standards or consumer preferences, potentially boosting sales and customer loyalty."
   ]
  },
  {
   "cell_type": "markdown",
   "id": "6e284501-b05b-4b58-b62b-887934debb08",
   "metadata": {},
   "source": [
    "**2. Mushroom Classification (Classification Models)**\n",
    "<br> Both the Logistic Regression and Support Vector Machine (SVM) models achieved perfect accuracy in classifying mushrooms as edible or poisonous. This has significant implications in safety and environmental contexts:"
   ]
  },
  {
   "cell_type": "markdown",
   "id": "3ed0b93f-c049-4484-ad56-aa0d3eb965a8",
   "metadata": {},
   "source": [
    "- **Foraging and Public Safety:** Accurate mushroom classification is critical for foragers and outdoor enthusiasts. A reliable classification model could be integrated into a mobile app, allowing users to photograph mushrooms in the wild and receive real-time feedback on their edibility. This could help prevent accidental poisoning, which is a serious risk for inexperienced foragers.\n",
    "- **Agricultural and Environmental Applications:** Mushroom classification models can aid in identifying species that may affect crops, forestry, or ecosystem balance. Accurate classification could help farmers, environmental scientists, and conservationists quickly distinguish between beneficial and harmful species, guiding informed decisions for pest control and environmental conservation.\n",
    "- **Medical and Emergency Response:** In cases of mushroom poisoning, time is critical. Health professionals could use similar classification models to quickly identify the species involved based on photos or descriptions of the mushroom, guiding treatment decisions. Accurate species identification can speed up response times and potentially save lives, as different species may require specific medical treatments."
   ]
  },
  {
   "cell_type": "markdown",
   "id": "43ff2592-4e66-4469-ad5e-4dc25df8f7e0",
   "metadata": {},
   "source": [
    "**3. Broader Implications and Considerations**\n",
    "<br> While these models demonstrate high accuracy within the controlled conditions of our datasets, deploying them in real-world applications would require careful consideration of potential limitations and risks:"
   ]
  },
  {
   "cell_type": "markdown",
   "id": "cb8897c3-6c5c-4406-aa2b-d49a12af2d34",
   "metadata": {},
   "source": [
    "- **Limitations of Predictive Accuracy:** For the wine quality model, real-world applicability may be limited by factors not captured in the dataset, such as flavor complexity, aroma, or subjective quality indicators. Extending the model to include sensory attributes or expert feedback could improve its predictive power.\n",
    "- **Risks of Misclassification:** For mushroom classification, the high accuracy of our models is promising, but any misclassification could be dangerous in practice. Models deployed in foraging or health applications should undergo rigorous testing in diverse real-world conditions, and users should be cautioned to treat model predictions as advisory rather than definitive.\n",
    "- **Ethical and Practical Considerations:** Implementing AI in areas like food safety and health requires careful ethical considerations. While automation can improve efficiency and consistency, it’s important to maintain transparency about model limitations and educate users about the responsible use of these technologies."
   ]
  },
  {
   "cell_type": "markdown",
   "id": "afe6d35d-f400-4a41-9487-8a2eb6a37e1a",
   "metadata": {},
   "source": [
    "#### Summary for Potential Implications of Results in Real-World Scenarios"
   ]
  },
  {
   "cell_type": "markdown",
   "id": "20aec9ba-abe6-472d-afe1-274d3d9b12ff",
   "metadata": {},
   "source": [
    "The models developed in this project demonstrate the potential for machine learning applications in quality control and safety. The wine quality prediction model could enhance quality assurance and guide product development in the beverage industry, while the mushroom classification models have applications in foraging safety, environmental management, and emergency medical response. With further refinement and responsible deployment, these models could provide significant benefits in their respective fields."
   ]
  },
  {
   "cell_type": "markdown",
   "id": "2d4972b9-5a37-4f32-82f7-e5f50aa5a8cb",
   "metadata": {},
   "source": [
    "<br><br>"
   ]
  },
  {
   "cell_type": "markdown",
   "id": "cc393abb-b56a-4ceb-b491-4b9e8a93cbfe",
   "metadata": {},
   "source": [
    "#### c. Provide references (eg. codes, blogs, GenAI tools)."
   ]
  },
  {
   "cell_type": "markdown",
   "id": "577f2b7e-4ce2-44e2-98b4-6ae61d887254",
   "metadata": {},
   "source": [
    "1. **Wine Quality Dataset Reference**\n",
    "- Source: UCI Machine Learning Repository\n",
    "- Link: https://archive.ics.uci.edu/dataset/186/wine+quality\n",
    "- Description: This dataset contains physicochemical properties of red wines and their quality scores. It was used in this project for the regression task to predict wine quality.\n",
    "  \n",
    "2. **Mushroom Dataset Reference**\n",
    "- Source: UCI Machine Learning Repository\n",
    "- Link: https://archive.ics.uci.edu/dataset/73/mushroom\n",
    "- Description: This dataset provides details about different mushroom species, including characteristics such as cap shape, color, and odor. It was used in this project for the classification task to determine whether a mushroom is edible or poisonous.\n",
    "  \n",
    "3. **Scikit-Learn Documentation**\n",
    "- Source: Scikit-Learn Official Documentation\n",
    "- Link: https://scikit-learn.org/stable/\n",
    "- Description: Scikit-Learn is a powerful Python library for machine learning that we used to implement, train, and evaluate models. The documentation provides detailed explanations of the functions and classes we used, such as LinearRegression, DecisionTreeRegressor, LogisticRegression, SVC, and train_test_split.\n",
    "  \n",
    "4. **Pandas Documentation**\n",
    "- Source: Pandas Official Documentation\n",
    "- Link: https://pandas.pydata.org/docs/\n",
    "- Description: Pandas was used for data manipulation and preprocessing tasks. The documentation provides insights into functions for handling data structures, such as DataFrame, and for performing operations like get_dummies for encoding categorical data.\n",
    "  \n",
    "5. **Matplotlib Documentation**\n",
    "- Source: Matplotlib Official Documentation\n",
    "- Link: https://matplotlib.org/stable/index.html\n",
    "- Description: Matplotlib was used to create visualizations of the model performance and results. The documentation includes guides on plotting functions such as plt.bar for bar plots and plt.scatter for scatter plots.\n",
    "\n",
    "6. **Seaborn Documentation**\n",
    "- Source: Seaborn Official Documentation\n",
    "- Link: https://seaborn.pydata.org/\n",
    "- Description: Seaborn, a statistical data visualization library, was used to create enhanced plots for data exploration. The documentation includes functions for creating box plots, which helped in analyzing the distribution of wine quality features.\n",
    "  \n",
    "7. **OpenAI's ChatGPT**\n",
    "- Source: OpenAI\n",
    "- Link: https://openai.com/\n",
    "- Description: OpenAI's ChatGPT, a Generative AI tool, was used to assist in brainstorming ideas, refining explanations, and formatting sections of this report.\n",
    "  "
   ]
  },
  {
   "cell_type": "markdown",
   "id": "eb81dbce-5781-4204-9667-526d5a425b1c",
   "metadata": {},
   "source": [
    "<br> <br>"
   ]
  },
  {
   "cell_type": "markdown",
   "id": "19fb331b-ba82-40c3-97cc-73a14a1f96c4",
   "metadata": {},
   "source": [
    "### 7. Reflection"
   ]
  },
  {
   "cell_type": "markdown",
   "id": "98d51ffe-85fc-463f-8a6f-6edafa28eaf5",
   "metadata": {},
   "source": [
    "#### a. Reflect on the challenges faced during the project and how they were addressed."
   ]
  },
  {
   "cell_type": "markdown",
   "id": "23670acd-ba35-4c3e-aced-7462941f1458",
   "metadata": {},
   "source": [
    "This project had its fair share of challenges, and it wasn’t always smooth sailing. Here’s a look at what I ran into along the way and how I managed to get through it."
   ]
  },
  {
   "cell_type": "markdown",
   "id": "41ac52ec-0f4b-4b0c-909a-2f17cfa5039f",
   "metadata": {},
   "source": [
    "1. **Finding the Right Dataset**\n",
    "- **Challenge:** One of the first hurdles was finding the right datasets for both regression and classification. Since I couldn’t reuse any datasets I'd worked with before, I spent a lot of time browsing the UCI Machine Learning Repository and Kaggle. I needed something that fit the requirements but wasn’t overly complex and it had to be realistic for building a model within the project’s scope.\n",
    "- **Solution:** After looking through several options, I ended up with the Wine Quality dataset for regression and the Mushroom dataset for classification, both from UCI. They struck a good balance: they had enough features to build interesting models but weren’t so complicated that I’d be bogged down by them. Choosing these felt like a win, considering the time and criteria constraints.\n",
    "  \n",
    "2. **Time Management**\n",
    "- **Challenge:** Managing time was a big struggle. With a packed schedule of other coursework and assignments, I found it hard to carve out enough time for this project. I’d planned to chip away at it throughout the week, but with everything going on, I ended up having to dedicate the last day to wrapping up a lot of the work.\n",
    "- **Solution:** To make the most of the time I had, I focused on the essential parts first then getting the data preprocessed and the models built. I broke the report into smaller sections and tried to tackle each part separately, which helped make it feel less overwhelming. While it wasn’t ideal to do so much on the final day, breaking things down helped me stay on track without getting too stressed.\n",
    "  \n",
    "3. **Motivation and Mental Health**\n",
    "- **Challenge:** Staying motivated was hard, especially with how I’ve been feeling lately. I’ve been dealing with depression, and it’s been tough to find the energy and purpose to tackle assignments. At the start of the semester, I was on top of everything, finishing projects as soon as they were assigned. But as time went on, I started feeling more and more drained and found myself wanting to focus on personal projects instead. On top of that, working three jobs means I have barely any free time to rest, which only adds to the exhaustion.\n",
    "- **Solution:** I tried to approach this project in small steps, focusing on one piece at a time so it didn’t feel so daunting. Breaking things down helped me keep moving forward, even when motivation was low. I also reminded myself that finishing this coursework is part of a bigger goal and it’s not just another assignment, but a step toward what I want to achieve in the long run. Keeping that in mind made it a bit easier to push through, even on the rough days."
   ]
  },
  {
   "cell_type": "markdown",
   "id": "0226e8a8-72dc-4723-b416-207768fd2bc7",
   "metadata": {},
   "source": [
    "<br> <br>"
   ]
  },
  {
   "cell_type": "markdown",
   "id": "54624a6a-d92c-4f99-8830-bbbf5996309e",
   "metadata": {},
   "source": [
    "#### b. Discuss any insights gained from applying regression and classification techniques."
   ]
  },
  {
   "cell_type": "markdown",
   "id": "891590d3-bac9-4d8c-8cca-ba716a7964f6",
   "metadata": {},
   "source": [
    "Coming into this project, I already had some basic experience with Scikit-Learn from earlier labs, where I worked with simpler models like Bernoulli classifiers. This familiarity made Scikit-Learn a natural choice for building both regression and classification models for this project. But as I dove deeper, I picked up several key insights that went beyond just using the library."
   ]
  },
  {
   "cell_type": "markdown",
   "id": "497d7ad5-a9d7-4040-a262-da33b50c3dfe",
   "metadata": {},
   "source": [
    "First, I learned just how important it is to start with clean data. Handling outliers and encoding categorical variables properly had a big impact on model performance. For instance, in the Mushroom dataset, the classification models achieved perfect scores, showing that clean, well-organized data can make even simple models highly accurate. This really reinforced that building effective models isn’t just about choosing the most advanced algorithm; it often starts with taking the time to prepare and clean the data well."
   ]
  },
  {
   "cell_type": "markdown",
   "id": "e9a727d5-0703-4985-b32a-418d2ef878cd",
   "metadata": {},
   "source": [
    "Another insight was the importance of picking the right model for the task. For the wine quality prediction, Linear Regression ended up outperforming the Decision Tree model, which suggested that a simpler, linear approach worked better for that dataset. On the other hand, with the Mushroom dataset, both Logistic Regression and SVM performed equally well, achieving perfect classification scores. This showed me that sometimes simpler models can be just as effective as complex ones, depending on the data. It’s easy to assume that more complex models will perform better, but this project reminded me that’s not always the case."
   ]
  },
  {
   "cell_type": "markdown",
   "id": "bdd0127d-6ab5-4b0f-81dc-c819a6d14b1e",
   "metadata": {},
   "source": [
    "I also gained a better appreciation for balancing simplicity and complexity. Working with linear models (like Linear and Logistic Regression) and more flexible ones (like Decision Trees and SVM) highlighted the trade-offs involved. Simpler models are easier to interpret and often generalize better, as I saw with Linear Regression on the wine dataset. But complex models, like Decision Trees, can capture non-linear patterns and interactions, though they’re more prone to overfitting. This reinforced the idea that starting with simpler models is often a smart approach, and moving to more complex ones only if the data calls for it."
   ]
  },
  {
   "cell_type": "markdown",
   "id": "0a68cc5e-e18f-427c-b775-42df36596d48",
   "metadata": {},
   "source": [
    "Understanding evaluation metrics more deeply was another big takeaway. For the regression models, metrics like Mean Squared Error (MSE) and R-squared (R²) helped me see not only how close predictions were to actual values but also how well the model captured overall trends in the data. For classification, Precision and Recall (along with Accuracy) reminded me of the importance of balancing false positives and false negatives, especially in a safety-related application like mushroom classification. Knowing which metrics to rely on for different models and tasks is crucial for interpreting results in a meaningful way."
   ]
  },
  {
   "cell_type": "markdown",
   "id": "fc0511a7-1e7b-459c-8668-d6a7dae76417",
   "metadata": {},
   "source": [
    "Finally, this project highlighted the importance of experimentation. Testing different models on the same data and comparing their performance helped me see their strengths and weaknesses firsthand. Seeing the performance differences between Linear Regression and Decision Tree for wine quality, for example, emphasized the need to try multiple approaches rather than assuming one model will fit all. This project drove home that each dataset is unique, and sometimes unexpected results guide us toward the best modeling approach."
   ]
  },
  {
   "cell_type": "markdown",
   "id": "b70c7069-469d-479a-ad31-8959c47f68e7",
   "metadata": {},
   "source": [
    "Overall, this project was a reminder that machine learning is more than just applying algorithms. It’s a process that requires careful data preparation, thoughtful model selection, and an iterative approach to finding the best fit. These insights deepened my understanding of how regression and classification techniques work in practice and showed me how much difference small details can make in the final outcome."
   ]
  },
  {
   "cell_type": "code",
   "execution_count": null,
   "id": "642134a7-b7f1-44a4-ba42-a4fbac5bdf6b",
   "metadata": {},
   "outputs": [],
   "source": []
  }
 ],
 "metadata": {
  "kernelspec": {
   "display_name": "Python 3 (ipykernel)",
   "language": "python",
   "name": "python3"
  },
  "language_info": {
   "codemirror_mode": {
    "name": "ipython",
    "version": 3
   },
   "file_extension": ".py",
   "mimetype": "text/x-python",
   "name": "python",
   "nbconvert_exporter": "python",
   "pygments_lexer": "ipython3",
   "version": "3.12.4"
  }
 },
 "nbformat": 4,
 "nbformat_minor": 5
}
